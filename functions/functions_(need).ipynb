{
 "cells": [
  {
   "attachments": {},
   "cell_type": "markdown",
   "id": "123456",
   "metadata": {},
   "source": [
    "<div style=\"text-align:left;font-size:2em\"><span style=\"font-weight:bolder;font-size:1.25em\">SP2273 | Learning Portfolio</span><br><br><span style=\"font-weight:bold;color:darkred\">Functions (Need)</span></div>"
   ]
  },
  {
   "attachments": {},
   "cell_type": "markdown",
   "id": "fe8e00e5",
   "metadata": {},
   "source": [
    "# Chapter Summary"
   ]
  },
  {
   "cell_type": "markdown",
   "id": "fefa6a3e-5ba0-4971-9033-ebcd927abe97",
   "metadata": {},
   "source": [
    "- to create one's own functions:\n",
    "    - named `def function()`\n",
    "    - anonymous `function = lambda arguments: expression`\n",
    "- Other:\n",
    "    - `return` = get an output from the function, jumps out of function once return\n",
    "    - `sorted()` to sort numbers\n",
    "    - function can have optional arguments\n",
    "    - function don't always have to return anything"
   ]
  },
  {
   "attachments": {},
   "cell_type": "markdown",
   "id": "cc20ee84",
   "metadata": {},
   "source": [
    "# 1 User-defined functions"
   ]
  },
  {
   "attachments": {},
   "cell_type": "markdown",
   "id": "8e801889",
   "metadata": {},
   "source": [
    "## Named Functions"
   ]
  },
  {
   "cell_type": "markdown",
   "id": "119b68ce-3d76-47b6-8ec8-f6e9bd2d31f9",
   "metadata": {},
   "source": [
    "`def` = define the function  \n",
    "`return` = to get an output from the function, Python jumps out of the function with the return value  \n",
    "**!!!** a function doesn't have to return anything (e.g. print(), save data to a file)"
   ]
  },
  {
   "cell_type": "code",
   "execution_count": 1,
   "id": "9f2cf4c0-ffb5-40c7-91aa-c4a40f8550a6",
   "metadata": {},
   "outputs": [],
   "source": [
    "def greeting(name):\n",
    "    if name == 'Batman':\n",
    "        return 'Welcome back to Batcave! Bruce.'\n",
    "    else:\n",
    "        return f'Hello {name}!'"
   ]
  },
  {
   "cell_type": "markdown",
   "id": "a3026591-bd77-418d-8f91-8d8833e97581",
   "metadata": {},
   "source": [
    "- the function name is `greeting()`\n",
    "- it accepts a single argument called `name`  \n",
    "\n",
    "to use it:  "
   ]
  },
  {
   "cell_type": "code",
   "execution_count": 38,
   "id": "00003a2a-8b8f-4692-9d4b-42c146e22d7d",
   "metadata": {},
   "outputs": [
    {
     "data": {
      "text/plain": [
       "'looks like Nightwing is here!'"
      ]
     },
     "execution_count": 38,
     "metadata": {},
     "output_type": "execute_result"
    }
   ],
   "source": [
    "greeting('Nightwing')\n",
    "greeting(name = 'Nightwing')  # two forms"
   ]
  },
  {
   "cell_type": "markdown",
   "id": "d42696ee-084a-4398-8351-32b9e564b3b5",
   "metadata": {},
   "source": [
    "to pick up the returned value: "
   ]
  },
  {
   "cell_type": "code",
   "execution_count": 5,
   "id": "fae01047-9f32-477a-affd-19576caa88a2",
   "metadata": {},
   "outputs": [
    {
     "name": "stdout",
     "output_type": "stream",
     "text": [
      "Hello Nightwing!\n"
     ]
    }
   ],
   "source": [
    "greet = greeting(name='Nightwing')  # by assigning it to a variable\n",
    "print(greet)"
   ]
  },
  {
   "cell_type": "code",
   "execution_count": 7,
   "id": "36752fd0-189e-496f-a971-8a920e5e8fc9",
   "metadata": {},
   "outputs": [
    {
     "name": "stdout",
     "output_type": "stream",
     "text": [
      "Welcome back to Batcave! Bruce.\n"
     ]
    }
   ],
   "source": [
    "print(greeting(name='Batman'))      # or use it directly"
   ]
  },
  {
   "cell_type": "markdown",
   "id": "75f9ea14-f297-46ef-be12-b8f09c2bd440",
   "metadata": {},
   "source": [
    "QUESTION: the website states 'can only use `return` within a function', what does that mean?"
   ]
  },
  {
   "cell_type": "markdown",
   "id": "0365e701-b73b-4a22-af82-1a16af8134fd",
   "metadata": {},
   "source": [
    "using `return`:"
   ]
  },
  {
   "cell_type": "code",
   "execution_count": 14,
   "id": "f690cb76-891b-440b-8d8e-69748f7edafa",
   "metadata": {},
   "outputs": [
    {
     "name": "stdout",
     "output_type": "stream",
     "text": [
      "(5, 1, 3.0)\n"
     ]
    }
   ],
   "source": [
    "# a function that accepts a list and returns the max, min, and mean\n",
    "import numpy as np\n",
    "\n",
    "def basic_stats(numbers):\n",
    "    np_numbers = np.array(numbers)\n",
    "    my_min = np_numbers.min()\n",
    "    my_max = np_numbers.max()\n",
    "    my_mean = np_numbers.mean()\n",
    "    return my_max, my_min, my_mean\n",
    "\n",
    "# to use it\n",
    "stats = list_min, list_max, list_mean = basic_stats([1, 2, 3, 4, 5])\n",
    "print(stats)"
   ]
  },
  {
   "attachments": {},
   "cell_type": "markdown",
   "id": "cb8fd56c",
   "metadata": {},
   "source": [
    "## Anonymous functions"
   ]
  },
  {
   "cell_type": "markdown",
   "id": "e4e8cd5b-907e-4e5b-a184-5d837beb9ee5",
   "metadata": {},
   "source": [
    "- anonymous or lambda functions are suitable for short one-liners.\n",
    "- `lambda` function always returns the value of the last statement\n",
    "\n",
    "structure: `function = lambda arguments: expression` \n",
    "\n",
    "QUESTION: what does this 'last statement' refers to?"
   ]
  },
  {
   "cell_type": "code",
   "execution_count": 16,
   "id": "ca20ba11-8cf7-4ecd-be38-5405c2dd7b95",
   "metadata": {},
   "outputs": [
    {
     "data": {
      "text/plain": [
       "'Hello Superman!'"
      ]
     },
     "execution_count": 16,
     "metadata": {},
     "output_type": "execute_result"
    }
   ],
   "source": [
    "my_short_function = lambda name: f\"Hello {name}!\"\n",
    "my_short_function(name=\"Superman\")"
   ]
  },
  {
   "cell_type": "code",
   "execution_count": 21,
   "id": "927a5ded-64c6-4cc3-a07e-cff04e95db22",
   "metadata": {},
   "outputs": [
    {
     "data": {
      "text/plain": [
       "'3 - 1 equals 2'"
      ]
     },
     "execution_count": 21,
     "metadata": {},
     "output_type": "execute_result"
    }
   ],
   "source": [
    "math = lambda number: f'{number} - 1 equals {number - 1}'\n",
    "math(number=3)"
   ]
  },
  {
   "cell_type": "markdown",
   "id": "8b11e44e-6656-4981-8d3d-7758fa9357a7",
   "metadata": {},
   "source": [
    "using `sorted()` to sort a 2D list:"
   ]
  },
  {
   "cell_type": "code",
   "execution_count": 22,
   "id": "5ea69df9-dd8c-4fd6-bfdc-944735c5d766",
   "metadata": {},
   "outputs": [],
   "source": [
    "numbers=[[9, 0, -10],\n",
    "         [8, 1, -11],\n",
    "         [7, 2, -12],\n",
    "         [6, 3, -13],\n",
    "         [5, 4, -14],\n",
    "         [4, 5, -15],\n",
    "         [3, 6, -16],\n",
    "         [2, 7, -17],\n",
    "         [1, 8, -18],\n",
    "         [0, 9, -19]]"
   ]
  },
  {
   "cell_type": "code",
   "execution_count": 23,
   "id": "6e6b53a2-3319-482b-94d8-63b176546a80",
   "metadata": {},
   "outputs": [
    {
     "data": {
      "text/plain": [
       "[[0, 9, -19],\n",
       " [1, 8, -18],\n",
       " [2, 7, -17],\n",
       " [3, 6, -16],\n",
       " [4, 5, -15],\n",
       " [5, 4, -14],\n",
       " [6, 3, -13],\n",
       " [7, 2, -12],\n",
       " [8, 1, -11],\n",
       " [9, 0, -10]]"
      ]
     },
     "execution_count": 23,
     "metadata": {},
     "output_type": "execute_result"
    }
   ],
   "source": [
    "# Sort by comparing the default key\n",
    "# (i.e., the 1st element)\n",
    "sorted(numbers)"
   ]
  },
  {
   "cell_type": "markdown",
   "id": "b78e867e-3f95-4e85-ae07-6326422cca88",
   "metadata": {},
   "source": [
    "to use other criteria, need to specify a `key` that `sorted()` can use for comparison:"
   ]
  },
  {
   "cell_type": "code",
   "execution_count": 25,
   "id": "56731764-79ea-4e41-ada2-f162d9a8adf4",
   "metadata": {},
   "outputs": [
    {
     "data": {
      "text/plain": [
       "[[9, 0, -10],\n",
       " [8, 1, -11],\n",
       " [7, 2, -12],\n",
       " [6, 3, -13],\n",
       " [5, 4, -14],\n",
       " [4, 5, -15],\n",
       " [3, 6, -16],\n",
       " [2, 7, -17],\n",
       " [1, 8, -18],\n",
       " [0, 9, -19]]"
      ]
     },
     "execution_count": 25,
     "metadata": {},
     "output_type": "execute_result"
    }
   ],
   "source": [
    "# Sort by comparing a custom key\n",
    "# that uses the 2nd element (index=1)\n",
    "sorted(numbers, key=lambda x: x[1])"
   ]
  },
  {
   "cell_type": "markdown",
   "id": "30e7eed5-6c55-4c46-950a-3c1547ac84b4",
   "metadata": {},
   "source": [
    "QUESTION: ??????? how does `key=lambda x: x[1]` becomes index=1? What is this `x`"
   ]
  },
  {
   "cell_type": "code",
   "execution_count": 26,
   "id": "6bcac9b0-5510-4e0f-896e-ba994f7295ff",
   "metadata": {},
   "outputs": [
    {
     "data": {
      "text/plain": [
       "[[0, 9, -19],\n",
       " [1, 8, -18],\n",
       " [2, 7, -17],\n",
       " [3, 6, -16],\n",
       " [4, 5, -15],\n",
       " [5, 4, -14],\n",
       " [6, 3, -13],\n",
       " [7, 2, -12],\n",
       " [8, 1, -11],\n",
       " [9, 0, -10]]"
      ]
     },
     "execution_count": 26,
     "metadata": {},
     "output_type": "execute_result"
    }
   ],
   "source": [
    "# Sort by comparing a custom key\n",
    "# that uses the sum of the elements.\n",
    "sorted(numbers, key=lambda x: sum(x))"
   ]
  },
  {
   "cell_type": "markdown",
   "id": "cae3ca21-6e3a-47d8-b1bd-97dae21b8fa8",
   "metadata": {},
   "source": [
    "example combining **name & anonymous functions**:"
   ]
  },
  {
   "cell_type": "code",
   "execution_count": 27,
   "id": "49640370-3f26-427b-b93e-38de82fb530b",
   "metadata": {},
   "outputs": [
    {
     "name": "stdout",
     "output_type": "stream",
     "text": [
      "22\n"
     ]
    }
   ],
   "source": [
    "def myfunc(n):\n",
    "  return lambda a : a * n\n",
    "\n",
    "double = myfunc(2)\n",
    "\n",
    "print(double(11))"
   ]
  },
  {
   "attachments": {},
   "cell_type": "markdown",
   "id": "dcf04d35",
   "metadata": {},
   "source": [
    "## Optional arguments"
   ]
  },
  {
   "cell_type": "markdown",
   "id": "ba8bfae3-5c0d-4a8a-85c6-458a8647ef92",
   "metadata": {},
   "source": [
    "to make arguments to our function **optional**:  \n",
    "gives the argument a **default** value so it always has something to work with"
   ]
  },
  {
   "cell_type": "code",
   "execution_count": 44,
   "id": "3c63c575-a902-4ab1-a68a-86d98e5a78f1",
   "metadata": {},
   "outputs": [
    {
     "name": "stdout",
     "output_type": "stream",
     "text": [
      "Welcome back to Batcave! Bruce.\n",
      "looks like asdfajs;dg is here!\n",
      "looks like no one is here!\n"
     ]
    }
   ],
   "source": [
    "def greeting(name='no one'):\n",
    "    if name == 'Batman':\n",
    "        return 'Welcome back to Batcave! Bruce.'\n",
    "    else:\n",
    "        return f'looks like {name} is here!'\n",
    "\n",
    "print(greeting(name = 'Batman'))\n",
    "print(greeting(name = 'asdfajs;dg'))\n",
    "print(greeting())"
   ]
  },
  {
   "cell_type": "markdown",
   "id": "58b12dd2-a873-4f9e-b05c-9f85688c57a9",
   "metadata": {},
   "source": [
    "`print()` can accept other arguments that are optional with default values:"
   ]
  },
  {
   "cell_type": "code",
   "execution_count": 45,
   "id": "a0aa668e-0564-4627-8f0c-6e31846238d9",
   "metadata": {},
   "outputs": [
    {
     "data": {
      "text/plain": [
       "\u001b[1;31mSignature:\u001b[0m \u001b[0mprint\u001b[0m\u001b[1;33m(\u001b[0m\u001b[1;33m*\u001b[0m\u001b[0margs\u001b[0m\u001b[1;33m,\u001b[0m \u001b[0msep\u001b[0m\u001b[1;33m=\u001b[0m\u001b[1;34m' '\u001b[0m\u001b[1;33m,\u001b[0m \u001b[0mend\u001b[0m\u001b[1;33m=\u001b[0m\u001b[1;34m'\\n'\u001b[0m\u001b[1;33m,\u001b[0m \u001b[0mfile\u001b[0m\u001b[1;33m=\u001b[0m\u001b[1;32mNone\u001b[0m\u001b[1;33m,\u001b[0m \u001b[0mflush\u001b[0m\u001b[1;33m=\u001b[0m\u001b[1;32mFalse\u001b[0m\u001b[1;33m)\u001b[0m\u001b[1;33m\u001b[0m\u001b[1;33m\u001b[0m\u001b[0m\n",
       "\u001b[1;31mDocstring:\u001b[0m\n",
       "Prints the values to a stream, or to sys.stdout by default.\n",
       "\n",
       "sep\n",
       "  string inserted between values, default a space.\n",
       "end\n",
       "  string appended after the last value, default a newline.\n",
       "file\n",
       "  a file-like object (stream); defaults to the current sys.stdout.\n",
       "flush\n",
       "  whether to forcibly flush the stream.\n",
       "\u001b[1;31mType:\u001b[0m      builtin_function_or_method"
      ]
     },
     "metadata": {},
     "output_type": "display_data"
    }
   ],
   "source": [
    "?print"
   ]
  },
  {
   "cell_type": "code",
   "execution_count": 46,
   "id": "77ce0b43-f4b8-4934-bdeb-43b62742a0bb",
   "metadata": {},
   "outputs": [
    {
     "name": "stdout",
     "output_type": "stream",
     "text": [
      "I am Batman!\n",
      "I---am---Batman!\n"
     ]
    }
   ],
   "source": [
    "# Using default values\n",
    "print('I', 'am', 'Batman!')\n",
    "# Specifying an optional argument\n",
    "print('I', 'am', 'Batman!', sep='---')  "
   ]
  },
  {
   "attachments": {},
   "cell_type": "markdown",
   "id": "2cbee518",
   "metadata": {},
   "source": [
    "## 1.4 The importance of functions?"
   ]
  },
  {
   "attachments": {},
   "cell_type": "markdown",
   "id": "7395f0af",
   "metadata": {},
   "source": [
    "### An argument for functions"
   ]
  },
  {
   "cell_type": "markdown",
   "id": "9c28b6c6-c34b-43d3-9123-888cf004df14",
   "metadata": {},
   "source": [
    "- break up a complicated solution into modular chunks\n",
    "- easier to think about it (= not dealing with all the details at once)\n",
    "- easier to focus on the overall solution\n",
    "- abstraction = 'hiding' of 'unnecessar information'\n",
    "\n",
    "with function:  \n",
    "- reusability of code\n",
    "    - shorter and more compact code instead of copy-pasting\n",
    "- maintainability of code\n",
    "    - easier to change and maintain, just need to change the function definition"
   ]
  },
  {
   "attachments": {},
   "cell_type": "markdown",
   "id": "a93fcb83",
   "metadata": {},
   "source": [
    "### A word of caution"
   ]
  },
  {
   "cell_type": "markdown",
   "id": "750c443a-f581-4841-9223-42420098f918",
   "metadata": {},
   "source": [
    "function abused:  \n",
    "trying to do too many things or having too many arguments  \n",
    "\n",
    "function overused:  \n",
    "difficult to read the code, increase computational overheads"
   ]
  }
 ],
 "metadata": {
  "kernelspec": {
   "display_name": "Python 3 (ipykernel)",
   "language": "python",
   "name": "python3"
  },
  "language_info": {
   "codemirror_mode": {
    "name": "ipython",
    "version": 3
   },
   "file_extension": ".py",
   "mimetype": "text/x-python",
   "name": "python",
   "nbconvert_exporter": "python",
   "pygments_lexer": "ipython3",
   "version": "3.11.5"
  },
  "toc": {
   "base_numbering": 1,
   "nav_menu": {},
   "number_sections": true,
   "sideBar": true,
   "skip_h1_title": false,
   "title_cell": "Table of Contents",
   "title_sidebar": "Contents",
   "toc_cell": false,
   "toc_position": {},
   "toc_section_display": true,
   "toc_window_display": false
  },
  "vscode": {
   "interpreter": {
    "hash": "31f2aee4e71d21fbe5cf8b01ff0e069b9275f58929596ceb00d14d90e3e16cd6"
   }
  }
 },
 "nbformat": 4,
 "nbformat_minor": 5
}
