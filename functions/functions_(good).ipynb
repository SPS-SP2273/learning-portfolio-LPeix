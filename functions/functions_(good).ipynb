{
 "cells": [
  {
   "attachments": {},
   "cell_type": "markdown",
   "id": "123456",
   "metadata": {},
   "source": [
    "<div style=\"text-align:left;font-size:2em\"><span style=\"font-weight:bolder;font-size:1.25em\">SP2273 | Learning Portfolio</span><br><br><span style=\"font-weight:bold;color:darkred\">Functions (Good)</span></div>"
   ]
  },
  {
   "attachments": {},
   "cell_type": "markdown",
   "id": "c1057b9c",
   "metadata": {},
   "source": [
    "# Chapter Summary"
   ]
  },
  {
   "cell_type": "markdown",
   "id": "182ba51f-0880-4c79-adf3-75e00ea3cde2",
   "metadata": {},
   "source": [
    "- `assert` to check a condition and throw error message\n",
    "- `try-except` allows alternatives when exceptions appear\n",
    "    - exception: the error\n",
    "    - `try` block: code with potential errors\n",
    "    - `except` block: the alternative control\n",
    "- three ways to pass arguments, can be combined\n",
    "    1. positional\n",
    "    2. keyword\n",
    "    3. default\n",
    "- docstring: document what a function does in side a function, display it using `help()`\n",
    "- function can be pass as argument, but do not use `()` when doing so\n",
    "- more unpacking `[1, 2, 3, 4, 5]`\n",
    "    - `x, *y, z` --> `(1, [2, 3, 4], 5)` \n",
    "    - `x, *_, z` --> `(1, 5)`"
   ]
  },
  {
   "attachments": {},
   "cell_type": "markdown",
   "id": "49fcde2a",
   "metadata": {},
   "source": [
    "# Checks, balances, and contingencies"
   ]
  },
  {
   "attachments": {},
   "cell_type": "markdown",
   "id": "0fff6bea",
   "metadata": {},
   "source": [
    "##  assert"
   ]
  },
  {
   "cell_type": "markdown",
   "id": "f8e0efc2-a812-4ed3-8bee-c20ab22d5601",
   "metadata": {},
   "source": [
    "`assert` checks a condition and halts execution if necessary, also gives the option of printing a message  \n",
    "structure: `assert condition_to_check, message`  \n",
    "- it stops the flow if the condition **fails**\n",
    "- program will run as long as the condition is `True`, once fails, an `AssertationError` is raised, the program stops running"
   ]
  },
  {
   "cell_type": "code",
   "execution_count": 2,
   "id": "8eab409d-09f1-477f-8157-219a5b232fe9",
   "metadata": {},
   "outputs": [],
   "source": [
    "x = 10          # program will run\n",
    "assert x >= 0, 'x is becoming negative!'"
   ]
  },
  {
   "cell_type": "code",
   "execution_count": 3,
   "id": "a490d283-7265-4c20-85c7-ad0186245b69",
   "metadata": {},
   "outputs": [
    {
     "ename": "AssertionError",
     "evalue": "x is becoming negative!",
     "output_type": "error",
     "traceback": [
      "\u001b[1;31m---------------------------------------------------------------------------\u001b[0m",
      "\u001b[1;31mAssertionError\u001b[0m                            Traceback (most recent call last)",
      "Cell \u001b[1;32mIn[3], line 2\u001b[0m\n\u001b[0;32m      1\u001b[0m x \u001b[38;5;241m=\u001b[39m \u001b[38;5;241m-\u001b[39m\u001b[38;5;241m1\u001b[39m          \u001b[38;5;66;03m# program will throw an error and stop\u001b[39;00m\n\u001b[1;32m----> 2\u001b[0m \u001b[38;5;28;01massert\u001b[39;00m x \u001b[38;5;241m>\u001b[39m\u001b[38;5;241m=\u001b[39m \u001b[38;5;241m0\u001b[39m, \u001b[38;5;124m'\u001b[39m\u001b[38;5;124mx is becoming negative!\u001b[39m\u001b[38;5;124m'\u001b[39m\n",
      "\u001b[1;31mAssertionError\u001b[0m: x is becoming negative!"
     ]
    }
   ],
   "source": [
    "x = -1          # program will throw an error and stop\n",
    "assert x >= 0, 'x is becoming negative!'"
   ]
  },
  {
   "attachments": {},
   "cell_type": "markdown",
   "id": "d3deeb14",
   "metadata": {},
   "source": [
    "## try-except"
   ]
  },
  {
   "cell_type": "markdown",
   "id": "a9d00aab-5bb8-4734-9d67-d7cd9b264d2a",
   "metadata": {},
   "source": [
    "exceptions = things going wrong,  \n",
    "e.g.  \n",
    "`ZeroDivisionError` = division by zero\n",
    "\n",
    "`try-except` ensure the programme can handle exceptions\n",
    "- `try` block: code we think can potentially lead to trouble\n",
    "- `except` block: for Python to ignore the error and run this instead, can have condition"
   ]
  },
  {
   "cell_type": "markdown",
   "id": "95b78bf6-f6ac-40df-a917-c60c8710e857",
   "metadata": {},
   "source": [
    "e.g.  \n",
    "exception: input is not a number, cannot be `int(number)`  "
   ]
  },
  {
   "cell_type": "code",
   "execution_count": 4,
   "id": "e6910b9d-4af5-44d6-9828-8e275d865920",
   "metadata": {},
   "outputs": [
    {
     "name": "stdin",
     "output_type": "stream",
     "text": [
      "Give me a number and I will calculate its square. asdfn;aowegtiw\n"
     ]
    },
    {
     "name": "stdout",
     "output_type": "stream",
     "text": [
      "Oh oh! I cannot square asdfn;aowegtiw!\n"
     ]
    }
   ],
   "source": [
    "try:\n",
    "    number=input(\"Give me a number and I will calculate its square.\")\n",
    "    square=int(number)**2\n",
    "    print(f'The square of {number} is {square}!')\n",
    "except:\n",
    "    print(f\"Oh oh! I cannot square {number}!\")"
   ]
  },
  {
   "attachments": {},
   "cell_type": "markdown",
   "id": "e702ab44",
   "metadata": {},
   "source": [
    "## A simple suggestion"
   ]
  },
  {
   "cell_type": "markdown",
   "id": "3c5c8ce3-9fd8-4619-8e28-29164a890784",
   "metadata": {},
   "source": [
    "- good to signal to the outside world that your code has finished certain milestones (to check)\n",
    "- use `print()` statements here and there"
   ]
  },
  {
   "attachments": {},
   "cell_type": "markdown",
   "id": "d10ed8d4",
   "metadata": {},
   "source": [
    "# Some loose ends"
   ]
  },
  {
   "attachments": {},
   "cell_type": "markdown",
   "id": "1a734453",
   "metadata": {},
   "source": [
    "## Positional, keyword and default arguments"
   ]
  },
  {
   "cell_type": "markdown",
   "id": "041a047c-1edc-4ce8-827a-0def30219188",
   "metadata": {},
   "source": [
    "three ways to pass a value to an argument:"
   ]
  },
  {
   "cell_type": "code",
   "execution_count": 9,
   "id": "fc45e1f9-8e23-4e90-a0e6-69b18dfc130f",
   "metadata": {},
   "outputs": [],
   "source": [
    "def side_by_side(a, b, c=42):\n",
    "    return f'{a: 2d}|{b: 2d}|{c: 2d}'"
   ]
  },
  {
   "cell_type": "markdown",
   "id": "55094f26-ec25-42d2-a047-a87f4c832a94",
   "metadata": {},
   "source": [
    "QUESTION: what does the `2d` mean in this code?"
   ]
  },
  {
   "cell_type": "markdown",
   "id": "219abafe-89e5-42a8-85aa-5a38636c5c70",
   "metadata": {},
   "source": [
    "1. **positional**: telling Python to assign `1, 2, 3` to `a, b, c` using positional order of the arguments"
   ]
  },
  {
   "cell_type": "code",
   "execution_count": 7,
   "id": "78d92aaf-605d-4025-8696-fff3c6e46c80",
   "metadata": {},
   "outputs": [
    {
     "data": {
      "text/plain": [
       "' 1| 2| 3'"
      ]
     },
     "execution_count": 7,
     "metadata": {},
     "output_type": "execute_result"
    }
   ],
   "source": [
    "side_by_side(1, 2, 3)"
   ]
  },
  {
   "cell_type": "markdown",
   "id": "8d528dd7-1923-4018-9801-53096057fedb",
   "metadata": {},
   "source": [
    "2. **keywords**: explicitly specify the keyword to assign the values to each of `a, b, c`, the order doesn't matter"
   ]
  },
  {
   "cell_type": "code",
   "execution_count": 6,
   "id": "15c89808-9a1e-4d2f-81d1-23b5cce1e0e4",
   "metadata": {},
   "outputs": [
    {
     "data": {
      "text/plain": [
       "' 2| 1| 3'"
      ]
     },
     "execution_count": 6,
     "metadata": {},
     "output_type": "execute_result"
    }
   ],
   "source": [
    "side_by_side(c=3, b=1, a=2)"
   ]
  },
  {
   "cell_type": "markdown",
   "id": "e4cde937-9e8f-4e07-ae8f-812d882b934e",
   "metadata": {},
   "source": [
    "3. **default**: here, since `c` is optional, can choose not to specify it"
   ]
  },
  {
   "cell_type": "code",
   "execution_count": 8,
   "id": "2bb5f7ad-2480-45d0-bd49-4806ec37c211",
   "metadata": {},
   "outputs": [
    {
     "data": {
      "text/plain": [
       "' 1| 2| 42'"
      ]
     },
     "execution_count": 8,
     "metadata": {},
     "output_type": "execute_result"
    }
   ],
   "source": [
    "side_by_side(1, b=2)"
   ]
  },
  {
   "cell_type": "markdown",
   "id": "cd4b6137-3068-4ed9-a679-e3931c5a0395",
   "metadata": {},
   "source": [
    "**!!!** the three styles CAN be combined, but keywords followed by positional arguments DOES NOT work becuase Python cannot unambiguously determine the latter's position "
   ]
  },
  {
   "attachments": {},
   "cell_type": "markdown",
   "id": "313eb063",
   "metadata": {},
   "source": [
    "## Docstrings"
   ]
  },
  {
   "cell_type": "markdown",
   "id": "47f897af-4f66-49e1-86e9-9032da81a10d",
   "metadata": {},
   "source": [
    "**docstring** = document what a function does inside the function  \n",
    "- the documentation is displayed when we use `help()`  \n",
    "- needs to be sandwiched between a pair of `'''` or `\"\"\"`\n",
    "- can span multiple lines\n",
    "- (can be used for writing multiline comments, but don't misuse it!)"
   ]
  },
  {
   "cell_type": "code",
   "execution_count": 11,
   "id": "95bb1970-25f6-43d3-b293-d391926ca22f",
   "metadata": {},
   "outputs": [],
   "source": [
    "def side_by_side(a, b, c=42):\n",
    "    '''\n",
    "    A test function to demonstrate how \n",
    "    positional, keyword and default arguments \n",
    "    work.\n",
    "    '''\n",
    "    return f'{a: 2d}|{b: 2d}|{c: 2d}'"
   ]
  },
  {
   "cell_type": "code",
   "execution_count": 12,
   "id": "4a80b9e0-785b-4ad7-8993-d68846dd2234",
   "metadata": {},
   "outputs": [
    {
     "name": "stdout",
     "output_type": "stream",
     "text": [
      "Help on function side_by_side in module __main__:\n",
      "\n",
      "side_by_side(a, b, c=42)\n",
      "    A test function to demonstrate how \n",
      "    positional, keyword and default arguments \n",
      "    work.\n",
      "\n"
     ]
    }
   ],
   "source": [
    "help(side_by_side)"
   ]
  },
  {
   "attachments": {},
   "cell_type": "markdown",
   "id": "10995f1c",
   "metadata": {},
   "source": [
    "## Function are first-class citizens"
   ]
  },
  {
   "cell_type": "markdown",
   "id": "8d1eb04f-072d-46c5-826d-e6aa71dde364",
   "metadata": {},
   "source": [
    "Python functions can be passed as an argument to another function  \n",
    "**!!!** when passing function as an argument, DO NOT include the parenthesis `()`"
   ]
  },
  {
   "cell_type": "code",
   "execution_count": 13,
   "id": "9409f123-7c5c-44fe-9687-3cead4a4d97c",
   "metadata": {},
   "outputs": [
    {
     "data": {
      "text/plain": [
       "-1.0"
      ]
     },
     "execution_count": 13,
     "metadata": {},
     "output_type": "execute_result"
    }
   ],
   "source": [
    "import numpy as np\n",
    "def my_function(angle, trig_function):\n",
    "        return trig_function(angle)\n",
    "\n",
    "# Let's use the function\n",
    "my_function(np.pi/2, np.sin)        \n",
    "## 1.0\n",
    "my_function(np.pi/2, np.cos)        \n",
    "## 6.123233995736766e-17\n",
    "my_function(np.pi/2, lambda x: np.cos(2*x))  \n",
    "## -1.0"
   ]
  },
  {
   "attachments": {},
   "cell_type": "markdown",
   "id": "a38e88aa",
   "metadata": {},
   "source": [
    "## More about unpacking"
   ]
  },
  {
   "cell_type": "code",
   "execution_count": 14,
   "id": "06401f5f-af76-4be0-b846-f50eaedf86eb",
   "metadata": {},
   "outputs": [
    {
     "data": {
      "text/plain": [
       "(1, 2, 3)"
      ]
     },
     "execution_count": 14,
     "metadata": {},
     "output_type": "execute_result"
    }
   ],
   "source": [
    "x, y, z = [1, 2, 3]\n",
    "x, y, z"
   ]
  },
  {
   "cell_type": "code",
   "execution_count": 15,
   "id": "1b8c8b11-a087-42b2-ab0b-5834ea3d7466",
   "metadata": {},
   "outputs": [
    {
     "data": {
      "text/plain": [
       "(1, 2, 3)"
      ]
     },
     "execution_count": 15,
     "metadata": {},
     "output_type": "execute_result"
    }
   ],
   "source": [
    "x, y, z = np.array([1, 2, 3])\n",
    "x, y, z"
   ]
  },
  {
   "cell_type": "code",
   "execution_count": 16,
   "id": "55d5d505-6636-4a46-9521-e1afbae2acf8",
   "metadata": {},
   "outputs": [
    {
     "data": {
      "text/plain": [
       "(1, [2, 3, 4], 5)"
      ]
     },
     "execution_count": 16,
     "metadata": {},
     "output_type": "execute_result"
    }
   ],
   "source": [
    "x, *y, z = np.array([1, 2, 3, 4, 5])\n",
    "x, y, z"
   ]
  },
  {
   "cell_type": "code",
   "execution_count": 20,
   "id": "68776e39-1cdb-46f7-9139-29b64d89bbf3",
   "metadata": {},
   "outputs": [
    {
     "data": {
      "text/plain": [
       "(1, 5)"
      ]
     },
     "execution_count": 20,
     "metadata": {},
     "output_type": "execute_result"
    }
   ],
   "source": [
    "x, *_, z = [1, 2, 3, 4, 5]\n",
    "x, z"
   ]
  },
  {
   "cell_type": "markdown",
   "id": "c1f044d6-ff61-437e-907d-9cac5f33dbbf",
   "metadata": {},
   "source": [
    "QUESTION: how come the list becomes a tuple"
   ]
  }
 ],
 "metadata": {
  "kernelspec": {
   "display_name": "Python 3 (ipykernel)",
   "language": "python",
   "name": "python3"
  },
  "language_info": {
   "codemirror_mode": {
    "name": "ipython",
    "version": 3
   },
   "file_extension": ".py",
   "mimetype": "text/x-python",
   "name": "python",
   "nbconvert_exporter": "python",
   "pygments_lexer": "ipython3",
   "version": "3.11.5"
  },
  "toc": {
   "base_numbering": 1,
   "nav_menu": {},
   "number_sections": true,
   "sideBar": true,
   "skip_h1_title": false,
   "title_cell": "Table of Contents",
   "title_sidebar": "Contents",
   "toc_cell": false,
   "toc_position": {},
   "toc_section_display": true,
   "toc_window_display": false
  },
  "vscode": {
   "interpreter": {
    "hash": "31f2aee4e71d21fbe5cf8b01ff0e069b9275f58929596ceb00d14d90e3e16cd6"
   }
  }
 },
 "nbformat": 4,
 "nbformat_minor": 5
}
