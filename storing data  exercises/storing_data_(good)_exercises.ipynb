{
 "cells": [
  {
   "attachments": {},
   "cell_type": "markdown",
   "id": "123456",
   "metadata": {},
   "source": [
    "<div style=\"text-align:left;font-size:2em\"><span style=\"font-weight:bolder;font-size:1.25em\">SP2273 | Learning Portfolio</span><br><br><span style=\"font-weight:bold;color:darkred\">Storing Data (Good) Exercises</span></div>"
   ]
  },
  {
   "cell_type": "markdown",
   "id": "6108c525-7650-4b5f-a8b4-1372c4a16c5a",
   "metadata": {},
   "source": [
    "# Exercise 1"
   ]
  },
  {
   "cell_type": "markdown",
   "id": "4af3be69-c497-4ea6-9bda-c414e0548a38",
   "metadata": {},
   "source": [
    "subsetting = select  \n",
    "indexing = select a specific element  \n",
    "slicing = select a range of element  \n",
    "masking = show only element that satisfies the masking criteria"
   ]
  },
  {
   "cell_type": "markdown",
   "id": "ab958c82-1dbd-4b14-8ed1-7ead4cc638e0",
   "metadata": {},
   "source": [
    "# Exercise 2"
   ]
  },
  {
   "cell_type": "code",
   "execution_count": 2,
   "id": "d7269b5d-387b-4ad5-b73c-5f138facab53",
   "metadata": {},
   "outputs": [],
   "source": [
    "import numpy as np\n",
    "np_array_2d = np.array([[1, \"A\"], [3, \"C\"], [2, \"B\"], [4, \"D\"],\n",
    "                        [5, \"E\"], [7, \"G\"], [6, \"F\"], [8, \"H\"],\n",
    "                        [10, \"J\"], [9, \"I\"]])"
   ]
  },
  {
   "cell_type": "code",
   "execution_count": 6,
   "id": "06896e3c-2aa9-4070-9f3a-1b14f544fa5d",
   "metadata": {},
   "outputs": [
    {
     "data": {
      "text/plain": [
       "array(['1', '3', '2', '4', '5', '7', '6', '8', '10', '9'], dtype='<U11')"
      ]
     },
     "execution_count": 6,
     "metadata": {},
     "output_type": "execute_result"
    }
   ],
   "source": [
    "number_array = np_array_2d[:,0]\n",
    "number_array"
   ]
  },
  {
   "cell_type": "code",
   "execution_count": 11,
   "id": "412d4a6b-8b76-4465-9b08-5d49d3cd31cd",
   "metadata": {},
   "outputs": [
    {
     "data": {
      "text/plain": [
       "array([ 1,  3,  2,  4,  5,  7,  6,  8, 10,  9])"
      ]
     },
     "execution_count": 11,
     "metadata": {},
     "output_type": "execute_result"
    }
   ],
   "source": [
    "intnumber_array = number_array.astype(int)\n",
    "intnumber_array"
   ]
  },
  {
   "cell_type": "code",
   "execution_count": 13,
   "id": "11e3752d-af88-477a-b34b-319ed3d2de17",
   "metadata": {},
   "outputs": [
    {
     "data": {
      "text/plain": [
       "array([1, 1, 0, 0, 1, 1, 0, 0, 0, 1], dtype=int32)"
      ]
     },
     "execution_count": 13,
     "metadata": {},
     "output_type": "execute_result"
    }
   ],
   "source": [
    "rmnumber_array = intnumber_array%2\n",
    "rmnumber_array"
   ]
  },
  {
   "cell_type": "code",
   "execution_count": 16,
   "id": "1a02347a-c59e-4a08-946a-1330c26b6667",
   "metadata": {},
   "outputs": [
    {
     "data": {
      "text/plain": [
       "array([ True,  True, False, False,  True,  True, False, False, False,\n",
       "        True])"
      ]
     },
     "execution_count": 16,
     "metadata": {},
     "output_type": "execute_result"
    }
   ],
   "source": [
    "mask = rmnumber_array == 1\n",
    "mask"
   ]
  },
  {
   "cell_type": "code",
   "execution_count": 19,
   "id": "0137f514-c29f-4bcb-b169-66954c2b2822",
   "metadata": {},
   "outputs": [
    {
     "data": {
      "text/plain": [
       "array([['1', 'A'],\n",
       "       ['3', 'C'],\n",
       "       ['5', 'E'],\n",
       "       ['7', 'G'],\n",
       "       ['9', 'I']], dtype='<U11')"
      ]
     },
     "execution_count": 19,
     "metadata": {},
     "output_type": "execute_result"
    }
   ],
   "source": [
    "np_array_2d[mask]"
   ]
  },
  {
   "cell_type": "code",
   "execution_count": 20,
   "id": "e4ed2d07-bec8-4f3e-b1a5-9d110c4b9786",
   "metadata": {},
   "outputs": [
    {
     "data": {
      "text/plain": [
       "array(['A', 'C', 'E', 'G', 'I'], dtype='<U11')"
      ]
     },
     "execution_count": 20,
     "metadata": {},
     "output_type": "execute_result"
    }
   ],
   "source": [
    "np_array_2d[mask][:,1]"
   ]
  },
  {
   "cell_type": "markdown",
   "id": "31175747-476d-459b-a233-2daf8fc185b3",
   "metadata": {},
   "source": [
    "QUESTION: is there any other ways (e.g. funciton to detect odd number) to make the code shorter?"
   ]
  },
  {
   "cell_type": "markdown",
   "id": "c24d838d-6d79-4aaa-9348-a60d7caeba54",
   "metadata": {},
   "source": [
    "*from tutor's comments:*  \n",
    "(on loops)"
   ]
  },
  {
   "cell_type": "code",
   "execution_count": 2,
   "id": "67386c26-527f-4b42-a7dc-87eb5e551aaa",
   "metadata": {},
   "outputs": [
    {
     "name": "stdout",
     "output_type": "stream",
     "text": [
      "['A', 'C', 'E', 'G', 'I']\n"
     ]
    }
   ],
   "source": [
    "testlist = [[1, \"A\"], [3, \"C\"], [2, \"B\"], [4, \"D\"], [5, \"E\"], [7, \"G\"], [6, \"F\"], [8, \"H\"], [10, \"J\"], [9, \"I\"]]\n",
    "print([i[1] for i in testlist if i[0]%2==1])"
   ]
  }
 ],
 "metadata": {
  "kernelspec": {
   "display_name": "Python 3 (ipykernel)",
   "language": "python",
   "name": "python3"
  },
  "language_info": {
   "codemirror_mode": {
    "name": "ipython",
    "version": 3
   },
   "file_extension": ".py",
   "mimetype": "text/x-python",
   "name": "python",
   "nbconvert_exporter": "python",
   "pygments_lexer": "ipython3",
   "version": "3.11.5"
  },
  "toc": {
   "base_numbering": 1,
   "nav_menu": {},
   "number_sections": true,
   "sideBar": true,
   "skip_h1_title": false,
   "title_cell": "Table of Contents",
   "title_sidebar": "Contents",
   "toc_cell": false,
   "toc_position": {},
   "toc_section_display": true,
   "toc_window_display": false
  },
  "vscode": {
   "interpreter": {
    "hash": "31f2aee4e71d21fbe5cf8b01ff0e069b9275f58929596ceb00d14d90e3e16cd6"
   }
  }
 },
 "nbformat": 4,
 "nbformat_minor": 5
}
