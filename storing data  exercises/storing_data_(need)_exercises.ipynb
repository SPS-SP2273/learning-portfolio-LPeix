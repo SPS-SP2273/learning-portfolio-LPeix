{
 "cells": [
  {
   "attachments": {},
   "cell_type": "markdown",
   "id": "123456",
   "metadata": {},
   "source": [
    "<div style=\"text-align:left;font-size:2em\"><span style=\"font-weight:bolder;font-size:1.25em\">SP2273 | Learning Portfolio</span><br><br><span style=\"font-weight:bold;color:darkred\">Storing Data (Need) Exercises</span></div>"
   ]
  },
  {
   "cell_type": "markdown",
   "id": "06381d54-afdf-4c98-b858-52363ef5160f",
   "metadata": {},
   "source": [
    "# Exercise 1"
   ]
  },
  {
   "cell_type": "markdown",
   "id": "b5d0a23f-713d-4a38-b67f-2f12d7a86d8f",
   "metadata": {},
   "source": [
    "1. Two similarities between lists and arrays.\n",
    "   - lists and arrays are used to store data\n",
    "   - both lists and arrays use index to access data\n",
    "1. Two differences between lists and arrays.  \n",
    "   - operation on list applies to the whole list, while operation on array applies to individual element in the array\n",
    "   - list can hold multiple types of data, while array can only hold one type of data  \n",
    "1. What is a dictionary?\n",
    "   - dictionary uses key-value strucutre to store and allows manipulation on data"
   ]
  },
  {
   "cell_type": "markdown",
   "id": "ad723bb1-3401-4f84-ae9f-22e27c0dbb5d",
   "metadata": {},
   "source": [
    "# Exercise 2"
   ]
  },
  {
   "cell_type": "code",
   "execution_count": 1,
   "id": "1b08890d-12d7-4ff4-aadb-438fd93859ca",
   "metadata": {},
   "outputs": [
    {
     "name": "stdout",
     "output_type": "stream",
     "text": [
      "a1\n",
      "c3\n",
      "e5\n",
      "g7\n",
      "i9\n"
     ]
    }
   ],
   "source": [
    "py_list = [\"a1\", \"b2\", \"c3\", \"d4\", \"e5\", \"f6\", \"g7\", \"h8\", \"i9\", \"j10\"]\n",
    "print(py_list[0])   # Prints 'a1'\n",
    "print(py_list[2])   # Prints 'c3'\n",
    "print(py_list[4])   # Prints 'e5'\n",
    "print(py_list[6])   # Prints 'g7'\n",
    "print(py_list[8])   # Prints 'i9'"
   ]
  },
  {
   "cell_type": "markdown",
   "id": "1adcc4d6-8312-4074-bafd-e39a3ade8bf1",
   "metadata": {},
   "source": [
    "# Exercise 3"
   ]
  },
  {
   "cell_type": "code",
   "execution_count": 3,
   "id": "6c5b7d0b-ce92-40e9-a9b0-dff49b200c58",
   "metadata": {},
   "outputs": [
    {
     "name": "stdout",
     "output_type": "stream",
     "text": [
      "Boron\n",
      "Boron\n"
     ]
    }
   ],
   "source": [
    "elements = ['Hydrogen',\n",
    "            'Helium',\n",
    "            'Lithium',\n",
    "            'Beryllium',\n",
    "            'Boron',\n",
    "            'Carbon',\n",
    "            'Nitrogen',\n",
    "            'Oxygen',\n",
    "            'Fluorine',\n",
    "            'Neon']\n",
    "\n",
    "print(elements[4])\n",
    "print(elements[-6])"
   ]
  },
  {
   "cell_type": "markdown",
   "id": "fffbd79e-3430-40bc-9b1d-83e9c0d7c1cf",
   "metadata": {},
   "source": [
    "# Exercise 4"
   ]
  },
  {
   "cell_type": "code",
   "execution_count": 11,
   "id": "f288438a-4b9c-46ca-8b66-e8f7cfcc151b",
   "metadata": {},
   "outputs": [
    {
     "ename": "TypeError",
     "evalue": "'bool' object is not iterable",
     "output_type": "error",
     "traceback": [
      "\u001b[1;31m---------------------------------------------------------------------------\u001b[0m",
      "\u001b[1;31mTypeError\u001b[0m                                 Traceback (most recent call last)",
      "Cell \u001b[1;32mIn[11], line 9\u001b[0m\n\u001b[0;32m      2\u001b[0m numbers\u001b[38;5;241m=\u001b[39m[\u001b[38;5;241m45\u001b[39m, \u001b[38;5;241m60\u001b[39m, \u001b[38;5;241m1\u001b[39m, \u001b[38;5;241m30\u001b[39m, \u001b[38;5;241m96\u001b[39m, \u001b[38;5;241m1\u001b[39m, \u001b[38;5;241m96\u001b[39m, \u001b[38;5;241m57\u001b[39m, \u001b[38;5;241m16\u001b[39m, \u001b[38;5;241m1\u001b[39m,\n\u001b[0;32m      3\u001b[0m         \u001b[38;5;241m99\u001b[39m, \u001b[38;5;241m62\u001b[39m, \u001b[38;5;241m86\u001b[39m, \u001b[38;5;241m43\u001b[39m, \u001b[38;5;241m42\u001b[39m, \u001b[38;5;241m60\u001b[39m, \u001b[38;5;241m59\u001b[39m, \u001b[38;5;241m1\u001b[39m, \u001b[38;5;241m1\u001b[39m, \u001b[38;5;241m35\u001b[39m,\n\u001b[0;32m      4\u001b[0m         \u001b[38;5;241m83\u001b[39m, \u001b[38;5;241m47\u001b[39m, \u001b[38;5;241m34\u001b[39m, \u001b[38;5;241m28\u001b[39m, \u001b[38;5;241m68\u001b[39m, \u001b[38;5;241m23\u001b[39m, \u001b[38;5;241m22\u001b[39m, \u001b[38;5;241m92\u001b[39m, \u001b[38;5;241m1\u001b[39m, \u001b[38;5;241m79\u001b[39m,\n\u001b[0;32m      5\u001b[0m         \u001b[38;5;241m1\u001b[39m, \u001b[38;5;241m29\u001b[39m, \u001b[38;5;241m94\u001b[39m, \u001b[38;5;241m72\u001b[39m, \u001b[38;5;241m46\u001b[39m, \u001b[38;5;241m47\u001b[39m, \u001b[38;5;241m1\u001b[39m, \u001b[38;5;241m74\u001b[39m, \u001b[38;5;241m32\u001b[39m, \u001b[38;5;241m20\u001b[39m,\n\u001b[0;32m      6\u001b[0m         \u001b[38;5;241m8\u001b[39m, \u001b[38;5;241m37\u001b[39m, \u001b[38;5;241m35\u001b[39m, \u001b[38;5;241m1\u001b[39m, \u001b[38;5;241m89\u001b[39m, \u001b[38;5;241m29\u001b[39m, \u001b[38;5;241m86\u001b[39m, \u001b[38;5;241m19\u001b[39m, \u001b[38;5;241m43\u001b[39m, \u001b[38;5;241m61\u001b[39m]                  \n\u001b[0;32m      8\u001b[0m np_number \u001b[38;5;241m=\u001b[39m np\u001b[38;5;241m.\u001b[39marray(numbers)\n\u001b[1;32m----> 9\u001b[0m \u001b[38;5;28;43msum\u001b[39;49m\u001b[43m(\u001b[49m\u001b[38;5;241;43m1\u001b[39;49m\u001b[43m \u001b[49m\u001b[38;5;129;43;01min\u001b[39;49;00m\u001b[43m \u001b[49m\u001b[43mnp_number\u001b[49m\u001b[43m)\u001b[49m\n",
      "\u001b[1;31mTypeError\u001b[0m: 'bool' object is not iterable"
     ]
    }
   ],
   "source": [
    "import numpy as np\n",
    "numbers=[45, 60, 1, 30, 96, 1, 96, 57, 16, 1,\n",
    "        99, 62, 86, 43, 42, 60, 59, 1, 1, 35,\n",
    "        83, 47, 34, 28, 68, 23, 22, 92, 1, 79,\n",
    "        1, 29, 94, 72, 46, 47, 1, 74, 32, 20,\n",
    "        8, 37, 35, 1, 89, 29, 86, 19, 43, 61]                  \n",
    "\n",
    "np_number = np.array(numbers)\n",
    "sum(1 in np_number)"
   ]
  },
  {
   "cell_type": "markdown",
   "id": "878175e3-c82c-4c83-bcbd-c3338efcb3f0",
   "metadata": {},
   "source": [
    "QUESTION: why didn't this work? isn't `in` also a way of asking T/F questions?"
   ]
  },
  {
   "cell_type": "markdown",
   "id": "2ada0944-8661-4623-af0a-8a45500efc87",
   "metadata": {},
   "source": [
    "*from tutor's comments:*  \n",
    "right that in is a way of asking T/F questions, however, whoever who configured numpy probably thought that it would make more sense if in was used for asking if something exists in the entire array, rather than if something exists in each element of that array. As a result, you get a single True/False for your question, rather than an array of Trues and Falses."
   ]
  },
  {
   "cell_type": "markdown",
   "id": "e500fd19-77a9-4fd1-847c-1fd53992cee0",
   "metadata": {},
   "source": [
    "can double check Numpy's [online documentation](https://numpy.org/doc/1.26/)"
   ]
  },
  {
   "cell_type": "code",
   "execution_count": 10,
   "id": "78b869ad-719a-44ad-bfab-861416402e27",
   "metadata": {},
   "outputs": [
    {
     "data": {
      "text/plain": [
       "9"
      ]
     },
     "execution_count": 10,
     "metadata": {},
     "output_type": "execute_result"
    }
   ],
   "source": [
    "import numpy as np\n",
    "numbers=[45, 60, 1, 30, 96, 1, 96, 57, 16, 1,\n",
    "        99, 62, 86, 43, 42, 60, 59, 1, 1, 35,\n",
    "        83, 47, 34, 28, 68, 23, 22, 92, 1, 79,\n",
    "        1, 29, 94, 72, 46, 47, 1, 74, 32, 20,\n",
    "        8, 37, 35, 1, 89, 29, 86, 19, 43, 61]                  \n",
    "\n",
    "np_number = np.array(numbers)\n",
    "sum(np_number == 1)"
   ]
  }
 ],
 "metadata": {
  "kernelspec": {
   "display_name": "Python 3 (ipykernel)",
   "language": "python",
   "name": "python3"
  },
  "language_info": {
   "codemirror_mode": {
    "name": "ipython",
    "version": 3
   },
   "file_extension": ".py",
   "mimetype": "text/x-python",
   "name": "python",
   "nbconvert_exporter": "python",
   "pygments_lexer": "ipython3",
   "version": "3.11.5"
  },
  "toc": {
   "base_numbering": 1,
   "nav_menu": {},
   "number_sections": true,
   "sideBar": true,
   "skip_h1_title": false,
   "title_cell": "Table of Contents",
   "title_sidebar": "Contents",
   "toc_cell": false,
   "toc_position": {},
   "toc_section_display": true,
   "toc_window_display": false
  },
  "vscode": {
   "interpreter": {
    "hash": "31f2aee4e71d21fbe5cf8b01ff0e069b9275f58929596ceb00d14d90e3e16cd6"
   }
  }
 },
 "nbformat": 4,
 "nbformat_minor": 5
}
