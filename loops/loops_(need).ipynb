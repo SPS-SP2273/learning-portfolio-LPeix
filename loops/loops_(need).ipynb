{
 "cells": [
  {
   "attachments": {},
   "cell_type": "markdown",
   "id": "123456",
   "metadata": {},
   "source": [
    "<div style=\"text-align:left;font-size:2em\"><span style=\"font-weight:bolder;font-size:1.25em\">SP2273 | Learning Portfolio</span><br><br><span style=\"font-weight:bold;color:darkred\">Loops (Need)</span></div>"
   ]
  },
  {
   "cell_type": "markdown",
   "id": "ba3cbeeb-449c-4702-b472-7b3fe12dd75d",
   "metadata": {},
   "source": [
    "# Chapter Summary"
   ]
  },
  {
   "cell_type": "markdown",
   "id": "39f1c405-a8eb-4d49-ae2e-8ede3d6d00f7",
   "metadata": {},
   "source": [
    "all x below = starting number, y = ending number  \n",
    "- `for`: goes through the list, assign variable the value of each element in the list\n",
    "    - **keeps count**: `enumerate()`, ``enumerate(list_name, x) gives elements of the list  \n",
    "        - a number stored in `count`\n",
    "        - number can be used as `index` for list\n",
    "    - **run a given number of times**: `range(x)`, `range(x, y)`, `range(x, y, step_size)`\n",
    "        - gives intergers only\n",
    "- `while`: keeps running while a condition is `True`, do not need to know beforehand number of iterations needed"
   ]
  },
  {
   "attachments": {},
   "cell_type": "markdown",
   "id": "784a10ef",
   "metadata": {},
   "source": [
    "# The for iterator"
   ]
  },
  {
   "cell_type": "code",
   "execution_count": 1,
   "id": "12f6ebf4-e973-4807-85ae-dbec988dccf6",
   "metadata": {},
   "outputs": [
    {
     "name": "stdout",
     "output_type": "stream",
     "text": [
      "Natasha Romanoff is a Marvel superhero!\n",
      "Tony Stark is a Marvel superhero!\n",
      "Stephen Strange is a Marvel superhero!\n"
     ]
    }
   ],
   "source": [
    "real_names = [\"Natasha Romanoff\", \"Tony Stark\", \"Stephen Strange\"]\n",
    "\n",
    "name=real_names[0]\n",
    "print(f\"{name} is a Marvel superhero!\")\n",
    "\n",
    "name=real_names[1]\n",
    "print(f\"{name} is a Marvel superhero!\")\n",
    "\n",
    "name=real_names[2]\n",
    "print(f\"{name} is a Marvel superhero!\")"
   ]
  },
  {
   "cell_type": "markdown",
   "id": "a4126b15-f579-4b3f-8389-964e28d5d23f",
   "metadata": {},
   "source": [
    "not good because:  \n",
    "- doesn't scale very well\n",
    "- cumbersome to make changes\n",
    "- highly error prone\n",
    "\n",
    "--> need **loops/iterations** to repeat a task"
   ]
  },
  {
   "attachments": {},
   "cell_type": "markdown",
   "id": "d1c8d8d7",
   "metadata": {},
   "source": [
    "## for with a list"
   ]
  },
  {
   "cell_type": "markdown",
   "id": "08af7570-3e1c-402a-b437-d5c4400f64ff",
   "metadata": {},
   "source": [
    "`for` can directly loop through a list:\n",
    "- goes through the list and assigns `name` the value of each element of the list\n",
    "- runs the code-block using this value of `name`\n",
    "- code block designated using `:` and `tab`"
   ]
  },
  {
   "cell_type": "markdown",
   "id": "aebf27a8-5a96-4fdd-9649-a3f056a8d4e7",
   "metadata": {},
   "source": [
    "general strucutre:  \n",
    "`for variable in list_name`"
   ]
  },
  {
   "cell_type": "code",
   "execution_count": 2,
   "id": "4bcdb3cf-608d-4c96-84a3-dd062a7705dd",
   "metadata": {},
   "outputs": [
    {
     "name": "stdout",
     "output_type": "stream",
     "text": [
      "Natasha Romanoff is a Marvel superhero!\n",
      "Tony Stark is a Marvel superhero!\n",
      "Stephen Strange is a Marvel superhero!\n"
     ]
    }
   ],
   "source": [
    "for name in real_names:\n",
    "    print(f\"{name} is a Marvel superhero!\")"
   ]
  },
  {
   "cell_type": "markdown",
   "id": "76d560c6-b9f3-4e05-bde7-f1186ba01f31",
   "metadata": {},
   "source": [
    "**!!!** note the names of the variables can be changed, but must be comprehensible to future self"
   ]
  },
  {
   "cell_type": "code",
   "execution_count": 3,
   "id": "d8b44561-07a8-41e2-93d1-13226c5fdc98",
   "metadata": {},
   "outputs": [
    {
     "name": "stdout",
     "output_type": "stream",
     "text": [
      "Natasha Romanoff is a Marvel superhero!\n",
      "Tony Stark is a Marvel superhero!\n",
      "Stephen Strange is a Marvel superhero!\n"
     ]
    }
   ],
   "source": [
    "for x in real_names:\n",
    "    print(f\"{x} is a Marvel superhero!\")"
   ]
  },
  {
   "attachments": {},
   "cell_type": "markdown",
   "id": "93605432",
   "metadata": {},
   "source": [
    "## for with enumerate"
   ]
  },
  {
   "cell_type": "markdown",
   "id": "15f7db6e-0999-4ce1-bbd0-4162bbf0ce1b",
   "metadata": {},
   "source": [
    "`enumerate` as something that **keeps count**\n",
    "- gives elements of the list\n",
    "- gives a number (stored in`count`)\n",
    "\n",
    "e.g."
   ]
  },
  {
   "cell_type": "code",
   "execution_count": 34,
   "id": "a4bef14b-dc9d-49e1-8794-e7ee80e86910",
   "metadata": {},
   "outputs": [
    {
     "name": "stdout",
     "output_type": "stream",
     "text": [
      "0: Natasha Romanoff is a Marvel superhero!\n",
      "1: Tony Stark is a Marvel superhero!\n",
      "2: Stephen Strange is a Marvel superhero!\n"
     ]
    }
   ],
   "source": [
    "super_names = [\"Black Widow\", \"Iron Man\", \"Doctor Strange\"]\n",
    "real_names = [\"Natasha Romanoff\", \"Tony Stark\", \"Stephen Strange\"]\n",
    "\n",
    "for count, name in enumerate(real_names):\n",
    "    print(f'{count}: {name} is a Marvel superhero!')"
   ]
  },
  {
   "cell_type": "code",
   "execution_count": 40,
   "id": "d23dd99f-98a9-4cc5-bfbc-ef5423e2027f",
   "metadata": {},
   "outputs": [
    {
     "name": "stdout",
     "output_type": "stream",
     "text": [
      "0: [1234, 1111, 2222]\n",
      "1: 1\n",
      "2: 2\n",
      "3: 3\n",
      "4: 4\n"
     ]
    }
   ],
   "source": [
    "number = [[1234, 1111, 2222], 1, 2, 3, 4]\n",
    "for count, num in enumerate(number):\n",
    "    print(f'{count}: {num}')"
   ]
  },
  {
   "cell_type": "markdown",
   "id": "b2432a4c-7dd5-4640-9924-e7b8e9ce3508",
   "metadata": {},
   "source": [
    "to use `enumerate()` to start counting from another value:"
   ]
  },
  {
   "cell_type": "code",
   "execution_count": 7,
   "id": "3e173a0a-f3e1-478b-86cf-74f3749a18ef",
   "metadata": {},
   "outputs": [
    {
     "name": "stdout",
     "output_type": "stream",
     "text": [
      "100: Natasha Romanoff is a Marvel superhero!\n",
      "101: Tony Stark is a Marvel superhero!\n",
      "102: Stephen Strange is a Marvel superhero!\n"
     ]
    }
   ],
   "source": [
    "for count, name in enumerate(real_names, 100):\n",
    "    print(f'{count}: {name} is a Marvel superhero!')"
   ]
  },
  {
   "cell_type": "markdown",
   "id": "3bc72112-90ea-46f6-a0e0-ed56e568bda3",
   "metadata": {},
   "source": [
    "use `enumerate()` to index the other list:"
   ]
  },
  {
   "cell_type": "code",
   "execution_count": 41,
   "id": "3674fcb6-c4bd-4579-998f-01907f7cb2a2",
   "metadata": {},
   "outputs": [
    {
     "name": "stdout",
     "output_type": "stream",
     "text": [
      "Natasha Romanoff is Black Widow!\n",
      "Tony Stark is Iron Man!\n",
      "Stephen Strange is Doctor Strange!\n"
     ]
    }
   ],
   "source": [
    "for index, name in enumerate(real_names):\n",
    "    superhero_name = super_names[index]\n",
    "    print(f'{name} is {superhero_name}!')"
   ]
  },
  {
   "cell_type": "markdown",
   "id": "54ff889a-ac86-4b3c-95c2-0f673081dcb1",
   "metadata": {},
   "source": [
    "**!!!** note the change of variable to match the intention with the code (`count` and `index`)"
   ]
  },
  {
   "attachments": {},
   "cell_type": "markdown",
   "id": "6a1d8b07",
   "metadata": {},
   "source": [
    "## for with range"
   ]
  },
  {
   "cell_type": "markdown",
   "id": "bf1e28da-3cde-4b5e-9f67-06d61b76a594",
   "metadata": {},
   "source": [
    "use `range` to get the `for` loop to run a **given number** of loops:  \n",
    "`for i in range (number)`, 0 $\\le$ i < number, all integers"
   ]
  },
  {
   "cell_type": "code",
   "execution_count": 8,
   "id": "74ee8f65-db0a-41c6-b6f5-7df3246d7db9",
   "metadata": {},
   "outputs": [
    {
     "name": "stdout",
     "output_type": "stream",
     "text": [
      "0\n",
      "1\n",
      "2\n",
      "3\n",
      "4\n"
     ]
    }
   ],
   "source": [
    "for i in range(5):\n",
    "    print(i)"
   ]
  },
  {
   "cell_type": "markdown",
   "id": "f46fd037-f3db-42e5-92e2-2d0cb3fd5df9",
   "metadata": {},
   "source": [
    "tailor the starting and ending values:  \n",
    "`for i in range(x, y)`, x $\\le$ i < y, all integers"
   ]
  },
  {
   "cell_type": "code",
   "execution_count": 9,
   "id": "d608998d-4ad8-4a9c-bffb-81aa6b2cd50a",
   "metadata": {},
   "outputs": [
    {
     "name": "stdout",
     "output_type": "stream",
     "text": [
      "5\n",
      "6\n",
      "7\n",
      "8\n",
      "9\n"
     ]
    }
   ],
   "source": [
    "for i in range(5, 10):\n",
    "    print(i)"
   ]
  },
  {
   "cell_type": "markdown",
   "id": "d5222859-7f73-483c-8ec8-8fd8e8e60b6a",
   "metadata": {},
   "source": [
    "adjust the step size:  \n",
    "`for i in range(x, y, step_size)`, step size = interval (must be intergers)"
   ]
  },
  {
   "cell_type": "code",
   "execution_count": 12,
   "id": "7f416178-3dbd-4bda-b15a-c9d879b63da2",
   "metadata": {},
   "outputs": [
    {
     "name": "stdout",
     "output_type": "stream",
     "text": [
      "1\n",
      "4\n",
      "7\n"
     ]
    }
   ],
   "source": [
    "for i in range(1, 10, 3):\n",
    "    print(i)"
   ]
  },
  {
   "cell_type": "markdown",
   "id": "8ac1c97d-0625-48fc-ac5b-c988a87d0bfc",
   "metadata": {},
   "source": [
    "QUESTION: what does `i` mean?"
   ]
  },
  {
   "cell_type": "markdown",
   "id": "b8d7a272-7432-4c98-b045-ff7f3dbae780",
   "metadata": {},
   "source": [
    "**!!!** note:  \n",
    "- functions like `range()` and `enumerate()` only work with looping structures\n",
    "- `range()` always ends one short of the ending number e.g. (y-1)"
   ]
  },
  {
   "cell_type": "markdown",
   "id": "72a14a1f-2da4-458e-9e51-9a8dd8cb225f",
   "metadata": {},
   "source": [
    "notice the use of `len(real_names)` to get how many times the loop should run"
   ]
  },
  {
   "cell_type": "code",
   "execution_count": 13,
   "id": "abde8a21-cfca-423e-8066-b20266e588ba",
   "metadata": {},
   "outputs": [
    {
     "name": "stdout",
     "output_type": "stream",
     "text": [
      "Natasha Romanoff is Marvel's Black Widow!\n",
      "Tony Stark is Marvel's Iron Man!\n",
      "Stephen Strange is Marvel's Doctor Strange!\n"
     ]
    }
   ],
   "source": [
    "for i in range(len(real_names)):\n",
    "    real_name = real_names[i]\n",
    "    super_name = super_names[i]        \n",
    "    print(f\"{real_name} is Marvel's {super_name}!\")"
   ]
  },
  {
   "attachments": {},
   "cell_type": "markdown",
   "id": "a10956fc",
   "metadata": {},
   "source": [
    "# 2 while"
   ]
  },
  {
   "cell_type": "markdown",
   "id": "e9be4851-0c23-4edb-b1ec-e61af1629eb3",
   "metadata": {},
   "source": [
    "`while` loop:  \n",
    "- keeps on running **while** a condition is `True`  \n",
    "- checks the condition at the start and begins another loop if it is `True`\n",
    "- do not need to know beforehand how many iterations are needed"
   ]
  },
  {
   "cell_type": "code",
   "execution_count": 14,
   "id": "0bee8133-a529-4f3e-9e71-5ba49accac23",
   "metadata": {},
   "outputs": [
    {
     "name": "stdout",
     "output_type": "stream",
     "text": [
      "0\n",
      "1\n",
      "2\n",
      "3\n",
      "4\n"
     ]
    }
   ],
   "source": [
    "number = 0\n",
    "\n",
    "while number < 5:\n",
    "    print(number)\n",
    "    number += 1"
   ]
  },
  {
   "cell_type": "markdown",
   "id": "cdfdd8f6-5d7a-4564-9d0e-7120cc421105",
   "metadata": {},
   "source": [
    "using `while` to print: "
   ]
  },
  {
   "cell_type": "code",
   "execution_count": 24,
   "id": "fd54bf10-2890-45ba-ae8c-1b4efdd4ab70",
   "metadata": {},
   "outputs": [
    {
     "name": "stdout",
     "output_type": "stream",
     "text": [
      "Natasha Romanoff is Black Widow!\n",
      "Tony Stark is Iron Man!\n",
      "Stephen Strange is Doctor Strange!\n"
     ]
    }
   ],
   "source": [
    "i = 0\n",
    "super_names = [\"Black Widow\", \"Iron Man\", \"Doctor Strange\"]\n",
    "real_names = [\"Natasha Romanoff\", \"Tony Stark\", \"Stephen Strange\"]\n",
    "while i < 3:\n",
    "    real_name = real_names[i]\n",
    "    superhero_name = super_names[i]\n",
    "    print(f\"{real_name} is {superhero_name}!\")\n",
    "    i += 1"
   ]
  }
 ],
 "metadata": {
  "kernelspec": {
   "display_name": "Python 3 (ipykernel)",
   "language": "python",
   "name": "python3"
  },
  "language_info": {
   "codemirror_mode": {
    "name": "ipython",
    "version": 3
   },
   "file_extension": ".py",
   "mimetype": "text/x-python",
   "name": "python",
   "nbconvert_exporter": "python",
   "pygments_lexer": "ipython3",
   "version": "3.11.5"
  },
  "toc": {
   "base_numbering": 1,
   "nav_menu": {},
   "number_sections": true,
   "sideBar": true,
   "skip_h1_title": false,
   "title_cell": "Table of Contents",
   "title_sidebar": "Contents",
   "toc_cell": false,
   "toc_position": {},
   "toc_section_display": true,
   "toc_window_display": false
  },
  "vscode": {
   "interpreter": {
    "hash": "31f2aee4e71d21fbe5cf8b01ff0e069b9275f58929596ceb00d14d90e3e16cd6"
   }
  }
 },
 "nbformat": 4,
 "nbformat_minor": 5
}
