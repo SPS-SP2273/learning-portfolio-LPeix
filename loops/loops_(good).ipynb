{
 "cells": [
  {
   "attachments": {},
   "cell_type": "markdown",
   "id": "123456",
   "metadata": {},
   "source": [
    "<div style=\"text-align:left;font-size:2em\"><span style=\"font-weight:bolder;font-size:1.25em\">SP2273 | Learning Portfolio</span><br><br><span style=\"font-weight:bold;color:darkred\">Loops (Good)</span></div>"
   ]
  },
  {
   "attachments": {},
   "cell_type": "markdown",
   "id": "3fd35f56",
   "metadata": {},
   "source": [
    "# Chapter Summary"
   ]
  },
  {
   "cell_type": "markdown",
   "id": "048a79ce-cf72-4a0e-9a1b-4eb98970c561",
   "metadata": {},
   "source": [
    "- interrupting the flow of `for`, `while` loop:\n",
    "    - `break` = break-out of the loop & terminate it\n",
    "    - `continue` = skip an iteration and move on to the next\n",
    "- list comprehension = create new lists from lists\n",
    "    - e.g. `[number for number in range(5)]`\n",
    "    - with condition `[number for number in range(10) if number%2 == 0]`\n",
    "- others\n",
    "    - unpacking\n",
    "    - `zip(list_1, list_2)` combine two lists\n",
    "    - `dictionary_name.items()` to access all keys & values"
   ]
  },
  {
   "attachments": {},
   "cell_type": "markdown",
   "id": "2293cad0",
   "metadata": {},
   "source": [
    "# Interrupting the flow"
   ]
  },
  {
   "cell_type": "markdown",
   "id": "019d57bb-02c3-4f3f-9ba3-56bd348896f7",
   "metadata": {},
   "source": [
    "**!!!** both `break` and `continue` work with `for` and `while` loop  \n",
    "`break` = break-out of the loop & terminate it "
   ]
  },
  {
   "cell_type": "markdown",
   "id": "7873ea18-42fb-4d9b-a6ad-881597227436",
   "metadata": {},
   "source": [
    "1. `break` in `for` loop:"
   ]
  },
  {
   "cell_type": "code",
   "execution_count": 12,
   "id": "0a6d0877-b947-4b4b-92af-9a30cdcf3268",
   "metadata": {},
   "outputs": [
    {
     "name": "stdout",
     "output_type": "stream",
     "text": [
      "0 1\n",
      "1 10\n",
      "2 100\n",
      "3 1000\n"
     ]
    }
   ],
   "source": [
    "for power in range(5):\n",
    "    number = 10**power\n",
    "    if number > 5000:          # if to set condition for break\n",
    "        break                  # break immediately if number > 5000\n",
    "    print(power, number)       # no printing after break"
   ]
  },
  {
   "cell_type": "code",
   "execution_count": 14,
   "id": "6007738a-dbe5-46cd-90be-02c8de8749ca",
   "metadata": {},
   "outputs": [
    {
     "name": "stdout",
     "output_type": "stream",
     "text": [
      "0 1\n",
      "1 10\n",
      "2 100\n",
      "3 1000\n"
     ]
    }
   ],
   "source": [
    "for power in range(5):\n",
    "    number = 10**power\n",
    "    if number > 5000: break\n",
    "    print(power, number)"
   ]
  },
  {
   "cell_type": "markdown",
   "id": "90d86755-efdb-43f8-8e2b-bb9e49c46514",
   "metadata": {},
   "source": [
    "2. `break` in `while` loop:"
   ]
  },
  {
   "cell_type": "code",
   "execution_count": 16,
   "id": "5c9f70aa-bd54-4481-b874-ba242af59c48",
   "metadata": {},
   "outputs": [
    {
     "name": "stdout",
     "output_type": "stream",
     "text": [
      "0 1\n",
      "1 10\n",
      "2 100\n",
      "3 1000\n"
     ]
    }
   ],
   "source": [
    "power = 0\n",
    "while True:\n",
    "    number = 10**power\n",
    "    print(power, number)\n",
    "    power += 1\n",
    "    if power >= 4:\n",
    "        break"
   ]
  },
  {
   "cell_type": "code",
   "execution_count": 10,
   "id": "ce7f9eb4-80f0-4b04-9880-aed6f18994d9",
   "metadata": {},
   "outputs": [
    {
     "name": "stdout",
     "output_type": "stream",
     "text": [
      "0\n",
      "1\n",
      "2\n",
      "3\n",
      "4\n"
     ]
    }
   ],
   "source": [
    "number=0\n",
    "\n",
    "while True:\n",
    "    print(number)\n",
    "    number += 1\n",
    "    if number > 4: break"
   ]
  },
  {
   "cell_type": "markdown",
   "id": "721fd410-d909-445a-81a8-91d66ea6221f",
   "metadata": {},
   "source": [
    "1. `continue` in `for` loop:"
   ]
  },
  {
   "cell_type": "code",
   "execution_count": 1,
   "id": "7d65ab67-45ff-4b97-a0d1-97cf5088c3d5",
   "metadata": {},
   "outputs": [
    {
     "name": "stdout",
     "output_type": "stream",
     "text": [
      "0 1\n",
      "1 10\n",
      "2 100\n",
      "4 10000\n"
     ]
    }
   ],
   "source": [
    "for power in range(5):\n",
    "    if power == 3:\n",
    "        continue           # don't proceed further in the current loop\n",
    "                           # if i == 3\n",
    "    number = 10**power\n",
    "    print(power, number)"
   ]
  },
  {
   "cell_type": "markdown",
   "id": "84cabdd5-0da7-4db2-b3d4-c1bf0dd82838",
   "metadata": {},
   "source": [
    "2. `continue` in `while` loop: "
   ]
  },
  {
   "cell_type": "code",
   "execution_count": 6,
   "id": "61dde7a4-f80b-48c7-8cab-f0318948e849",
   "metadata": {},
   "outputs": [
    {
     "name": "stdout",
     "output_type": "stream",
     "text": [
      "0 1\n",
      "1 10\n",
      "2 100\n",
      "4 10000\n"
     ]
    }
   ],
   "source": [
    "power = -1\n",
    "\n",
    "while power < 4:\n",
    "    power += 1\n",
    "    if power == 3:\n",
    "        continue\n",
    "    number = 10**power\n",
    "    print(power, number)"
   ]
  },
  {
   "cell_type": "code",
   "execution_count": 7,
   "id": "2a6c281b-6ac4-4fff-834a-cc8dfcf5934b",
   "metadata": {},
   "outputs": [
    {
     "name": "stdout",
     "output_type": "stream",
     "text": [
      "0 1\n",
      "1 10\n",
      "2 100\n",
      "4 10000\n"
     ]
    }
   ],
   "source": [
    "power = -1\n",
    "\n",
    "while power < 4:\n",
    "    power += 1\n",
    "    if power == 3:continue\n",
    "    number = 10**power\n",
    "    print(power, number)"
   ]
  },
  {
   "cell_type": "markdown",
   "id": "a7293616-7fef-4476-a533-a27f8d01db46",
   "metadata": {},
   "source": [
    "other example for `continue` in `for` loop to print odd number:"
   ]
  },
  {
   "cell_type": "code",
   "execution_count": 9,
   "id": "0b3ad860-531c-4783-b43a-e16f41a9279f",
   "metadata": {},
   "outputs": [
    {
     "name": "stdout",
     "output_type": "stream",
     "text": [
      "1\n",
      "3\n",
      "5\n",
      "7\n",
      "9\n"
     ]
    }
   ],
   "source": [
    "for number in range(10):\n",
    "    if number % 2 == 0:        # Don't proceed if the remainder is zero\n",
    "        continue               # I.e. if the number is even\n",
    "    print(number)                       "
   ]
  },
  {
   "cell_type": "markdown",
   "id": "ca80c674-4b55-4c04-aecf-0a5480b6b3f0",
   "metadata": {},
   "source": [
    "QUESTION: how come `break` and `continue` don't need a new line and indentation?"
   ]
  },
  {
   "attachments": {},
   "cell_type": "markdown",
   "id": "ed1db86a",
   "metadata": {},
   "source": [
    "# List comprehension!"
   ]
  },
  {
   "cell_type": "markdown",
   "id": "5bd4f2bb-f361-4870-875c-f3205e0d58cb",
   "metadata": {},
   "source": [
    "**list comprehension** = create new lists from other lists"
   ]
  },
  {
   "attachments": {},
   "cell_type": "markdown",
   "id": "39b79ad4",
   "metadata": {},
   "source": [
    "## Basic syntax"
   ]
  },
  {
   "cell_type": "markdown",
   "id": "45b2dab3-0847-4b13-bf38-967c0a84a64e",
   "metadata": {},
   "source": [
    "similar to `for` loop,  \n",
    "1. create a simple list with numbers from 0 to 4:"
   ]
  },
  {
   "cell_type": "code",
   "execution_count": 13,
   "id": "4fceabe0-d10a-4b5c-8b65-ab5907d7a940",
   "metadata": {},
   "outputs": [
    {
     "data": {
      "text/plain": [
       "[0, 1, 2, 3, 4]"
      ]
     },
     "execution_count": 13,
     "metadata": {},
     "output_type": "execute_result"
    }
   ],
   "source": [
    "[number for number in range(5)]"
   ]
  },
  {
   "cell_type": "markdown",
   "id": "a465990c-2bb4-4376-9b00-7a5ef87a01b3",
   "metadata": {},
   "source": [
    "2. create a list of squares:"
   ]
  },
  {
   "cell_type": "code",
   "execution_count": 14,
   "id": "88da9fa8-802a-470e-85af-ea9cc11e6c43",
   "metadata": {},
   "outputs": [
    {
     "data": {
      "text/plain": [
       "[0, 1, 4, 9, 16]"
      ]
     },
     "execution_count": 14,
     "metadata": {},
     "output_type": "execute_result"
    }
   ],
   "source": [
    "[number**2 for number in range(5)]"
   ]
  },
  {
   "attachments": {},
   "cell_type": "markdown",
   "id": "9ba26ab6",
   "metadata": {},
   "source": [
    "## List comprehension with conditions"
   ]
  },
  {
   "cell_type": "markdown",
   "id": "31a0ff37-07a0-4800-9336-7dec7c6c062c",
   "metadata": {},
   "source": [
    "to specify a condition while creating new list:"
   ]
  },
  {
   "cell_type": "code",
   "execution_count": 15,
   "id": "54ed1d15-18cb-4960-9ad6-28b6efda4bf5",
   "metadata": {},
   "outputs": [
    {
     "data": {
      "text/plain": [
       "[0, 2, 4, 6, 8]"
      ]
     },
     "execution_count": 15,
     "metadata": {},
     "output_type": "execute_result"
    }
   ],
   "source": [
    "[number for number in range(10) if number%2 == 0]"
   ]
  },
  {
   "attachments": {},
   "cell_type": "markdown",
   "id": "60ff033f",
   "metadata": {},
   "source": [
    "# Other useful stuff"
   ]
  },
  {
   "attachments": {},
   "cell_type": "markdown",
   "id": "21fc17f4",
   "metadata": {},
   "source": [
    "## for with unpacking"
   ]
  },
  {
   "cell_type": "markdown",
   "id": "e3ab1dc5-7b30-40f8-860b-d59f5bcc9946",
   "metadata": {},
   "source": [
    "**unpacking**:"
   ]
  },
  {
   "cell_type": "code",
   "execution_count": 16,
   "id": "818bf053-2e00-47c8-a1be-1e5cebd99ffc",
   "metadata": {},
   "outputs": [
    {
     "name": "stdout",
     "output_type": "stream",
     "text": [
      "x = 1, y = 2, z = 3\n"
     ]
    }
   ],
   "source": [
    "x, y, z = [1, 2, 3]\n",
    "print(f'x = {x}, y = {y}, z = {z}')"
   ]
  },
  {
   "cell_type": "markdown",
   "id": "df103948-5f56-4c31-8811-d95565294a29",
   "metadata": {},
   "source": [
    "QUESTION: sorry I'm very confused with what unpacking does..."
   ]
  },
  {
   "cell_type": "markdown",
   "id": "544072c5-605c-4a63-8852-b16a2089c495",
   "metadata": {},
   "source": [
    "unpacking combined with `for` loop to extract elements:"
   ]
  },
  {
   "cell_type": "code",
   "execution_count": 17,
   "id": "c9d8c835-c420-4f3b-98b3-cc009d206082",
   "metadata": {},
   "outputs": [
    {
     "name": "stdout",
     "output_type": "stream",
     "text": [
      "Natasha Romanoff is Marvel's Black Widow!\n",
      "Tony Stark is Marvel's Iron Man!\n",
      "Stephen Strange is Marvel's Doctor Strange!\n"
     ]
    }
   ],
   "source": [
    "py_superhero_info = [['Natasha Romanoff', 'Black Widow'],\n",
    "                     ['Tony Stark', 'Iron Man'],\n",
    "                     ['Stephen Strange', 'Doctor Strange']]\n",
    "\n",
    "for real_name, super_name in py_superhero_info:\n",
    "    print(f\"{real_name} is Marvel's {super_name}!\")"
   ]
  },
  {
   "cell_type": "code",
   "execution_count": 20,
   "id": "e903e314-36d5-4905-8fba-58489d66fe6c",
   "metadata": {},
   "outputs": [
    {
     "name": "stdout",
     "output_type": "stream",
     "text": [
      "1 + 1 = 2\n",
      "3 + 1 = 4\n",
      "5 + 1 = 6\n"
     ]
    }
   ],
   "source": [
    "a_2D_list = [[1, 2],\n",
    "             [3, 4],\n",
    "             [5, 6]]\n",
    "\n",
    "for first_number, second_number in a_2D_list:\n",
    "    print(f'{first_number} + 1 = {second_number}')"
   ]
  },
  {
   "attachments": {},
   "cell_type": "markdown",
   "id": "ebc96950",
   "metadata": {},
   "source": [
    "## for with zip()"
   ]
  },
  {
   "cell_type": "markdown",
   "id": "d8ec83b5-0653-4ce4-9f3d-0ff3fd8c1044",
   "metadata": {},
   "source": [
    "`zip()` = combine two lists"
   ]
  },
  {
   "cell_type": "code",
   "execution_count": 41,
   "id": "b985c749-3978-435c-a693-223f4921617b",
   "metadata": {},
   "outputs": [
    {
     "name": "stdout",
     "output_type": "stream",
     "text": [
      "Natasha Romanoff is Marvel's Black Widow!\n",
      "Tony Stark is Marvel's Iron Man!\n",
      "Stephen Strange is Marvel's Doctor Strange!\n"
     ]
    }
   ],
   "source": [
    "super_names = [\"Black Widow\", \"Iron Man\", \"Doctor Strange\"]\n",
    "real_names = [\"Natasha Romanoff\", \"Tony Stark\", \"Stephen Strange\"]\n",
    "\n",
    "for real_name, super_name in zip(real_names,super_names):\n",
    "    print(f\"{real_name} is Marvel's {super_name}!\")"
   ]
  },
  {
   "attachments": {},
   "cell_type": "markdown",
   "id": "4e63e187",
   "metadata": {},
   "source": [
    "## for with dictionaries"
   ]
  },
  {
   "cell_type": "markdown",
   "id": "d2637d24-a7b4-4680-805b-fda7cd3ddd68",
   "metadata": {},
   "source": [
    "`items()` spits out both the key and the corresponding value,  \n",
    "to loop through dictionary:"
   ]
  },
  {
   "cell_type": "code",
   "execution_count": 30,
   "id": "d0723d13-709d-43c0-a2c2-2288b329df50",
   "metadata": {},
   "outputs": [
    {
     "name": "stdout",
     "output_type": "stream",
     "text": [
      "Natasha Romanoff is Marvel's Black Widow!\n",
      "Tony Stark is Marvel's Iron Man!\n",
      "Stephen Strange is Marvel's Doctor Strange!\n"
     ]
    }
   ],
   "source": [
    "superhero_info={\"Natasha Romanoff\": \"Black Widow\",\n",
    "                \"Tony Stark\": \"Iron Man\",\n",
    "                \"Stephen Strange\": \"Doctor Strange\"}\n",
    "\n",
    "for key, value in superhero_info.items():\n",
    "    print(f\"{key} is Marvel's {value}!\")"
   ]
  },
  {
   "cell_type": "markdown",
   "id": "1df2adb1-8303-44ce-a30b-acc1f1dba1a7",
   "metadata": {},
   "source": [
    "QUESTION: why is `items()` necessary to unpack dictionary but not needed for list?"
   ]
  },
  {
   "cell_type": "markdown",
   "id": "9a368093-4263-45f1-a33c-e02e7bcfe945",
   "metadata": {},
   "source": [
    "OR directly acess the keys as follows:  \n",
    "**!!!** the variable names `key` and `value` are just to highlight their roles, can be $\\Delta$ to others"
   ]
  },
  {
   "cell_type": "code",
   "execution_count": 37,
   "id": "7276b59b-196a-4536-9713-5a2fafda4ecf",
   "metadata": {},
   "outputs": [
    {
     "name": "stdout",
     "output_type": "stream",
     "text": [
      "Natasha Romanoff is Marvel's Black Widow!\n",
      "Tony Stark is Marvel's Iron Man!\n",
      "Stephen Strange is Marvel's Doctor Strange!\n"
     ]
    }
   ],
   "source": [
    "for key in superhero_info.keys():\n",
    "    value=superhero_info[key]\n",
    "    print(f\"{key} is Marvel's {value}!\")"
   ]
  },
  {
   "cell_type": "markdown",
   "id": "aee562b8-661f-44b7-8249-2d724bc7d654",
   "metadata": {},
   "source": [
    "similar to using `index` with `enumerate()` in **list**:"
   ]
  },
  {
   "cell_type": "code",
   "execution_count": 42,
   "id": "a4176672-67f6-459c-9427-b1e9f17c1d36",
   "metadata": {},
   "outputs": [
    {
     "name": "stdout",
     "output_type": "stream",
     "text": [
      "Natasha Romanoff is Black Widow!\n",
      "Tony Stark is Iron Man!\n",
      "Stephen Strange is Doctor Strange!\n"
     ]
    }
   ],
   "source": [
    "super_names = [\"Black Widow\", \"Iron Man\", \"Doctor Strange\"]\n",
    "real_names = [\"Natasha Romanoff\", \"Tony Stark\", \"Stephen Strange\"]\n",
    "\n",
    "for index, name in enumerate(real_names):\n",
    "    superhero_name = super_names[index]\n",
    "    print(f'{name} is {superhero_name}!')"
   ]
  }
 ],
 "metadata": {
  "kernelspec": {
   "display_name": "Python 3 (ipykernel)",
   "language": "python",
   "name": "python3"
  },
  "language_info": {
   "codemirror_mode": {
    "name": "ipython",
    "version": 3
   },
   "file_extension": ".py",
   "mimetype": "text/x-python",
   "name": "python",
   "nbconvert_exporter": "python",
   "pygments_lexer": "ipython3",
   "version": "3.11.5"
  },
  "toc": {
   "base_numbering": 1,
   "nav_menu": {},
   "number_sections": true,
   "sideBar": true,
   "skip_h1_title": false,
   "title_cell": "Table of Contents",
   "title_sidebar": "Contents",
   "toc_cell": false,
   "toc_position": {},
   "toc_section_display": true,
   "toc_window_display": false
  },
  "vscode": {
   "interpreter": {
    "hash": "31f2aee4e71d21fbe5cf8b01ff0e069b9275f58929596ceb00d14d90e3e16cd6"
   }
  }
 },
 "nbformat": 4,
 "nbformat_minor": 5
}
