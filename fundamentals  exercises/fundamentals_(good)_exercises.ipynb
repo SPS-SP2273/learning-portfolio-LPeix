{
 "cells": [
  {
   "attachments": {},
   "cell_type": "markdown",
   "id": "123456",
   "metadata": {},
   "source": [
    "<div style=\"text-align:left;font-size:2em\"><span style=\"font-weight:bolder;font-size:1.25em\">SP2273 | Learning Portfolio</span><br><br><span style=\"font-weight:bold;color:darkred\">Fundamentals (Good) Exercises</span></div>"
   ]
  },
  {
   "cell_type": "markdown",
   "id": "1341ce34-723c-4008-824c-39f5c7850605",
   "metadata": {},
   "source": [
    "# Exercise 1"
   ]
  },
  {
   "cell_type": "markdown",
   "id": "f32b0b43-86b2-4280-b691-a9d5386882c3",
   "metadata": {},
   "source": [
    "## Step 1"
   ]
  },
  {
   "cell_type": "code",
   "execution_count": 1,
   "id": "96a156b4-f98d-402d-99f0-c681d947b686",
   "metadata": {},
   "outputs": [
    {
     "name": "stdin",
     "output_type": "stream",
     "text": [
      "Give me a number? 2\n"
     ]
    },
    {
     "name": "stdout",
     "output_type": "stream",
     "text": [
      "You entered 2\n"
     ]
    }
   ],
   "source": [
    "user_input = input('Give me a number?')\n",
    "print('You entered', user_input)"
   ]
  },
  {
   "cell_type": "code",
   "execution_count": 4,
   "id": "51e9e949-f223-4548-bc72-846644885079",
   "metadata": {},
   "outputs": [
    {
     "name": "stdin",
     "output_type": "stream",
     "text": [
      "what do you wanna eat for breakfast? mala\n"
     ]
    },
    {
     "name": "stdout",
     "output_type": "stream",
     "text": [
      "are you sure you wanna eat mala for breakfast?\n"
     ]
    }
   ],
   "source": [
    "bfast_input = input('what do you wanna eat for breakfast?')\n",
    "print('are you sure you wanna eat', bfast_input, 'for breakfast?')"
   ]
  },
  {
   "cell_type": "markdown",
   "id": "d545ef5f-06f7-4238-bb6c-3f16b726221a",
   "metadata": {},
   "source": [
    "## Task"
   ]
  },
  {
   "cell_type": "markdown",
   "id": "237df478-4533-4a00-a404-739810c36540",
   "metadata": {},
   "source": [
    "|Grade|Score Range|\n",
    "|---|---|\n",
    "|A|70 - 100|\n",
    "|B|50 - 69|\n",
    "|C|35 - 49|\n",
    "|Fail|0 - 34|"
   ]
  },
  {
   "cell_type": "code",
   "execution_count": 11,
   "id": "797274a2-89a1-4ed9-9079-0676df57558d",
   "metadata": {},
   "outputs": [
    {
     "name": "stdin",
     "output_type": "stream",
     "text": [
      "Enter the student's score: 70.8\n"
     ]
    },
    {
     "name": "stdout",
     "output_type": "stream",
     "text": [
      "The studen's letter grade is: A\n"
     ]
    }
   ],
   "source": [
    "number = input(\"Enter the student's score:\")\n",
    "score = int(float(number))\n",
    "if 70 <= score <= 100:\n",
    "    print(\"The studen's letter grade is: A\")\n",
    "elif 50 <= score <= 69:\n",
    "    print(\"The studen's letter grade is: B\")\n",
    "elif 35 <= score <= 49:\n",
    "    print(\"The studen's letter grade is: C\")\n",
    "elif 0 <= score <= 34:\n",
    "    print(\"The studen's letter grade is: Fail\")\n",
    "else:\n",
    "    print(\"Enter the correct score again\")"
   ]
  }
 ],
 "metadata": {
  "kernelspec": {
   "display_name": "Python 3 (ipykernel)",
   "language": "python",
   "name": "python3"
  },
  "language_info": {
   "codemirror_mode": {
    "name": "ipython",
    "version": 3
   },
   "file_extension": ".py",
   "mimetype": "text/x-python",
   "name": "python",
   "nbconvert_exporter": "python",
   "pygments_lexer": "ipython3",
   "version": "3.11.5"
  },
  "toc": {
   "base_numbering": 1,
   "nav_menu": {},
   "number_sections": true,
   "sideBar": true,
   "skip_h1_title": false,
   "title_cell": "Table of Contents",
   "title_sidebar": "Contents",
   "toc_cell": false,
   "toc_position": {},
   "toc_section_display": true,
   "toc_window_display": false
  },
  "vscode": {
   "interpreter": {
    "hash": "31f2aee4e71d21fbe5cf8b01ff0e069b9275f58929596ceb00d14d90e3e16cd6"
   }
  }
 },
 "nbformat": 4,
 "nbformat_minor": 5
}
