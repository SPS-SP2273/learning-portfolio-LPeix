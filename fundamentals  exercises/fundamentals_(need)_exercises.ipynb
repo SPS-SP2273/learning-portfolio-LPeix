{
 "cells": [
  {
   "attachments": {},
   "cell_type": "markdown",
   "id": "123456",
   "metadata": {},
   "source": [
    "<div style=\"text-align:left;font-size:2em\"><span style=\"font-weight:bolder;font-size:1.25em\">SP2273 | Learning Portfolio</span><br><br><span style=\"font-weight:bold;color:darkred\">Fundamentals (Need) Exercises</span></div>"
   ]
  },
  {
   "cell_type": "markdown",
   "id": "aebf2a6d-42da-4cde-97a6-4f4208e110c9",
   "metadata": {},
   "source": [
    "# Exercise 1"
   ]
  },
  {
   "cell_type": "markdown",
   "id": "b354ceba-c8e3-488b-9dd4-a6d3f8b53328",
   "metadata": {},
   "source": [
    "**mechanism**\n",
    "1. interpreter, run one command at a time\n",
    "2. case-sensitive\n",
    "3. neater syntax than other computing languages, but slow\n",
    "4. words and ~variables~ *values* are different (e.g. `print('age')` and `age = 10, print(age)`) *(can use both `' '` and `\" \"` for words)*\n",
    "   \n",
    "**tools**\n",
    "1. use function such as `print()`, to return command back to screen (show the message in the bracket)\n",
    "2. can perform basic methematics\n",
    "3. can import packages to perform more tasks (e.g. math, Numpy for `sqrt()`)\n",
    "4. `=` to assign values to variables *(except for Python keywords like `if`, `for`, `while`, `is`)*\n",
    "5. `==` ask if True or False\n",
    "6. create dictionary and list, can easily access information in them \n",
    "7. `:` to indicate block\n",
    "8. `.` to indicate ownership\n",
    "9. `#` to indicate comments\n",
    "10. `()` for function *AND methematics*, `[]` for list, `{}` for *storing data in* dictionary\n",
    "11. indentation `tab` to separate blocks\n",
    "12. *key in dictionary is `dictionary_name['category']`, use this to identify a value*\n",
    "\n",
    "**decision**\n",
    "1. use `if`, `elif`, `else` for decisions"
   ]
  },
  {
   "cell_type": "markdown",
   "id": "47280f76-aaf2-4bbe-a4af-f3b80015a82c",
   "metadata": {},
   "source": [
    "# Exercise 2"
   ]
  },
  {
   "cell_type": "code",
   "execution_count": 18,
   "id": "fc49f156-d133-42ef-9df8-4c7cdc90965f",
   "metadata": {},
   "outputs": [
    {
     "name": "stdout",
     "output_type": "stream",
     "text": [
      "3 4 5.0\n"
     ]
    }
   ],
   "source": [
    "import math\n",
    "x, y = 3, 4\n",
    "z = math.sqrt(x**2 + y**2)\n",
    "print(x, y, z)"
   ]
  },
  {
   "cell_type": "markdown",
   "id": "96e9519f-f7bb-4a15-aae1-3255976afedd",
   "metadata": {},
   "source": [
    "QUESTION:  \n",
    "why inline-math uses `^` for exponential power but Python math operation uses `**` for exponential power???"
   ]
  },
  {
   "cell_type": "markdown",
   "id": "5e59ee22-fc82-4632-802a-ee1add29fe26",
   "metadata": {},
   "source": [
    "# Exercise 3"
   ]
  },
  {
   "cell_type": "markdown",
   "id": "248b9947-10a7-4d7b-b4be-4fbf70af9c17",
   "metadata": {},
   "source": [
    "|#|Term|Description|\n",
    "|:-:|:--|:--|\n",
    "|1|Function|does/execute a specific task|\n",
    "|2|Arguments|inside parentheses|\n",
    "|3|Comments|to specify purposes of code|\n",
    "|4|Indentations|indicate/separate code blocks|\n",
    "|5|Packages|give Python extra functionality|\n",
    "|6|`.`|to indicate ownership|\n",
    "|7|`:`|to designate a code block|\n",
    "|8|`[]`|for list of data|\n",
    "|9|`[[[]]]`|list inside list inside list|\n",
    "|10|`{}`|for storing data in dictionary|10\t{}\t"
   ]
  },
  {
   "cell_type": "markdown",
   "id": "070f6b3b-e4d6-40b4-818b-4efbe6d6de8c",
   "metadata": {},
   "source": [
    "# Exercise 4"
   ]
  },
  {
   "cell_type": "code",
   "execution_count": 20,
   "id": "13ec23ac-5841-4929-a848-2f751f32c044",
   "metadata": {},
   "outputs": [
    {
     "data": {
      "text/plain": [
       "2.5"
      ]
     },
     "execution_count": 20,
     "metadata": {},
     "output_type": "execute_result"
    }
   ],
   "source": [
    "5/2           # normal devision"
   ]
  },
  {
   "cell_type": "code",
   "execution_count": 1,
   "id": "33d43789-28cb-4a13-9f12-fb5932624fbc",
   "metadata": {},
   "outputs": [
    {
     "data": {
      "text/plain": [
       "2"
      ]
     },
     "execution_count": 1,
     "metadata": {},
     "output_type": "execute_result"
    }
   ],
   "source": [
    "5//2          # floor devision\n",
    "              # normal devision but round down to the smallest integer\n",
    "              # just remove the decimal"
   ]
  },
  {
   "cell_type": "code",
   "execution_count": 2,
   "id": "84c76d1a-d000-43e8-b90d-b6bae4dc438d",
   "metadata": {},
   "outputs": [
    {
     "data": {
      "text/plain": [
       "1"
      ]
     },
     "execution_count": 2,
     "metadata": {},
     "output_type": "execute_result"
    }
   ],
   "source": [
    "5%2           # return the remainder of division\n",
    "              # 5/2 = 2...1, so 1 is the remainder"
   ]
  }
 ],
 "metadata": {
  "kernelspec": {
   "display_name": "Python 3 (ipykernel)",
   "language": "python",
   "name": "python3"
  },
  "language_info": {
   "codemirror_mode": {
    "name": "ipython",
    "version": 3
   },
   "file_extension": ".py",
   "mimetype": "text/x-python",
   "name": "python",
   "nbconvert_exporter": "python",
   "pygments_lexer": "ipython3",
   "version": "3.11.5"
  },
  "toc": {
   "base_numbering": 1,
   "nav_menu": {},
   "number_sections": true,
   "sideBar": true,
   "skip_h1_title": false,
   "title_cell": "Table of Contents",
   "title_sidebar": "Contents",
   "toc_cell": false,
   "toc_position": {},
   "toc_section_display": true,
   "toc_window_display": false
  },
  "vscode": {
   "interpreter": {
    "hash": "31f2aee4e71d21fbe5cf8b01ff0e069b9275f58929596ceb00d14d90e3e16cd6"
   }
  }
 },
 "nbformat": 4,
 "nbformat_minor": 5
}
