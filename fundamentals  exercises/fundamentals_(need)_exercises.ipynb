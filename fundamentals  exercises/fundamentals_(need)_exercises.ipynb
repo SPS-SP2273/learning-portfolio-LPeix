{
 "cells": [
  {
   "attachments": {},
   "cell_type": "markdown",
   "id": "123456",
   "metadata": {},
   "source": [
    "<div style=\"text-align:left;font-size:2em\"><span style=\"font-weight:bolder;font-size:1.25em\">SP2273 | Learning Portfolio</span><br><br><span style=\"font-weight:bold;color:darkred\">Fundamentals (Need) Exercises</span></div>"
   ]
  },
  {
   "cell_type": "markdown",
   "id": "aebf2a6d-42da-4cde-97a6-4f4208e110c9",
   "metadata": {},
   "source": [
    "# Exercise 1"
   ]
  },
  {
   "cell_type": "markdown",
   "id": "b354ceba-c8e3-488b-9dd4-a6d3f8b53328",
   "metadata": {},
   "source": []
  },
  {
   "cell_type": "markdown",
   "id": "47280f76-aaf2-4bbe-a4af-f3b80015a82c",
   "metadata": {},
   "source": [
    "# Exercise 2"
   ]
  },
  {
   "cell_type": "code",
   "execution_count": 18,
   "id": "fc49f156-d133-42ef-9df8-4c7cdc90965f",
   "metadata": {},
   "outputs": [
    {
     "name": "stdout",
     "output_type": "stream",
     "text": [
      "3 4 5.0\n"
     ]
    }
   ],
   "source": [
    "import math\n",
    "x, y = 3, 4\n",
    "z = math.sqrt(x**2 + y**2)\n",
    "print(x, y, z)"
   ]
  },
  {
   "cell_type": "markdown",
   "id": "96e9519f-f7bb-4a15-aae1-3255976afedd",
   "metadata": {},
   "source": [
    "QUESTION:  \n",
    "why inline-math uses `^` for power but Python math operation uses `**` for power???"
   ]
  },
  {
   "cell_type": "markdown",
   "id": "5e59ee22-fc82-4632-802a-ee1add29fe26",
   "metadata": {},
   "source": [
    "# Exercise 3"
   ]
  },
  {
   "cell_type": "markdown",
   "id": "248b9947-10a7-4d7b-b4be-4fbf70af9c17",
   "metadata": {},
   "source": [
    "|#|\tTerm|Description|\n",
    "|:-:|:-|:-|\r",
    "|\n",
    "1|\tFunctio|nx|\t|\r\n",
    "|2\tArgumen|tx|s|\t\r",
    "|\n",
    "3\tComme|nx|t|s\t|\r\n",
    "4\tIndentat|x|io|ns|\t\r\n",
    "5\tPac|kx|a|ge|s\t|x|\r",
    "|\n",
    "6|\t.|x|\t|\r\n",
    "|7\t:|x|\t|\r\n",
    "|8\t[]\t\r",
    "|x|\n",
    "9|\t[[|[]]|x|]\t\r\n",
    "10\t{}\t"
   ]
  },
  {
   "cell_type": "markdown",
   "id": "070f6b3b-e4d6-40b4-818b-4efbe6d6de8c",
   "metadata": {},
   "source": [
    "# Exercise 4"
   ]
  },
  {
   "cell_type": "code",
   "execution_count": 20,
   "id": "13ec23ac-5841-4929-a848-2f751f32c044",
   "metadata": {},
   "outputs": [
    {
     "data": {
      "text/plain": [
       "2.5"
      ]
     },
     "execution_count": 20,
     "metadata": {},
     "output_type": "execute_result"
    }
   ],
   "source": [
    "5/2           # normal devision"
   ]
  },
  {
   "cell_type": "code",
   "execution_count": 27,
   "id": "33d43789-28cb-4a13-9f12-fb5932624fbc",
   "metadata": {},
   "outputs": [
    {
     "data": {
      "text/plain": [
       "2"
      ]
     },
     "execution_count": 27,
     "metadata": {},
     "output_type": "execute_result"
    }
   ],
   "source": [
    "5//2          # floor devision\n",
    "              # normal devision but round down to smallest integer\n",
    "              # just remove the decimal"
   ]
  },
  {
   "cell_type": "code",
   "execution_count": 25,
   "id": "84c76d1a-d000-43e8-b90d-b6bae4dc438d",
   "metadata": {},
   "outputs": [
    {
     "data": {
      "text/plain": [
       "1"
      ]
     },
     "execution_count": 25,
     "metadata": {},
     "output_type": "execute_result"
    }
   ],
   "source": [
    "5%2           # return the integeral remainder of integral division\n",
    "              # 5/2 = 2...1, so 1 is the remainder"
   ]
  }
 ],
 "metadata": {
  "kernelspec": {
   "display_name": "Python 3 (ipykernel)",
   "language": "python",
   "name": "python3"
  },
  "language_info": {
   "codemirror_mode": {
    "name": "ipython",
    "version": 3
   },
   "file_extension": ".py",
   "mimetype": "text/x-python",
   "name": "python",
   "nbconvert_exporter": "python",
   "pygments_lexer": "ipython3",
   "version": "3.11.5"
  },
  "toc": {
   "base_numbering": 1,
   "nav_menu": {},
   "number_sections": true,
   "sideBar": true,
   "skip_h1_title": false,
   "title_cell": "Table of Contents",
   "title_sidebar": "Contents",
   "toc_cell": false,
   "toc_position": {},
   "toc_section_display": true,
   "toc_window_display": false
  },
  "vscode": {
   "interpreter": {
    "hash": "31f2aee4e71d21fbe5cf8b01ff0e069b9275f58929596ceb00d14d90e3e16cd6"
   }
  }
 },
 "nbformat": 4,
 "nbformat_minor": 5
}
