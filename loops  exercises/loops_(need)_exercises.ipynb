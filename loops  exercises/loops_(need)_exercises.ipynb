{
 "cells": [
  {
   "attachments": {},
   "cell_type": "markdown",
   "id": "123456",
   "metadata": {},
   "source": [
    "<div style=\"text-align:left;font-size:2em\"><span style=\"font-weight:bolder;font-size:1.25em\">SP2273 | Learning Portfolio</span><br><br><span style=\"font-weight:bold;color:darkred\">Loops (Need) Exercises</span></div>"
   ]
  },
  {
   "cell_type": "markdown",
   "id": "8a7735c5-a82b-4eef-b88d-eab85d1d1665",
   "metadata": {},
   "source": [
    "# Exercise 1 (Celcius to Farenheit)"
   ]
  },
  {
   "cell_type": "code",
   "execution_count": 11,
   "id": "816b3e97-f3a5-4bbd-aec3-c31ad889a5ac",
   "metadata": {},
   "outputs": [
    {
     "name": "stdout",
     "output_type": "stream",
     "text": [
      "0 °C = 32 °F\n",
      "5 °C = 41 °F\n",
      "10 °C = 50 °F\n",
      "15 °C = 59 °F\n",
      "20 °C = 68 °F\n",
      "25 °C = 77 °F\n",
      "30 °C = 86 °F\n",
      "35 °C = 95 °F\n",
      "40 °C = 104 °F\n",
      "45 °C = 113 °F\n",
      "50 °C = 122 °F\n"
     ]
    }
   ],
   "source": [
    "temperatures_celsius = [\n",
    "    0, 5, 10, 15, 20, 25,\n",
    "    30, 35, 40, 45, 50\n",
    "]\n",
    "for i in temperatures_celsius:\n",
    "    print(i,'°C =', int((i * 1.8) + 32),'°F')"
   ]
  },
  {
   "cell_type": "markdown",
   "id": "40ebab63-0035-485c-ab09-bc091e9bb456",
   "metadata": {},
   "source": [
    "# Exercise 2 (Multiplication Table)"
   ]
  },
  {
   "cell_type": "code",
   "execution_count": 70,
   "id": "79f7036f-11cb-4027-be24-dda9891a2645",
   "metadata": {},
   "outputs": [
    {
     "name": "stdout",
     "output_type": "stream",
     "text": [
      "1    2    3    4    5    \n",
      "\n",
      "2    4    6    8    10    \n",
      "\n",
      "3    6    9    12    15    \n",
      "\n",
      "4    8    12    16    20    \n",
      "\n",
      "5    10    15    20    25    \n",
      "\n"
     ]
    }
   ],
   "source": [
    "for original in [1, 2, 3, 4, 5]:\n",
    "    for multiple in [1, 2, 3, 4, 5]:\n",
    "        product = original*multiple\n",
    "        print(f'{product}', end='    ')\n",
    "    print('\\n')"
   ]
  },
  {
   "cell_type": "code",
   "execution_count": 75,
   "id": "d23c835a-19c6-4797-82e7-5b9e1a770759",
   "metadata": {},
   "outputs": [
    {
     "ename": "TypeError",
     "evalue": "'int' object is not iterable",
     "output_type": "error",
     "traceback": [
      "\u001b[1;31m---------------------------------------------------------------------------\u001b[0m",
      "\u001b[1;31mTypeError\u001b[0m                                 Traceback (most recent call last)",
      "Cell \u001b[1;32mIn[75], line 2\u001b[0m\n\u001b[0;32m      1\u001b[0m \u001b[38;5;28;01mfor\u001b[39;00m original \u001b[38;5;129;01min\u001b[39;00m [\u001b[38;5;241m1\u001b[39m, \u001b[38;5;241m2\u001b[39m, \u001b[38;5;241m3\u001b[39m, \u001b[38;5;241m4\u001b[39m, \u001b[38;5;241m5\u001b[39m]:\n\u001b[1;32m----> 2\u001b[0m     \u001b[38;5;28;01mfor\u001b[39;00m count, ori \u001b[38;5;129;01min\u001b[39;00m \u001b[38;5;28;43menumerate\u001b[39;49m\u001b[43m(\u001b[49m\u001b[43moriginal\u001b[49m\u001b[43m)\u001b[49m:\n\u001b[0;32m      3\u001b[0m         \u001b[38;5;28;01mfor\u001b[39;00m multiple \u001b[38;5;129;01min\u001b[39;00m [\u001b[38;5;241m1\u001b[39m, \u001b[38;5;241m2\u001b[39m, \u001b[38;5;241m3\u001b[39m, \u001b[38;5;241m4\u001b[39m, \u001b[38;5;241m5\u001b[39m]:\n\u001b[0;32m      4\u001b[0m             product \u001b[38;5;241m=\u001b[39m original\u001b[38;5;241m*\u001b[39mmultiple\n",
      "\u001b[1;31mTypeError\u001b[0m: 'int' object is not iterable"
     ]
    }
   ],
   "source": [
    "for original in [1, 2, 3, 4, 5]:\n",
    "    for count, ori in enumerate(original):\n",
    "        for multiple in [1, 2, 3, 4, 5]:\n",
    "            product = original*multiple\n",
    "            print(f'{product}', end='    ')\n",
    "        print('\\n')"
   ]
  },
  {
   "cell_type": "markdown",
   "id": "e3ece06c-214d-48ba-ac4d-e4765ba3850f",
   "metadata": {},
   "source": [
    "QUESTION: how to have the 'number : ' at the front? QAQ"
   ]
  }
 ],
 "metadata": {
  "kernelspec": {
   "display_name": "Python 3 (ipykernel)",
   "language": "python",
   "name": "python3"
  },
  "language_info": {
   "codemirror_mode": {
    "name": "ipython",
    "version": 3
   },
   "file_extension": ".py",
   "mimetype": "text/x-python",
   "name": "python",
   "nbconvert_exporter": "python",
   "pygments_lexer": "ipython3",
   "version": "3.11.5"
  },
  "toc": {
   "base_numbering": 1,
   "nav_menu": {},
   "number_sections": true,
   "sideBar": true,
   "skip_h1_title": false,
   "title_cell": "Table of Contents",
   "title_sidebar": "Contents",
   "toc_cell": false,
   "toc_position": {},
   "toc_section_display": true,
   "toc_window_display": false
  },
  "vscode": {
   "interpreter": {
    "hash": "31f2aee4e71d21fbe5cf8b01ff0e069b9275f58929596ceb00d14d90e3e16cd6"
   }
  }
 },
 "nbformat": 4,
 "nbformat_minor": 5
}
