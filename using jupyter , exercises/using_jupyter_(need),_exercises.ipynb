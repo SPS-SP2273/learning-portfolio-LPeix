{
 "cells": [
  {
   "attachments": {},
   "cell_type": "markdown",
   "id": "123456",
   "metadata": {},
   "source": [
    "<div style=\"text-align:left;font-size:2em\"><span style=\"font-weight:bolder;font-size:1.25em\">SP2273 | Learning Portfolio</span><br><br><span style=\"font-weight:bold;color:darkred\">Using Jupyter (Need), Exercises</span></div>"
   ]
  },
  {
   "cell_type": "markdown",
   "id": "1c4f640a-7b44-4f99-b36b-779057218652",
   "metadata": {},
   "source": [
    "# Exercise 1"
   ]
  },
  {
   "attachments": {},
   "cell_type": "markdown",
   "id": "48dc8092",
   "metadata": {},
   "source": [
    "## Quadratic Equations"
   ]
  },
  {
   "attachments": {},
   "cell_type": "markdown",
   "id": "b17def32",
   "metadata": {},
   "source": [
    "### Introduction"
   ]
  },
  {
   "cell_type": "markdown",
   "id": "3e8ae123-6bab-420c-b4d1-62a37c4dfed9",
   "metadata": {},
   "source": [
    "![](https://upload.wikimedia.org/wikipedia/commons/thumb/f/f8/Polynomialdeg2.svg/300px-Polynomialdeg2.svg.png)  \n",
    "(*Image from the [Wikipedia page on Quadratic equations](https://en.wikipedia.org/wiki/Quadratic_equation)*)\n",
    "\n",
    "The general form of a quadratic equation is:  \n",
    "$$ ax^{2}+bx+c = 0 $$"
   ]
  },
  {
   "attachments": {},
   "cell_type": "markdown",
   "id": "d620805f",
   "metadata": {},
   "source": [
    "### Solutions"
   ]
  },
  {
   "cell_type": "markdown",
   "id": "2d9c847a-d762-4480-8708-7e60343f4a04",
   "metadata": {},
   "source": [
    "Provided $a \\ne 0$, we can use an elementary algebraic method called [completeing the square](https://en.wikipedia.org/wiki}{Completing_the_square) to show that a quadratic equation has the following solution:  \n",
    "$$ x = \\dfrac{-b \\pm \\sqrt{b^{2} - 4ac}}{2a}$$"
   ]
  },
  {
   "attachments": {},
   "cell_type": "markdown",
   "id": "73e179b0",
   "metadata": {},
   "source": [
    "### Discriminant"
   ]
  },
  {
   "cell_type": "markdown",
   "id": "814261d7-d19c-496b-b8d1-bb9d83c03b4a",
   "metadata": {},
   "source": [
    "The quantity $\\Delta = b^{2} - 4ac$ is called the **discriminant** of the equation and decides the nature of its solutions. The table below shows the various possibilities.\n",
    "\n",
    "|Discriminant|Roots|\n",
    "|:-|:-|\n",
    "|$\\Delta = b^{2} - 4ac = 0$|A single solution of $-b/(2a)$|\n",
    "|$\\Delta = b^{2} - 4ac \\gt 0$|Two distinct solutions|\n",
    "|$\\Delta = b^{2} - 4ac \\lt 0$|No real solutions; both are complex.|"
   ]
  },
  {
   "cell_type": "code",
   "execution_count": null,
   "id": "332b01c2-cd6d-49bb-953f-ec2b1eb36e19",
   "metadata": {},
   "outputs": [],
   "source": [
    "# E"
   ]
  }
 ],
 "metadata": {
  "kernelspec": {
   "display_name": "Python 3 (ipykernel)",
   "language": "python",
   "name": "python3"
  },
  "language_info": {
   "codemirror_mode": {
    "name": "ipython",
    "version": 3
   },
   "file_extension": ".py",
   "mimetype": "text/x-python",
   "name": "python",
   "nbconvert_exporter": "python",
   "pygments_lexer": "ipython3",
   "version": "3.11.5"
  },
  "toc": {
   "base_numbering": 1,
   "nav_menu": {},
   "number_sections": true,
   "sideBar": true,
   "skip_h1_title": false,
   "title_cell": "Table of Contents",
   "title_sidebar": "Contents",
   "toc_cell": false,
   "toc_position": {},
   "toc_section_display": true,
   "toc_window_display": false
  },
  "vscode": {
   "interpreter": {
    "hash": "31f2aee4e71d21fbe5cf8b01ff0e069b9275f58929596ceb00d14d90e3e16cd6"
   }
  }
 },
 "nbformat": 4,
 "nbformat_minor": 5
}
