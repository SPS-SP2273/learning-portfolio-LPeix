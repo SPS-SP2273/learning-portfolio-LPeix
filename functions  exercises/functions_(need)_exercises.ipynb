{
 "cells": [
  {
   "attachments": {},
   "cell_type": "markdown",
   "id": "123456",
   "metadata": {},
   "source": [
    "<div style=\"text-align:left;font-size:2em\"><span style=\"font-weight:bolder;font-size:1.25em\">SP2273 | Learning Portfolio</span><br><br><span style=\"font-weight:bold;color:darkred\">Functions (Need) Exercises</span></div>"
   ]
  },
  {
   "cell_type": "markdown",
   "id": "0e1459b0-b480-4570-a543-5b87f7baa736",
   "metadata": {},
   "source": [
    "# Exercise"
   ]
  },
  {
   "cell_type": "markdown",
   "id": "9ec3e1ce-1842-4b9b-8f92-250fe61482b5",
   "metadata": {},
   "source": [
    "the `if` statement specifies that if the name is 'Batman', the function would return the sentence 'Hello Batman! So, nice to meet you!'. If the name is not 'Batman' the code would jump to the next block after `if` part, which is `return f'Hello{name}!`"
   ]
  },
  {
   "cell_type": "markdown",
   "id": "0c9226a7-8d21-48f3-a545-d856187889be",
   "metadata": {},
   "source": [
    "# Exercise"
   ]
  },
  {
   "cell_type": "code",
   "execution_count": 3,
   "id": "62693934-d82c-4ddf-bc66-4e2ed01fb173",
   "metadata": {},
   "outputs": [],
   "source": [
    "def calculate_bmi(weight, height):\n",
    "    BMI = weight/(height**2)\n",
    "    if BMI < 18.5:\n",
    "        return 'Underweight'\n",
    "    elif 18.5 <= BMI <= 24.9:\n",
    "        return 'Normal weight'\n",
    "    elif 25 <= BMI <= 29.9:\n",
    "        return 'Overweight'\n",
    "    elif BMI > 30:\n",
    "        return 'Obesity'"
   ]
  },
  {
   "cell_type": "code",
   "execution_count": 6,
   "id": "8d0de155-cf04-4420-a664-44a14922e493",
   "metadata": {},
   "outputs": [
    {
     "name": "stdout",
     "output_type": "stream",
     "text": [
      "Normal weight\n"
     ]
    }
   ],
   "source": [
    "print(calculate_bmi(80, 2))"
   ]
  }
 ],
 "metadata": {
  "kernelspec": {
   "display_name": "Python 3 (ipykernel)",
   "language": "python",
   "name": "python3"
  },
  "language_info": {
   "codemirror_mode": {
    "name": "ipython",
    "version": 3
   },
   "file_extension": ".py",
   "mimetype": "text/x-python",
   "name": "python",
   "nbconvert_exporter": "python",
   "pygments_lexer": "ipython3",
   "version": "3.11.5"
  },
  "toc": {
   "base_numbering": 1,
   "nav_menu": {},
   "number_sections": true,
   "sideBar": true,
   "skip_h1_title": false,
   "title_cell": "Table of Contents",
   "title_sidebar": "Contents",
   "toc_cell": false,
   "toc_position": {},
   "toc_section_display": true,
   "toc_window_display": false
  },
  "vscode": {
   "interpreter": {
    "hash": "31f2aee4e71d21fbe5cf8b01ff0e069b9275f58929596ceb00d14d90e3e16cd6"
   }
  }
 },
 "nbformat": 4,
 "nbformat_minor": 5
}
