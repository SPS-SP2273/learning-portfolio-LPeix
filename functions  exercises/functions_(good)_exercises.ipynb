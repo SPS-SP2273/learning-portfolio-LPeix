{
 "cells": [
  {
   "attachments": {},
   "cell_type": "markdown",
   "id": "123456",
   "metadata": {},
   "source": [
    "<div style=\"text-align:left;font-size:2em\"><span style=\"font-weight:bolder;font-size:1.25em\">SP2273 | Learning Portfolio</span><br><br><span style=\"font-weight:bold;color:darkred\">Functions (Good) Exercises</span></div>"
   ]
  },
  {
   "cell_type": "markdown",
   "id": "7462148b-4a95-4d2f-9bc1-d6de61886773",
   "metadata": {},
   "source": [
    "# Exercise"
   ]
  },
  {
   "cell_type": "code",
   "execution_count": 16,
   "id": "19f923fb-9ace-493f-a623-3fca42c605b5",
   "metadata": {},
   "outputs": [],
   "source": [
    "def convert_celsius(temperature_celsius, target_scale = 'Fahrenheit'):\n",
    "    if target_scale == 'Kelvin':\n",
    "        return temperature_celsius + 273.15\n",
    "    return (temperature_celsius*1.8) + 32"
   ]
  },
  {
   "cell_type": "code",
   "execution_count": 17,
   "id": "968c3328-2416-4bd7-8534-b349d2e8cde0",
   "metadata": {},
   "outputs": [
    {
     "data": {
      "text/plain": [
       "78.80000000000001"
      ]
     },
     "execution_count": 17,
     "metadata": {},
     "output_type": "execute_result"
    }
   ],
   "source": [
    "convert_celsius(26)"
   ]
  },
  {
   "cell_type": "code",
   "execution_count": 9,
   "id": "f2ff5fcc-d10d-48d2-9285-896924b47c80",
   "metadata": {},
   "outputs": [
    {
     "data": {
      "text/plain": [
       "299.15"
      ]
     },
     "execution_count": 9,
     "metadata": {},
     "output_type": "execute_result"
    }
   ],
   "source": [
    "convert_celsius(26, target_scale = 'Kelvin')"
   ]
  },
  {
   "cell_type": "markdown",
   "id": "b40f8aaa-5ed2-4978-89d2-f019b67bf11d",
   "metadata": {},
   "source": [
    "# Exercise"
   ]
  },
  {
   "cell_type": "code",
   "execution_count": 14,
   "id": "6fddd9af-b7d6-4ce8-b2c6-4c190f24c858",
   "metadata": {},
   "outputs": [],
   "source": [
    "def convert_fahrenheit(temperature_fahrenheit, target_scale = 'Celsius'):\n",
    "    if target_scale == 'Kelvin':\n",
    "        return (temperature_fahrenheit - 32)*(5/9) + 273.15\n",
    "    return (temperature_fahrenheit - 32)*(5/9) "
   ]
  },
  {
   "cell_type": "code",
   "execution_count": 18,
   "id": "2937ad50-5241-4f57-ac88-09d613cfdd3f",
   "metadata": {},
   "outputs": [
    {
     "data": {
      "text/plain": [
       "26.0"
      ]
     },
     "execution_count": 18,
     "metadata": {},
     "output_type": "execute_result"
    }
   ],
   "source": [
    "convert_fahrenheit(78.8)"
   ]
  },
  {
   "cell_type": "code",
   "execution_count": 19,
   "id": "e58085de-7bb8-4992-bc95-303a7c6ff2b2",
   "metadata": {},
   "outputs": [
    {
     "data": {
      "text/plain": [
       "299.15"
      ]
     },
     "execution_count": 19,
     "metadata": {},
     "output_type": "execute_result"
    }
   ],
   "source": [
    "convert_fahrenheit(78.8, target_scale = 'Kelvin')"
   ]
  },
  {
   "cell_type": "markdown",
   "id": "19ae8b9e-f2a9-4628-8aba-656e3a93d866",
   "metadata": {},
   "source": [
    "# Exercise"
   ]
  },
  {
   "cell_type": "code",
   "execution_count": 20,
   "id": "e81570c3-2008-488e-9f80-a65ab2114031",
   "metadata": {},
   "outputs": [],
   "source": [
    "def convert_temperature(temperature, source_scale, target_scale):\n",
    "    if source_scale == 'Celsius' and target_scale == 'Fahrenheit':\n",
    "        return convert_celsius(temperature)\n",
    "    if source_scale == 'Fahrenheit' and target_scale == 'Celsius':\n",
    "        return convert_fahrenheit(temperature)\n",
    "    if source_scale == 'Celsius' and target_scale == 'Kelvin':\n",
    "        return convert_celsius(temperature, target_scale = 'Kelvin')\n",
    "    if source_scale == 'Fahrenheit' and target_scale == 'Kelvin':\n",
    "        return convert_fahrenheit(temperature, target_scale == 'Kelvin')\n",
    "    if source_scale == 'Kelvin' and target_scale == 'Celsius':\n",
    "        return temperature - 273.15\n",
    "    if source_scale == 'Kelvin' and target_scale == 'Fahrenheit':\n",
    "        return (temperature -273.15)*1.8 + 32"
   ]
  },
  {
   "cell_type": "code",
   "execution_count": 21,
   "id": "60812a66-8e8a-4d9a-abd5-f436262a8ee5",
   "metadata": {},
   "outputs": [
    {
     "data": {
      "text/plain": [
       "26.0"
      ]
     },
     "execution_count": 21,
     "metadata": {},
     "output_type": "execute_result"
    }
   ],
   "source": [
    "convert_temperature(299.15, 'Kelvin', 'Celsius')"
   ]
  },
  {
   "cell_type": "code",
   "execution_count": 22,
   "id": "d6fe5d20-300e-40be-9033-b2e285548c32",
   "metadata": {},
   "outputs": [
    {
     "data": {
      "text/plain": [
       "299.15"
      ]
     },
     "execution_count": 22,
     "metadata": {},
     "output_type": "execute_result"
    }
   ],
   "source": [
    "convert_temperature(26, 'Celsius', 'Kelvin')"
   ]
  }
 ],
 "metadata": {
  "kernelspec": {
   "display_name": "Python 3 (ipykernel)",
   "language": "python",
   "name": "python3"
  },
  "language_info": {
   "codemirror_mode": {
    "name": "ipython",
    "version": 3
   },
   "file_extension": ".py",
   "mimetype": "text/x-python",
   "name": "python",
   "nbconvert_exporter": "python",
   "pygments_lexer": "ipython3",
   "version": "3.11.5"
  },
  "toc": {
   "base_numbering": 1,
   "nav_menu": {},
   "number_sections": true,
   "sideBar": true,
   "skip_h1_title": false,
   "title_cell": "Table of Contents",
   "title_sidebar": "Contents",
   "toc_cell": false,
   "toc_position": {},
   "toc_section_display": true,
   "toc_window_display": false
  },
  "vscode": {
   "interpreter": {
    "hash": "31f2aee4e71d21fbe5cf8b01ff0e069b9275f58929596ceb00d14d90e3e16cd6"
   }
  }
 },
 "nbformat": 4,
 "nbformat_minor": 5
}
