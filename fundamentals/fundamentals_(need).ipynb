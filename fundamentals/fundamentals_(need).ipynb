{
 "cells": [
  {
   "attachments": {},
   "cell_type": "markdown",
   "id": "123456",
   "metadata": {},
   "source": [
    "<div style=\"text-align:left;font-size:2em\"><span style=\"font-weight:bolder;font-size:1.25em\">SP2273 | Learning Portfolio</span><br><br><span style=\"font-weight:bold;color:darkred\">Fundamentals (Need)</span></div>"
   ]
  },
  {
   "attachments": {},
   "cell_type": "markdown",
   "id": "58a9ad59",
   "metadata": {},
   "source": [
    "# What to expect in this chapter"
   ]
  },
  {
   "attachments": {},
   "cell_type": "markdown",
   "id": "3dd2e7cb",
   "metadata": {},
   "source": [
    "# 1 Functions"
   ]
  },
  {
   "cell_type": "markdown",
   "id": "48a5a0cb-fba7-440d-913c-69dd1085b29d",
   "metadata": {},
   "source": [
    "**function** = does a specific task  \n",
    "**argument** = inside parentheses  \n",
    "**code** = instructions written using a syntax that a programming langugage understands  \n",
    "\n",
    "`function(argument)`\n",
    "`()` Parentheses **always** follow a function  \n",
    "**!!!** some parentheses are empty for functions not requiring argument (e.g. `exit()`)  \n",
    "\n",
    "\n",
    "`print()` = function that accepts the \"Hello World\" argument and prints it to the screen  \n",
    "\n",
    "`print()` is a core (in-built) Python function  \n",
    "more functions can be defined ourselves"
   ]
  },
  {
   "attachments": {},
   "cell_type": "markdown",
   "id": "b610151b",
   "metadata": {},
   "source": [
    "# 2 Remember"
   ]
  },
  {
   "cell_type": "markdown",
   "id": "a9ac87bb-b328-4c2d-af52-0e830de0739e",
   "metadata": {},
   "source": [
    "incoporated above"
   ]
  },
  {
   "attachments": {},
   "cell_type": "markdown",
   "id": "030a4b0e",
   "metadata": {},
   "source": [
    "# 3 Python is interpreted"
   ]
  },
  {
   "cell_type": "markdown",
   "id": "64247d5f-b416-4b28-9f20-21338458563e",
   "metadata": {},
   "source": [
    "**interpreter** = works sequentially, one command at a time  \n",
    "if have error(s) in the command it currently exercutes, interpreter stops & complains"
   ]
  },
  {
   "attachments": {},
   "cell_type": "markdown",
   "id": "a88ad16c",
   "metadata": {},
   "source": [
    "# 4 Python is sensitive."
   ]
  },
  {
   "cell_type": "markdown",
   "id": "fe6c5e66-2e83-4edf-a2db-e75b09e97b2c",
   "metadata": {},
   "source": [
    "**case-sensitive**  \n",
    "`Print()` is different from `print()`  \n",
    "\n",
    "```\n",
    "print('Hellow World') # This WILL work  \n",
    "Print('Hello World') # This will NOT work\n",
    "```"
   ]
  },
  {
   "cell_type": "code",
   "execution_count": 3,
   "id": "88915a03-008a-41cf-acd0-582b91ded3a6",
   "metadata": {},
   "outputs": [
    {
     "name": "stdout",
     "output_type": "stream",
     "text": [
      "Hellow World\n"
     ]
    }
   ],
   "source": [
    "print('Hellow World')"
   ]
  },
  {
   "cell_type": "code",
   "execution_count": 4,
   "id": "64456fe3-2f4d-4dfa-9491-2e2dc2ac6ae9",
   "metadata": {},
   "outputs": [
    {
     "ename": "NameError",
     "evalue": "name 'Print' is not defined",
     "output_type": "error",
     "traceback": [
      "\u001b[1;31m---------------------------------------------------------------------------\u001b[0m",
      "\u001b[1;31mNameError\u001b[0m                                 Traceback (most recent call last)",
      "Cell \u001b[1;32mIn[4], line 1\u001b[0m\n\u001b[1;32m----> 1\u001b[0m \u001b[43mPrint\u001b[49m(\u001b[38;5;124m'\u001b[39m\u001b[38;5;124mHellow World\u001b[39m\u001b[38;5;124m'\u001b[39m)\n",
      "\u001b[1;31mNameError\u001b[0m: name 'Print' is not defined"
     ]
    }
   ],
   "source": [
    "Print('Hellow World')"
   ]
  },
  {
   "attachments": {},
   "cell_type": "markdown",
   "id": "ca9cd527",
   "metadata": {},
   "source": [
    "# 5 Remember"
   ]
  },
  {
   "attachments": {},
   "cell_type": "markdown",
   "id": "31a2f0eb",
   "metadata": {},
   "source": [
    "# 6 Comments"
   ]
  },
  {
   "cell_type": "markdown",
   "id": "58740f04-fbb2-448e-bff1-77e0cb48b8e2",
   "metadata": {},
   "source": [
    "`#` follows by comments  \n",
    "Python ignores all comments  \n",
    "comments usually specify/emphasise the **purpose** of the code\n",
    "\n",
    "e.g.  \n",
    "```\n",
    "# This is a comment\n",
    "\r\n",
    "print('One')              # This is a comment.\r\n",
    "# print('Two')            # The interpreter ignores this line.\r\n",
    "print('Three')            # This is\r\n",
    "                          # also a way to\r\n",
    "                          # wcommentsments"
   ]
  },
  {
   "cell_type": "markdown",
   "id": "e7fcf67d-deca-481e-b3b4-7a64fe5e2784",
   "metadata": {},
   "source": [
    "**!!!** unnecessary comments create cluter & hinder code readability  \n",
    "e.g.\n",
    "```\n",
    "print(\"Hello world\" )     # Printing \"Hello World.\"\n",
    "```"
   ]
  },
  {
   "attachments": {},
   "cell_type": "markdown",
   "id": "b5a5abd9",
   "metadata": {},
   "source": [
    "# 8 = is not the same as =="
   ]
  },
  {
   "cell_type": "markdown",
   "id": "2f4b7e84-a208-444b-9ad3-1d24787db20d",
   "metadata": {},
   "source": [
    "`=` to **set** sth equal / **assigns** a value\n",
    "```\n",
    "name = 'the Flash'     # Make name carry 'the Flash'\n",
    "```\n",
    "\n",
    "`==` to **check** if sth is equal (i.e. asking a qn)\n",
    "```\n",
    "name == 'the Flash'    # Tell me if name is equal to 'the Flash'?\n",
    "                       # Answer: True or False\n",
    "```\n",
    "\n",
    "**!!!** `=` is **not** the same as `==`"
   ]
  },
  {
   "attachments": {},
   "cell_type": "markdown",
   "id": "c4ead3b5",
   "metadata": {},
   "source": [
    "# 10 Use if to make decisions"
   ]
  },
  {
   "cell_type": "markdown",
   "id": "a1f63c59-058d-4155-a392-f33cb7bb7fa4",
   "metadata": {},
   "source": [
    "`if` to **branch** the flow of the program, to make decisions  \n",
    "`if` tests a condition\n",
    "- if the ans is `True`, it prints *Hi which Flash are you?*\n",
    "- if the ans is `False`, it prints *DCEU please make a better movie will ya*\n",
    "**!!!** note the use of `:` and indentation (4 spaces / tab) to define actions after ans\n",
    "\n",
    "e.g.\n",
    "```\n",
    "name = 'the Flash'\n",
    "\n",
    "if name == 'the Flash':\n",
    "    print ('Hi which Flash are you?')\n",
    "else:\n",
    "    print('DCEU please make a better movie will ya')\n",
    "```"
   ]
  },
  {
   "attachments": {},
   "cell_type": "markdown",
   "id": "44c64f21",
   "metadata": {},
   "source": [
    "# 12 Indentations (spaces) are sooo IMPORTANT!"
   ]
  },
  {
   "cell_type": "markdown",
   "id": "dc77a7e7-e2b9-45c9-802b-1c00cd6aa35f",
   "metadata": {},
   "source": [
    "**indentation** to **separate** the `True` and `False` blocks  \n",
    "`:` used to designate a block of code\n",
    "cannot use indentations indiscriminately because it will confuse Python"
   ]
  },
  {
   "attachments": {},
   "cell_type": "markdown",
   "id": "700d39b2",
   "metadata": {},
   "source": [
    "# 14 ‘age’ is English, age is a variable."
   ]
  },
  {
   "cell_type": "code",
   "execution_count": null,
   "id": "e67da90e-db13-47c9-a7b4-2d0c4151406e",
   "metadata": {},
   "outputs": [],
   "source": []
  },
  {
   "attachments": {},
   "cell_type": "markdown",
   "id": "48d96d90",
   "metadata": {},
   "source": [
    "# 15 Brackets"
   ]
  },
  {
   "attachments": {},
   "cell_type": "markdown",
   "id": "c256cac4",
   "metadata": {},
   "source": [
    "# 16 Giving Python superpowers with Packages"
   ]
  },
  {
   "attachments": {},
   "cell_type": "markdown",
   "id": "920cd95e",
   "metadata": {},
   "source": [
    "## 16.1 Some Context"
   ]
  },
  {
   "attachments": {},
   "cell_type": "markdown",
   "id": "7ec86488",
   "metadata": {},
   "source": [
    "## 16.2 Importing the math package"
   ]
  },
  {
   "attachments": {},
   "cell_type": "markdown",
   "id": "589791a7",
   "metadata": {},
   "source": [
    "## 16.3 Importing the numpy package"
   ]
  },
  {
   "attachments": {},
   "cell_type": "markdown",
   "id": "ec046519",
   "metadata": {},
   "source": [
    "## 16.4 Why so many packages?"
   ]
  },
  {
   "attachments": {},
   "cell_type": "markdown",
   "id": "1830d0a9",
   "metadata": {},
   "source": [
    "# 17 Remember"
   ]
  },
  {
   "attachments": {},
   "cell_type": "markdown",
   "id": "0474f808",
   "metadata": {},
   "source": [
    "# 18 The dot (.)"
   ]
  },
  {
   "attachments": {},
   "cell_type": "markdown",
   "id": "41d839f8",
   "metadata": {},
   "source": [
    "# 19 Remember"
   ]
  },
  {
   "attachments": {},
   "cell_type": "markdown",
   "id": "063e07e4",
   "metadata": {},
   "source": [
    "## Footnotes"
   ]
  }
 ],
 "metadata": {
  "kernelspec": {
   "display_name": "Python 3 (ipykernel)",
   "language": "python",
   "name": "python3"
  },
  "language_info": {
   "codemirror_mode": {
    "name": "ipython",
    "version": 3
   },
   "file_extension": ".py",
   "mimetype": "text/x-python",
   "name": "python",
   "nbconvert_exporter": "python",
   "pygments_lexer": "ipython3",
   "version": "3.11.5"
  },
  "toc": {
   "base_numbering": 1,
   "nav_menu": {},
   "number_sections": true,
   "sideBar": true,
   "skip_h1_title": false,
   "title_cell": "Table of Contents",
   "title_sidebar": "Contents",
   "toc_cell": false,
   "toc_position": {},
   "toc_section_display": true,
   "toc_window_display": false
  },
  "vscode": {
   "interpreter": {
    "hash": "31f2aee4e71d21fbe5cf8b01ff0e069b9275f58929596ceb00d14d90e3e16cd6"
   }
  }
 },
 "nbformat": 4,
 "nbformat_minor": 5
}
