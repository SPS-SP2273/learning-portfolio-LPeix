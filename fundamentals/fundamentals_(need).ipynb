{
 "cells": [
  {
   "attachments": {},
   "cell_type": "markdown",
   "id": "123456",
   "metadata": {},
   "source": [
    "<div style=\"text-align:left;font-size:2em\"><span style=\"font-weight:bolder;font-size:1.25em\">SP2273 | Learning Portfolio</span><br><br><span style=\"font-weight:bold;color:darkred\">Fundamentals (Need)</span></div>"
   ]
  },
  {
   "attachments": {},
   "cell_type": "markdown",
   "id": "58a9ad59",
   "metadata": {},
   "source": [
    "# Chapter Summary"
   ]
  },
  {
   "cell_type": "markdown",
   "id": "43345c00-676b-4284-be2f-8ec109c936b0",
   "metadata": {},
   "source": [
    "- function definition & format\n",
    "    - `print()`, `math.sqrt()` etc\n",
    "- Python is interpreter, run line command, sensitive\n",
    "- use of comment `#`, decision `if`, indentation `tab`, brackets `()` `[]` `{}`, dot `.`\n",
    "- use of list and dictionary\n",
    "- diff btw `-` & `==`, word & variable\n",
    "- packages"
   ]
  },
  {
   "attachments": {},
   "cell_type": "markdown",
   "id": "3dd2e7cb",
   "metadata": {},
   "source": [
    "# Functions"
   ]
  },
  {
   "cell_type": "markdown",
   "id": "48a5a0cb-fba7-440d-913c-69dd1085b29d",
   "metadata": {},
   "source": [
    "**function** = does a specific task  \n",
    "**argument** = inside parentheses  \n",
    "**code** = instructions written using a syntax that a programming langugage understands  \n",
    "\n",
    "`function(argument)`\n",
    "`()` Parentheses **always** follow a function  \n",
    "**!!!** some parentheses are empty for functions not requiring argument (e.g. `exit()`)  \n",
    "\n",
    "\n",
    "`print()` = function that accepts the \"Hello World\" argument and prints it to the screen  \n",
    "\n",
    "`print()` is a core (in-built) Python function  \n",
    "more functions can be defined ourselves"
   ]
  },
  {
   "attachments": {},
   "cell_type": "markdown",
   "id": "030a4b0e",
   "metadata": {},
   "source": [
    "# Python as interpreter"
   ]
  },
  {
   "cell_type": "markdown",
   "id": "64247d5f-b416-4b28-9f20-21338458563e",
   "metadata": {},
   "source": [
    "**interpreter** = works sequentially, one command at a time  \n",
    "if have error(s) in the command it currently executes, interpreter stops & complains"
   ]
  },
  {
   "attachments": {},
   "cell_type": "markdown",
   "id": "a88ad16c",
   "metadata": {},
   "source": [
    "# Python is sensitive"
   ]
  },
  {
   "cell_type": "markdown",
   "id": "fe6c5e66-2e83-4edf-a2db-e75b09e97b2c",
   "metadata": {},
   "source": [
    "**case-sensitive**  \n",
    "`Print()` is different from `print()`  \n",
    "\n",
    "```\n",
    "print('Hellow World') # This WILL work  \n",
    "Print('Hello World') # This will NOT work\n",
    "```"
   ]
  },
  {
   "cell_type": "code",
   "execution_count": 3,
   "id": "88915a03-008a-41cf-acd0-582b91ded3a6",
   "metadata": {},
   "outputs": [
    {
     "name": "stdout",
     "output_type": "stream",
     "text": [
      "Hellow World\n"
     ]
    }
   ],
   "source": [
    "print('Hellow World')"
   ]
  },
  {
   "cell_type": "code",
   "execution_count": 4,
   "id": "64456fe3-2f4d-4dfa-9491-2e2dc2ac6ae9",
   "metadata": {},
   "outputs": [
    {
     "ename": "NameError",
     "evalue": "name 'Print' is not defined",
     "output_type": "error",
     "traceback": [
      "\u001b[1;31m---------------------------------------------------------------------------\u001b[0m",
      "\u001b[1;31mNameError\u001b[0m                                 Traceback (most recent call last)",
      "Cell \u001b[1;32mIn[4], line 1\u001b[0m\n\u001b[1;32m----> 1\u001b[0m \u001b[43mPrint\u001b[49m(\u001b[38;5;124m'\u001b[39m\u001b[38;5;124mHellow World\u001b[39m\u001b[38;5;124m'\u001b[39m)\n",
      "\u001b[1;31mNameError\u001b[0m: name 'Print' is not defined"
     ]
    }
   ],
   "source": [
    "Print('Hellow World')"
   ]
  },
  {
   "attachments": {},
   "cell_type": "markdown",
   "id": "31a2f0eb",
   "metadata": {},
   "source": [
    "# Comments"
   ]
  },
  {
   "cell_type": "markdown",
   "id": "58740f04-fbb2-448e-bff1-77e0cb48b8e2",
   "metadata": {},
   "source": [
    "`#` follows by comments  \n",
    "Python ignores all comments  \n",
    "comments usually specify/emphasise the **purpose** of the code\n",
    "\n",
    "e.g.  \n",
    "```\n",
    "# This is a comment\n",
    "\r\n",
    "print('One')              # This is a comment.\r\n",
    "# print('Two')            # The interpreter ignores this line.\r\n",
    "print('Three')            # This is\r\n",
    "                          # also a way to\r\n",
    "                          # wcommentsments"
   ]
  },
  {
   "cell_type": "markdown",
   "id": "e7fcf67d-deca-481e-b3b4-7a64fe5e2784",
   "metadata": {},
   "source": [
    "**!!!** unnecessary comments create cluter & hinder code readability  \n",
    "e.g.\n",
    "```\n",
    "print(\"Hello world\" )     # Printing \"Hello World.\"\n",
    "```"
   ]
  },
  {
   "attachments": {},
   "cell_type": "markdown",
   "id": "b5a5abd9",
   "metadata": {},
   "source": [
    "# = is not the same as =="
   ]
  },
  {
   "cell_type": "markdown",
   "id": "2f4b7e84-a208-444b-9ad3-1d24787db20d",
   "metadata": {},
   "source": [
    "`=` to **set** sth equal / **assigns** a value\n",
    "```\n",
    "name = 'the Flash'     # Make name carry 'the Flash'\n",
    "```\n",
    "\n",
    "`==` to **check** if sth is equal (i.e. asking a qn)\n",
    "```\n",
    "name == 'the Flash'    # Tell me if name is equal to 'the Flash'?\n",
    "                       # Answer: True or False\n",
    "```\n",
    "\n",
    "**!!!** `=` is **not** the same as `==`"
   ]
  },
  {
   "attachments": {},
   "cell_type": "markdown",
   "id": "c4ead3b5",
   "metadata": {},
   "source": [
    "# Use if to make decisions"
   ]
  },
  {
   "cell_type": "markdown",
   "id": "a1f63c59-058d-4155-a392-f33cb7bb7fa4",
   "metadata": {},
   "source": [
    "`if` to **branch** the flow of the program, to make decisions  \n",
    "`if` tests a condition\n",
    "- if the ans is `True`, it prints *Hi which Flash are you?*\n",
    "- if the ans is `False`, it prints *DCEU please make a better movie will ya*\n",
    "**!!!** note the use of `:` and indentation (4 spaces / tab) to define actions after ans\n",
    "\n",
    "e.g.\n",
    "```\n",
    "name = 'the Flash'\n",
    "\n",
    "if name == 'the Flash':\n",
    "    print ('Hi which Flash are you?')\n",
    "else:\n",
    "    print('DCEU please make a better movie will ya')\n",
    "```"
   ]
  },
  {
   "attachments": {},
   "cell_type": "markdown",
   "id": "44c64f21",
   "metadata": {},
   "source": [
    "# Indentations (spaces)"
   ]
  },
  {
   "cell_type": "markdown",
   "id": "dc77a7e7-e2b9-45c9-802b-1c00cd6aa35f",
   "metadata": {},
   "source": [
    "**indentation** to **separate** the `True` and `False` blocks  \n",
    "`:` used to designate a block of code  \n",
    "cannot use indentations indiscriminately because it will confuse Python  \n",
    "**!!!** use `tab` key consistently instead of mixing spaces and tabs"
   ]
  },
  {
   "attachments": {},
   "cell_type": "markdown",
   "id": "700d39b2",
   "metadata": {},
   "source": [
    "# ‘age’ is English, age is a variable"
   ]
  },
  {
   "cell_type": "markdown",
   "id": "612fae3c-6c0d-4ddd-95fa-b62ecb1d2a6d",
   "metadata": {},
   "source": [
    "variable has to be assigned a value first (otherwise complains)  \n",
    "**!!!** only keywords like `if`,`for`,`while`,`is` cannot be assigned a value  \n",
    "e.g.  \n",
    "```\n",
    "age = 10\n",
    "print(age)\n",
    "```\n",
    "NOTE the difference between **value** and **word**  \n",
    "```\n",
    "print(age)    # Print the value of the variable age\n",
    "print('age')  # Print the English word 'age'\n",
    "```\n",
    "can use `' '` or `\" \"` but good to be consistent! (esp with both present)  \n",
    "e.g.\n",
    "```\n",
    "print(\"you're 10000 years old.\")\n",
    "```"
   ]
  },
  {
   "attachments": {},
   "cell_type": "markdown",
   "id": "48d96d90",
   "metadata": {},
   "source": [
    "# Brackets"
   ]
  },
  {
   "cell_type": "markdown",
   "id": "7affcf50-6b28-4f7b-a4a3-f625878d23fa",
   "metadata": {},
   "source": [
    "three types of brackets:\n",
    "1. `( )` for calls to function\n",
    "```\n",
    "    print('Hello There!')    # in functions\n",
    "```\n",
    "2. `( )` for mathematics\n",
    "```\n",
    "    (1 + 2) * 5              # for maths\n",
    "```])\n",
    "```       ]"
   ]
  },
  {
   "cell_type": "markdown",
   "id": "c897ca06-836f-42bc-b79e-9ee70e96b2bd",
   "metadata": {},
   "source": [
    "3. `[ ]` for lists of data    \n",
    "```\n",
    "py_list = [1, 2, 3, 4, 5]   # A 1D list\n",
    "py_list_2 = [               # A 2D list\n",
    "                    [1, \"A\"],      \n",
    "                    [2, \"B\"],\n",
    "                    [3, \"C\"],\n",
    "                    [4, \"D\"],\n",
    "                    [5, \"E\"]\n",
    "                ]\n",
    "```"
   ]
  },
  {
   "cell_type": "markdown",
   "id": "baa4fcd1-de72-453a-8016-efc419812a4f",
   "metadata": {},
   "source": [
    "4. `{ }` to store data in dictionary\n",
    "```    \n",
    "    personal_info = {\n",
    "        'Name': 'Obi-wan Kenobi',\n",
    "        'Affiliation': 'Jedi High Council',\n",
    "        'Rank': 'Jedi General',\n",
    "        'Second-in Command': 'CC-2224 Cody'\n",
    "        'Universe': 'Star Wars'\n",
    "    }\n",
    "```    "
   ]
  },
  {
   "cell_type": "markdown",
   "id": "0989326b-535e-4c63-9ebc-269fa3f26cc4",
   "metadata": {},
   "source": [
    "**!!!** dictionary uses a **key** to identify a **value**  \n",
    "e.g. 'Name' -> 'Obi-wan Kenobi'  \n",
    "a neat way to store data & quickly access information\n",
    "```\n",
    "print(personal_info['Name'])\n",
    "```"
   ]
  },
  {
   "cell_type": "code",
   "execution_count": 12,
   "id": "63a18fab-eefc-4f34-9a94-8a73c97bfe3b",
   "metadata": {},
   "outputs": [
    {
     "name": "stdout",
     "output_type": "stream",
     "text": [
      "Obi-wan Kenobi\n"
     ]
    }
   ],
   "source": [
    "personal_info = {\n",
    "    'Name': 'Obi-wan Kenobi',\n",
    "    'Affiliation': 'Jedi High Council',\n",
    "    'Rank': 'Jedi General',\n",
    "    'Second-in Command': 'CC-2224 Cody',\n",
    "    'Universe': 'Star Wars'\n",
    "}\n",
    "\n",
    "print(personal_info['Name'])"
   ]
  },
  {
   "attachments": {},
   "cell_type": "markdown",
   "id": "c256cac4",
   "metadata": {},
   "source": [
    "# Packages"
   ]
  },
  {
   "attachments": {},
   "cell_type": "markdown",
   "id": "920cd95e",
   "metadata": {},
   "source": [
    "## Some Context"
   ]
  },
  {
   "cell_type": "markdown",
   "id": "89b41916-2889-45e0-bbad-69e8aca9d819",
   "metadata": {},
   "source": [
    "there's limit in basic Python  \n",
    "to calculate:  \n",
    "$$\\dfrac{1*((2-3)+4)^5}{6}$$"
   ]
  },
  {
   "cell_type": "code",
   "execution_count": 16,
   "id": "d82ad3aa-2bef-467c-8885-311c6a8ee11d",
   "metadata": {},
   "outputs": [
    {
     "data": {
      "text/plain": [
       "40.5"
      ]
     },
     "execution_count": 16,
     "metadata": {},
     "output_type": "execute_result"
    }
   ],
   "source": [
    "1 * ((2 - 3) + 4) ** 5 / 6"
   ]
  },
  {
   "cell_type": "code",
   "execution_count": 17,
   "id": "92ffed1d-7d91-49b1-8c0b-13225c45be78",
   "metadata": {},
   "outputs": [
    {
     "ename": "NameError",
     "evalue": "name 'sqrt' is not defined",
     "output_type": "error",
     "traceback": [
      "\u001b[1;31m---------------------------------------------------------------------------\u001b[0m",
      "\u001b[1;31mNameError\u001b[0m                                 Traceback (most recent call last)",
      "Cell \u001b[1;32mIn[17], line 1\u001b[0m\n\u001b[1;32m----> 1\u001b[0m \u001b[43msqrt\u001b[49m(\u001b[38;5;241m4\u001b[39m)\n",
      "\u001b[1;31mNameError\u001b[0m: name 'sqrt' is not defined"
     ]
    }
   ],
   "source": [
    "sqrt(4)"
   ]
  },
  {
   "cell_type": "markdown",
   "id": "ff6a7ed3-54b1-4a48-afff-399e204a909e",
   "metadata": {},
   "source": [
    "$\\sqrt{4}$ cannot be calculated  \n",
    "imbue Python with newer functionality by using **packages**  \n",
    "e.g. giving Python more math skills by importing the `math` package \n",
    "\n",
    "*from tutor's comments:*  \n",
    "- calculate sqrt in python = `4**(0.5)`, treat roots as fractional exponents  \n",
    "- sqrt() doesn't work in Python $\\because$ no one has defined what `sqrt()` mean (see from `NameError`)  \n",
    "- packages imported are essentially things defined/made by other people"
   ]
  },
  {
   "attachments": {},
   "cell_type": "markdown",
   "id": "7ec86488",
   "metadata": {},
   "source": [
    "## Importing the math package"
   ]
  },
  {
   "cell_type": "code",
   "execution_count": 20,
   "id": "8200e76d-215d-47f4-9eea-529fdb638875",
   "metadata": {},
   "outputs": [],
   "source": [
    "import math   # importing the functions of the 'math' package"
   ]
  },
  {
   "cell_type": "markdown",
   "id": "65140801-8aad-4415-ae0c-4c130a95068b",
   "metadata": {},
   "source": [
    "then `sqrt()` function of the `math` module can be used"
   ]
  },
  {
   "cell_type": "code",
   "execution_count": 22,
   "id": "748aeec5-4019-4d00-8f4b-abb43a93e05a",
   "metadata": {},
   "outputs": [
    {
     "data": {
      "text/plain": [
       "2.0"
      ]
     },
     "execution_count": 22,
     "metadata": {},
     "output_type": "execute_result"
    }
   ],
   "source": [
    "math.sqrt(4)"
   ]
  },
  {
   "attachments": {},
   "cell_type": "markdown",
   "id": "589791a7",
   "metadata": {},
   "source": [
    "## Importing the numpy package"
   ]
  },
  {
   "cell_type": "markdown",
   "id": "c43a445e-dbaf-4b68-8c70-3bf86f71c639",
   "metadata": {},
   "source": [
    "`Numpy` package also have `sqrt()` functionality"
   ]
  },
  {
   "cell_type": "code",
   "execution_count": 24,
   "id": "3b2a61df-bf8a-46c8-a6da-78296229a185",
   "metadata": {},
   "outputs": [],
   "source": [
    "import numpy as np    # importing Numpy\n",
    "                      # 'as np' = giving it an alias 'np'"
   ]
  },
  {
   "cell_type": "markdown",
   "id": "976a348c-a861-4369-ab49-00e5d3d4d6d3",
   "metadata": {},
   "source": [
    "after imported it as `np`, can use `np` instead of the longer `numpy`"
   ]
  },
  {
   "cell_type": "code",
   "execution_count": 25,
   "id": "9a819006-2673-4962-97f6-f360f779a924",
   "metadata": {},
   "outputs": [
    {
     "data": {
      "text/plain": [
       "2.0"
      ]
     },
     "execution_count": 25,
     "metadata": {},
     "output_type": "execute_result"
    }
   ],
   "source": [
    "np.sqrt(4)"
   ]
  },
  {
   "attachments": {},
   "cell_type": "markdown",
   "id": "ec046519",
   "metadata": {},
   "source": [
    "## Why so many packages?"
   ]
  },
  {
   "cell_type": "markdown",
   "id": "2dc0ec3e-5ee3-4561-894a-8594645215ed",
   "metadata": {},
   "source": [
    "**!!!** different versions/packages have diff capabilities & efficiencies  \n",
    "e.g. the `Numpy` version can handle a list of numbers:"
   ]
  },
  {
   "cell_type": "code",
   "execution_count": 26,
   "id": "185752e8-fae7-4e11-b9db-fa8ac6943904",
   "metadata": {},
   "outputs": [
    {
     "data": {
      "text/plain": [
       "array([2., 3., 4.])"
      ]
     },
     "execution_count": 26,
     "metadata": {},
     "output_type": "execute_result"
    }
   ],
   "source": [
    "np.sqrt([4, 9, 16])"
   ]
  },
  {
   "cell_type": "markdown",
   "id": "ddc7ceaf-f6b5-4dba-866d-38ccf4fc8475",
   "metadata": {},
   "source": [
    "just need to import the packages **once**!  \n",
    "Python will rmmb the fxn until it is restarted"
   ]
  },
  {
   "attachments": {},
   "cell_type": "markdown",
   "id": "0474f808",
   "metadata": {},
   "source": [
    "# The dot (.)"
   ]
  },
  {
   "cell_type": "markdown",
   "id": "057d9544-d1aa-429c-afc4-6068f20cc83d",
   "metadata": {},
   "source": [
    "**dot**`.` indicates ownership AND what it can access based on the context  \n",
    "e.g.  \n",
    "`math.sqrt(4)` = use `sqrt()` fxn that belongs to the math module  \n",
    "`np.sqrt(4)` = use `sqrt()` fxn that belongs to Numpy"
   ]
  },
  {
   "cell_type": "markdown",
   "id": "7d787407-2d01-4f8b-b517-6fc39d35bd64",
   "metadata": {},
   "source": [
    "Everything in Python (e.g. numbers, letters) have functions and attributes that can be accessed by the dot.  \n",
    "e.g."
   ]
  },
  {
   "cell_type": "code",
   "execution_count": 28,
   "id": "c19d8515-447b-484c-b633-9cd9286ede45",
   "metadata": {},
   "outputs": [
    {
     "data": {
      "text/plain": [
       "['I', 'am', 'the', 'Flash']"
      ]
     },
     "execution_count": 28,
     "metadata": {},
     "output_type": "execute_result"
    }
   ],
   "source": [
    "'I am the Flash'.split()"
   ]
  },
  {
   "cell_type": "markdown",
   "id": "05c4d162-cdfd-422d-9374-353f678525b2",
   "metadata": {},
   "source": [
    "**!!!** BUT numbers cannot be split  \n",
    "e.g."
   ]
  },
  {
   "cell_type": "code",
   "execution_count": 29,
   "id": "2c53ee7e-6ab6-4797-8cb8-c384e44b1abf",
   "metadata": {},
   "outputs": [
    {
     "ename": "SyntaxError",
     "evalue": "invalid decimal literal (3897031440.py, line 1)",
     "output_type": "error",
     "traceback": [
      "\u001b[1;36m  Cell \u001b[1;32mIn[29], line 1\u001b[1;36m\u001b[0m\n\u001b[1;33m    1234.split()\u001b[0m\n\u001b[1;37m        ^\u001b[0m\n\u001b[1;31mSyntaxError\u001b[0m\u001b[1;31m:\u001b[0m invalid decimal literal\n"
     ]
    }
   ],
   "source": [
    "1234.split()"
   ]
  },
  {
   "cell_type": "markdown",
   "id": "f17004fa-3b8b-4a5d-99a9-8e77d0762018",
   "metadata": {},
   "source": [
    "# Extra Notes"
   ]
  },
  {
   "cell_type": "markdown",
   "id": "1a245c08-f35a-4ce8-a5b3-e1cabf2c03cf",
   "metadata": {},
   "source": [
    "other uses of dot`.` to ask about complex number  \n",
    "e.g."
   ]
  },
  {
   "cell_type": "code",
   "execution_count": 13,
   "id": "737c8949-03ac-455c-80e0-636d6361dfb8",
   "metadata": {},
   "outputs": [],
   "source": [
    "x = 1j + 10"
   ]
  },
  {
   "cell_type": "code",
   "execution_count": 14,
   "id": "50b1343a-f393-4156-994e-1b12f0b83480",
   "metadata": {},
   "outputs": [
    {
     "data": {
      "text/plain": [
       "10.0"
      ]
     },
     "execution_count": 14,
     "metadata": {},
     "output_type": "execute_result"
    }
   ],
   "source": [
    "x.real"
   ]
  },
  {
   "cell_type": "code",
   "execution_count": 15,
   "id": "d85a20e6-137c-46cd-b3c8-d621704497e7",
   "metadata": {},
   "outputs": [
    {
     "data": {
      "text/plain": [
       "1.0"
      ]
     },
     "execution_count": 15,
     "metadata": {},
     "output_type": "execute_result"
    }
   ],
   "source": [
    "x.imag"
   ]
  },
  {
   "cell_type": "markdown",
   "id": "77221b4d-a0e0-4a2b-8de3-ca385cc65712",
   "metadata": {},
   "source": [
    "**no bracket**, because it's a property!  \n",
    "real = real part of number  \n",
    "imag = imaginary part of number  \n",
    "\n",
    "*from tutor's comments:*  \n",
    "- each object from Python has some preset 'characteristics' associated to them  \n",
    "    - **method** = associated functions (function belonging to the object), `'Hello'.split()`  \n",
    "    - **attribute** = associated variables, `(3+1j).real`\n",
    "- wether sth is method or attribute depends on the people behind Python designed it initially"
   ]
  }
 ],
 "metadata": {
  "kernelspec": {
   "display_name": "Python 3 (ipykernel)",
   "language": "python",
   "name": "python3"
  },
  "language_info": {
   "codemirror_mode": {
    "name": "ipython",
    "version": 3
   },
   "file_extension": ".py",
   "mimetype": "text/x-python",
   "name": "python",
   "nbconvert_exporter": "python",
   "pygments_lexer": "ipython3",
   "version": "3.11.5"
  },
  "toc": {
   "base_numbering": 1,
   "nav_menu": {},
   "number_sections": true,
   "sideBar": true,
   "skip_h1_title": false,
   "title_cell": "Table of Contents",
   "title_sidebar": "Contents",
   "toc_cell": false,
   "toc_position": {},
   "toc_section_display": true,
   "toc_window_display": false
  },
  "vscode": {
   "interpreter": {
    "hash": "31f2aee4e71d21fbe5cf8b01ff0e069b9275f58929596ceb00d14d90e3e16cd6"
   }
  }
 },
 "nbformat": 4,
 "nbformat_minor": 5
}
