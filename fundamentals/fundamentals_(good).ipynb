{
 "cells": [
  {
   "attachments": {},
   "cell_type": "markdown",
   "id": "123456",
   "metadata": {},
   "source": [
    "<div style=\"text-align:left;font-size:2em\"><span style=\"font-weight:bolder;font-size:1.25em\">SP2273 | Learning Portfolio</span><br><br><span style=\"font-weight:bold;color:darkred\">Fundamentals (Good)</span></div>"
   ]
  },
  {
   "attachments": {},
   "cell_type": "markdown",
   "id": "bd399779",
   "metadata": {},
   "source": [
    "# Chapter Summary"
   ]
  },
  {
   "cell_type": "markdown",
   "id": "09da0908-6140-4e1c-9734-07dfeed281dc",
   "metadata": {},
   "source": [
    "- `if`, `elif`, `else` to make decisions\n",
    "- `not`, `in`, `and`, `or` to ask questions\n",
    "- types `int`, `str`, `float`, `complex`\n",
    "    - `print(type())` to ask for type; `int/str/float/complex()` to typecast\n",
    "- comparisions only between similar types\n",
    "- math question symbols\n",
    "- f-strings to combine variables `{X:>0Y.ZW}`\n",
    "    - `print(f'str{variable}')`\n",
    "- escape sequences\n",
    "- shorthand syntax\n",
    "- help resources"
   ]
  },
  {
   "attachments": {},
   "cell_type": "markdown",
   "id": "6fbe2cdc",
   "metadata": {},
   "source": [
    "# There is more to if"
   ]
  },
  {
   "cell_type": "markdown",
   "id": "bd4b178e-7fda-44c2-9677-93fc28e101c1",
   "metadata": {},
   "source": [
    "`if` for branching\n",
    "followed by `elif`, ended by `else` (or `elif`)"
   ]
  },
  {
   "cell_type": "code",
   "execution_count": 22,
   "id": "dd1fb3e3-fca8-45ac-b630-b16db8cfbfb8",
   "metadata": {},
   "outputs": [
    {
     "name": "stdout",
     "output_type": "stream",
     "text": [
      "Which Flash are you?\n"
     ]
    }
   ],
   "source": [
    "name = 'Flash'\n",
    "\n",
    "if name == 'Flash':\n",
    "    print('Which Flash are you?')\n",
    "elif name == 'Green Lantern':\n",
    "    print(\"I'm sorry they didn't make a better movie\")\n",
    "else:\n",
    "    print('A long time ago in a galaxy far far away...')"
   ]
  },
  {
   "cell_type": "markdown",
   "id": "867cae88-5e26-4df0-904e-7688724cb2ab",
   "metadata": {},
   "source": [
    "**!!!** note the use of `:`, `tab`, `=`, `==` above"
   ]
  },
  {
   "attachments": {},
   "cell_type": "markdown",
   "id": "83e1aae6",
   "metadata": {},
   "source": [
    "# Asking questions"
   ]
  },
  {
   "cell_type": "markdown",
   "id": "03ffc8c6-39f2-42c1-92a0-582fd01e2842",
   "metadata": {},
   "source": [
    "need to be able to **ask question** before using `if` to make decisions  \n",
    "`not`, `in`, `and`, `or` are Python keywords to ask qns"
   ]
  },
  {
   "cell_type": "code",
   "execution_count": 7,
   "id": "2db71128-f749-4553-aaae-b2ad4c1adc4e",
   "metadata": {},
   "outputs": [],
   "source": [
    "DC = ['Flash', 'Green Lantern', 'Superman', 'Batman']\n",
    "Marvel = ['Vision', 'Wanda', 'Spidey' ,'Daredevil']"
   ]
  },
  {
   "cell_type": "code",
   "execution_count": 8,
   "id": "b47b7ce0-e491-4a01-ae2a-1bc0f242d79d",
   "metadata": {},
   "outputs": [
    {
     "data": {
      "text/plain": [
       "True"
      ]
     },
     "execution_count": 8,
     "metadata": {},
     "output_type": "execute_result"
    }
   ],
   "source": [
    "# ask: is 'Flash' in the list DC?\n",
    "'Flash' in DC"
   ]
  },
  {
   "cell_type": "code",
   "execution_count": 4,
   "id": "bd879e68-c3d8-4846-a35d-443ce8d0d063",
   "metadata": {},
   "outputs": [
    {
     "data": {
      "text/plain": [
       "True"
      ]
     },
     "execution_count": 4,
     "metadata": {},
     "output_type": "execute_result"
    }
   ],
   "source": [
    "# ask: is 'Green Lantern' in the list DC AND is 'Spidey' in the list Marvel?\n",
    "'Green Lantern' in DC and 'Spidey' in Marvel"
   ]
  },
  {
   "cell_type": "code",
   "execution_count": 3,
   "id": "e9ec2749-3443-43d1-82fb-b91b5d1f5e20",
   "metadata": {},
   "outputs": [
    {
     "data": {
      "text/plain": [
       "True"
      ]
     },
     "execution_count": 3,
     "metadata": {},
     "output_type": "execute_result"
    }
   ],
   "source": [
    "# ask: is 'Iron Man' NOT in the list DC?\n",
    "'Iron Man' not in DC"
   ]
  },
  {
   "cell_type": "code",
   "execution_count": 28,
   "id": "336d5863-8aac-4ebd-a50d-442f7e46cdfd",
   "metadata": {},
   "outputs": [
    {
     "data": {
      "text/plain": [
       "False"
      ]
     },
     "execution_count": 28,
     "metadata": {},
     "output_type": "execute_result"
    }
   ],
   "source": [
    "# ask: is 'Iron Man' in the list DC?\n",
    "'Iron Man' in DC"
   ]
  },
  {
   "cell_type": "code",
   "execution_count": 6,
   "id": "70cc8bb5-fb15-48fd-9083-599c6842842e",
   "metadata": {},
   "outputs": [
    {
     "data": {
      "text/plain": [
       "True"
      ]
     },
     "execution_count": 6,
     "metadata": {},
     "output_type": "execute_result"
    }
   ],
   "source": [
    "# ask: is Batman in the list DC or is Daredevil in the list DC?\n",
    "'Batman' in DC or 'Daredevil' in DC"
   ]
  },
  {
   "cell_type": "code",
   "execution_count": 9,
   "id": "0c53d72d-3f92-4890-a956-1af13d3c5823",
   "metadata": {},
   "outputs": [
    {
     "data": {
      "text/plain": [
       "True"
      ]
     },
     "execution_count": 9,
     "metadata": {},
     "output_type": "execute_result"
    }
   ],
   "source": [
    "# ask: is 'Bat' in 'Batmana'?\n",
    "'Bat' in 'Batman'"
   ]
  },
  {
   "cell_type": "markdown",
   "id": "e27f6e39-ef32-4a62-8d0f-4914a4ba2d89",
   "metadata": {},
   "source": [
    "*from tutor's comments:*  \n",
    "to print out each line, use `print()`"
   ]
  },
  {
   "cell_type": "code",
   "execution_count": 10,
   "id": "6d484bb0-1b5e-43e6-bedb-77f922c5f1b0",
   "metadata": {},
   "outputs": [
    {
     "name": "stdout",
     "output_type": "stream",
     "text": [
      "True\n",
      "True\n"
     ]
    }
   ],
   "source": [
    "print('Flash' in DC)\n",
    "print('Spidey' in Marvel)"
   ]
  },
  {
   "attachments": {},
   "cell_type": "markdown",
   "id": "5bbf75b4",
   "metadata": {},
   "source": [
    "# Comparison"
   ]
  },
  {
   "cell_type": "markdown",
   "id": "84fe33bf-41a1-4361-bc91-30f45a434e04",
   "metadata": {},
   "source": [
    "**!!!** Python can only compare similar types (e.g. numbers or English)"
   ]
  },
  {
   "cell_type": "code",
   "execution_count": 34,
   "id": "baabd6b9-61a5-4e4e-9b80-281ef5b2d7a2",
   "metadata": {},
   "outputs": [
    {
     "data": {
      "text/plain": [
       "False"
      ]
     },
     "execution_count": 34,
     "metadata": {},
     "output_type": "execute_result"
    }
   ],
   "source": [
    "6 > 10"
   ]
  },
  {
   "cell_type": "code",
   "execution_count": 35,
   "id": "465d5ea9-e21b-4d48-984f-8fa352d6c26d",
   "metadata": {},
   "outputs": [
    {
     "ename": "TypeError",
     "evalue": "'>' not supported between instances of 'int' and 'str'",
     "output_type": "error",
     "traceback": [
      "\u001b[1;31m---------------------------------------------------------------------------\u001b[0m",
      "\u001b[1;31mTypeError\u001b[0m                                 Traceback (most recent call last)",
      "Cell \u001b[1;32mIn[35], line 1\u001b[0m\n\u001b[1;32m----> 1\u001b[0m \u001b[38;5;241;43m5\u001b[39;49m\u001b[43m \u001b[49m\u001b[38;5;241;43m>\u001b[39;49m\u001b[43m \u001b[49m\u001b[38;5;124;43m'\u001b[39;49m\u001b[38;5;124;43mapple\u001b[39;49m\u001b[38;5;124;43m'\u001b[39;49m\n",
      "\u001b[1;31mTypeError\u001b[0m: '>' not supported between instances of 'int' and 'str'"
     ]
    }
   ],
   "source": [
    "5 > 'apple'"
   ]
  },
  {
   "cell_type": "code",
   "execution_count": 36,
   "id": "614cf4ed-475a-4123-af6a-4a981d532479",
   "metadata": {},
   "outputs": [
    {
     "data": {
      "text/plain": [
       "False"
      ]
     },
     "execution_count": 36,
     "metadata": {},
     "output_type": "execute_result"
    }
   ],
   "source": [
    "'apples' > 'oranges'"
   ]
  },
  {
   "cell_type": "markdown",
   "id": "827c7fbe-fdfb-4856-bb4f-afe3fedf4794",
   "metadata": {},
   "source": [
    "the above comparison works because English letters are internally represented as numbers. (e.g. `a` is 97 and `o` is 111)"
   ]
  },
  {
   "attachments": {},
   "cell_type": "markdown",
   "id": "f904c0e7",
   "metadata": {},
   "source": [
    "## Asking Math questions"
   ]
  },
  {
   "cell_type": "markdown",
   "id": "dce5e184-1ffc-4d06-bdc3-37e11c9c21a1",
   "metadata": {},
   "source": [
    "|Question/Condition|Math Symbol|Python Symbols|\n",
    "|---|---|---|\n",
    "|Equals?|=|`==`|\n",
    "|Not equal?|≠|`!=`|\n",
    "|Less than?|<|`<`|\n",
    "|Greater than?|>|`>`|\n",
    "|Less than or equal?|≤|`<=`|\n",
    "|Greater than or equal?|≥|`>=`|"
   ]
  },
  {
   "cell_type": "markdown",
   "id": "b5c0ee9e-46d0-4ba7-9f2b-ba7ccf2c46b0",
   "metadata": {},
   "source": [
    "also accepts: (brackets increase the readability of the statement)  \n",
    "`x > 5 and x < 15`  \r",
    "`(x > 5) and (x < 15)`    \n",
    "`5 < x < 15`\n",
    "\n"
   ]
  },
  {
   "attachments": {},
   "cell_type": "markdown",
   "id": "9536d54f",
   "metadata": {},
   "source": [
    "# Python stores information in different formats or types"
   ]
  },
  {
   "cell_type": "markdown",
   "id": "8757cc58-8a6b-4987-87f9-ed51a6f09bb1",
   "metadata": {},
   "source": [
    "for efficiency (speed & memory), computer store info in diff ways.  \n",
    "`type()` to ask which format is the info stored  \n",
    "e.g. `print(type())`  \n",
    "four ways in Python (other types see [here](https://realpython.com/python-data-types/))  \n",
    "\n",
    "**typecasting** = cast `x` to another type"
   ]
  },
  {
   "cell_type": "code",
   "execution_count": 39,
   "id": "29a03382-6e13-462b-b23f-16d6f6f947ff",
   "metadata": {},
   "outputs": [
    {
     "name": "stdout",
     "output_type": "stream",
     "text": [
      "1 <class 'int'>\n"
     ]
    }
   ],
   "source": [
    "# integer (int)\n",
    "\n",
    "x = int(1.234)\n",
    "print(x, type(x))"
   ]
  },
  {
   "cell_type": "code",
   "execution_count": 40,
   "id": "2e71d86e-925b-423b-ba71-b146a8e3700c",
   "metadata": {},
   "outputs": [
    {
     "name": "stdout",
     "output_type": "stream",
     "text": [
      "1.234 <class 'str'>\n"
     ]
    }
   ],
   "source": [
    "# word/string (str)\n",
    "\n",
    "x = str(1.234)\n",
    "print(x, type(x))"
   ]
  },
  {
   "cell_type": "code",
   "execution_count": 43,
   "id": "d1ef068c-147d-47f8-827e-c94bbb5135fd",
   "metadata": {},
   "outputs": [
    {
     "name": "stdout",
     "output_type": "stream",
     "text": [
      "1.234 <class 'float'>\n"
     ]
    }
   ],
   "source": [
    "# decimal number (float)\n",
    "\n",
    "x = float(1.234)\n",
    "print(x, type(x))"
   ]
  },
  {
   "cell_type": "code",
   "execution_count": 42,
   "id": "03c2d33d-e085-432f-9f85-d402d30381cb",
   "metadata": {},
   "outputs": [
    {
     "name": "stdout",
     "output_type": "stream",
     "text": [
      "(1.234+0j) <class 'complex'>\n"
     ]
    }
   ],
   "source": [
    "# complex number (complex)\n",
    "\n",
    "x = complex(1.234)\n",
    "print(x, type(x))"
   ]
  },
  {
   "attachments": {},
   "cell_type": "markdown",
   "id": "dff66f7d",
   "metadata": {},
   "source": [
    "# Never compare floats directly"
   ]
  },
  {
   "attachments": {},
   "cell_type": "markdown",
   "id": "43740d65",
   "metadata": {},
   "source": [
    "## The Problem"
   ]
  },
  {
   "cell_type": "markdown",
   "id": "f7589c70-347d-4330-8cd0-442306b7b9d9",
   "metadata": {},
   "source": [
    "**roundoff errors** = since computers have finite (hardware) resources, floating point numbers cannot be exactly stored in a computer  \n",
    "e.g."
   ]
  },
  {
   "cell_type": "code",
   "execution_count": 46,
   "id": "f27e1e4f-d729-4b28-8f7f-6e44bdafaf62",
   "metadata": {},
   "outputs": [
    {
     "data": {
      "text/plain": [
       "False"
      ]
     },
     "execution_count": 46,
     "metadata": {},
     "output_type": "execute_result"
    }
   ],
   "source": [
    "# comparing 0.1 x 3 with 0.3\n",
    "a = 0.1\n",
    "a3 = 0.3\n",
    "a * 3 == a3"
   ]
  },
  {
   "cell_type": "code",
   "execution_count": 45,
   "id": "270a0e78-c2cb-4f26-a530-0b22fb8d1c2a",
   "metadata": {},
   "outputs": [
    {
     "data": {
      "text/plain": [
       "'0.29999999999999999'"
      ]
     },
     "execution_count": 45,
     "metadata": {},
     "output_type": "execute_result"
    }
   ],
   "source": [
    "# print 0.3 to 17 decimal places\n",
    "f'{0.3:.17f}'"
   ]
  },
  {
   "attachments": {},
   "cell_type": "markdown",
   "id": "85f6a2e9",
   "metadata": {},
   "source": [
    "## A solution"
   ]
  },
  {
   "cell_type": "markdown",
   "id": "55fd53b9-00c8-4092-af80-10269da53206",
   "metadata": {},
   "source": [
    "can only check if the variable is **close** to the expected values instead of checking for equality  \n",
    "e.g."
   ]
  },
  {
   "cell_type": "code",
   "execution_count": 47,
   "id": "5ee2402d-efcd-4a6f-adbf-0d353d939589",
   "metadata": {},
   "outputs": [
    {
     "data": {
      "text/plain": [
       "True"
      ]
     },
     "execution_count": 47,
     "metadata": {},
     "output_type": "execute_result"
    }
   ],
   "source": [
    "eps = 1E-10\n",
    "abs(a * 3 - a3) < eps"
   ]
  },
  {
   "cell_type": "markdown",
   "id": "1fc45982-03fd-4779-b682-aaa3ff2a73e0",
   "metadata": {},
   "source": [
    "*from tutor's comments:*  \n",
    "eps is $\\epsilon$ symbolising arbitrarily small numbers  \n",
    "but it's actually an arbitrary variable here, can name it in the way the coder wants to"
   ]
  },
  {
   "cell_type": "markdown",
   "id": "f8db4ed9-3459-4e7b-bebb-ecaccb11f256",
   "metadata": {},
   "source": [
    "or just use **Numpy**"
   ]
  },
  {
   "cell_type": "code",
   "execution_count": 48,
   "id": "c627add2-59e6-4073-880d-6df6da33b602",
   "metadata": {},
   "outputs": [
    {
     "data": {
      "text/plain": [
       "True"
      ]
     },
     "execution_count": 48,
     "metadata": {},
     "output_type": "execute_result"
    }
   ],
   "source": [
    "import numpy as np\n",
    "np.isclose(a*3, a3)"
   ]
  },
  {
   "attachments": {},
   "cell_type": "markdown",
   "id": "f5b4a9f3",
   "metadata": {},
   "source": [
    "# Combining English and variables"
   ]
  },
  {
   "cell_type": "markdown",
   "id": "f7edc03f-e812-4a6b-a459-5aca6afd60ae",
   "metadata": {},
   "source": [
    "combine strings w variables, useful for automating personalised responses (e.g. email to a large class)  \n",
    "ways to combine:  \n",
    "1. use `+`\n",
    "2. use `print(f'str'{variable})`\n",
    "\n",
    "`f` & `{}` = **f-string** or **string interpolation**"
   ]
  },
  {
   "attachments": {},
   "cell_type": "markdown",
   "id": "72ed9b1c",
   "metadata": {},
   "source": [
    "## Structure of f-strings"
   ]
  },
  {
   "cell_type": "markdown",
   "id": "354dc2d0-1ed2-42a7-ae4a-c2ca8ff4cc67",
   "metadata": {},
   "source": [
    "`{X:>0Y.ZW}`, more info about f-strings see [here](https://pyformat.info/)"
   ]
  },
  {
   "cell_type": "markdown",
   "id": "e1e08bf0-f8d4-4062-98f4-985682631f27",
   "metadata": {},
   "source": [
    "|Letter|Action|Possible Options|\n",
    "|---|---|---|\n",
    "|`X`|Variable to format|Can be a number or a string|\n",
    "|`>`|Alignment|- `<` (Left justified)<br>- `>` (Right justified)<br>- `^` (Centre justified)|\n",
    "|`0`|Use 0’s to pad the spaces|You can use other characters like a space .|\n",
    "|`Y`|Total number of characters||\n",
    "|`Z`|Number of decimal places||\n",
    "|`W`|Specifies the type of variable.|- `f` (float)<br>- `d` (integer)<br>- `s` (string)<br>- `g` (Asks Python to figure out)|"
   ]
  },
  {
   "cell_type": "markdown",
   "id": "c9be4c35-f8fc-4972-9c46-df9de3b22008",
   "metadata": {},
   "source": [
    "## Examples using f-strings"
   ]
  },
  {
   "cell_type": "code",
   "execution_count": 51,
   "id": "61a12c79-b4a7-4a8c-b109-468cceb5c6b4",
   "metadata": {},
   "outputs": [
    {
     "name": "stdout",
     "output_type": "stream",
     "text": [
      "Hello Bartholomew Henry \"Barry\" Allen!\n"
     ]
    }
   ],
   "source": [
    "# if CANNOT combine, troublesome\n",
    "# imagine doing this for the entire Justice League!\n",
    "Flash = 'Bartholomew Henry \"Barry\" Allen'\n",
    "print('Hello Bartholomew Henry \"Barry\" Allen!')"
   ]
  },
  {
   "cell_type": "code",
   "execution_count": 55,
   "id": "dc247086-c0b7-4d91-87dd-9e3fe7129e72",
   "metadata": {},
   "outputs": [
    {
     "name": "stdout",
     "output_type": "stream",
     "text": [
      "Hello Bartholomew Henry \"Barry\" Allen!\n"
     ]
    }
   ],
   "source": [
    "# or doing this\n",
    "print('Hello '+ Flash + '!')"
   ]
  },
  {
   "cell_type": "code",
   "execution_count": 57,
   "id": "74469244-5b7e-4cf6-8f35-5567cd8447e3",
   "metadata": {},
   "outputs": [
    {
     "name": "stdout",
     "output_type": "stream",
     "text": [
      "Hello Bartholomew Henry \"Barry\" Allen!\n"
     ]
    }
   ],
   "source": [
    "# USE VARIABLE\n",
    "Flash = 'Bartholomew Henry \"Barry\" Allen'\n",
    "print(f'Hello {Flash}!')"
   ]
  },
  {
   "cell_type": "code",
   "execution_count": 59,
   "id": "da358657-0c50-4c2d-ac04-30124a0cccb2",
   "metadata": {},
   "outputs": [
    {
     "name": "stdout",
     "output_type": "stream",
     "text": [
      "The value of 10 squared is 100!\n"
     ]
    }
   ],
   "source": [
    "# for number\n",
    "x = 10\n",
    "print(f\"The value of {x} squared is {x**2}!\")"
   ]
  },
  {
   "cell_type": "markdown",
   "id": "21dae381-3c5f-4c9d-aa13-b2e6c983cd6a",
   "metadata": {},
   "source": [
    "----\n",
    "using f-strings to **format text (strings)** (good for text game haha)  \n",
    "e.g."
   ]
  },
  {
   "cell_type": "code",
   "execution_count": 2,
   "id": "fb755500-7545-401d-bd8d-6baa271b666b",
   "metadata": {},
   "outputs": [
    {
     "name": "stdout",
     "output_type": "stream",
     "text": [
      "         BATMAN OHHHH         \n"
     ]
    }
   ],
   "source": [
    "text = 'BATMAN OHHHH'\n",
    "print(f'{text:^30}')      # A block of 30 characters;\n",
    "                          # aligned centre"
   ]
  },
  {
   "cell_type": "code",
   "execution_count": 61,
   "id": "44597ca4-f25d-472e-b8dd-5e693ace259b",
   "metadata": {},
   "outputs": [
    {
     "name": "stdout",
     "output_type": "stream",
     "text": [
      "---------BATMAN OHHHH---------\n"
     ]
    }
   ],
   "source": [
    "text = 'BATMAN OHHHH'\n",
    "print(f'{text:-^30}')      # A block of 30 characters;\n",
    "                           # aligned centre between -"
   ]
  },
  {
   "cell_type": "code",
   "execution_count": 62,
   "id": "098cd765-628c-41dd-ba25-64d51d954814",
   "metadata": {},
   "outputs": [
    {
     "name": "stdout",
     "output_type": "stream",
     "text": [
      "xxxxxxxxxBATMAN OHHHHxxxxxxxxx\n"
     ]
    }
   ],
   "source": [
    "text = 'BATMAN OHHHH'\n",
    "print(f'{text:x^30}')      # A block of 30 characters;\n",
    "                           # aligned centre between x"
   ]
  },
  {
   "cell_type": "markdown",
   "id": "a98a2140-3608-4b1a-8079-69f366ffa4cf",
   "metadata": {},
   "source": [
    "----\n",
    "using f-string to **format numbers**  \n",
    "`f` in `.xf` = tell the f-string to output the number in **decimal notation**  \n",
    "`e` in `.xe` = output the number in **scientific notation**  \n",
    "e.g."
   ]
  },
  {
   "cell_type": "code",
   "execution_count": 71,
   "id": "29c41355-44bf-41a2-9bc1-74236fd99885",
   "metadata": {},
   "outputs": [
    {
     "data": {
      "text/plain": [
       "'3.1232438'"
      ]
     },
     "execution_count": 71,
     "metadata": {},
     "output_type": "execute_result"
    }
   ],
   "source": [
    "f'{3.12324375069587045:.7f}'"
   ]
  },
  {
   "cell_type": "code",
   "execution_count": 63,
   "id": "bb803153-98e2-4079-a6ae-5563e4fea4fc",
   "metadata": {},
   "outputs": [
    {
     "name": "stdout",
     "output_type": "stream",
     "text": [
      "The cube of pi to 6 decimal places is 31.006277\n"
     ]
    }
   ],
   "source": [
    "print(f'The cube of pi to 6 decimal places is {np.pi**3:.6f}')"
   ]
  },
  {
   "cell_type": "code",
   "execution_count": 8,
   "id": "5f1e06ee-8c31-4ccc-87c8-ee7ee0f242f4",
   "metadata": {},
   "outputs": [
    {
     "name": "stdout",
     "output_type": "stream",
     "text": [
      "The cube of pi to 6 decimal places is            31.006277\n"
     ]
    }
   ],
   "source": [
    "print(f'The cube of pi to 6 decimal places is {np.pi**3:20.6f}')"
   ]
  },
  {
   "cell_type": "code",
   "execution_count": 70,
   "id": "d9c5cb52-3a01-4abe-a49a-52fe5f3a0aae",
   "metadata": {},
   "outputs": [
    {
     "name": "stdout",
     "output_type": "stream",
     "text": [
      "The cube of pi to 6 decimal places is 3.100628e+01\n"
     ]
    }
   ],
   "source": [
    "print(f'The cube of pi to 6 decimal places is {np.pi**3:.6e}')"
   ]
  },
  {
   "attachments": {},
   "cell_type": "markdown",
   "id": "a235d9fa",
   "metadata": {},
   "source": [
    "# Escape sequences"
   ]
  },
  {
   "cell_type": "markdown",
   "id": "4a4b4365-4a75-4f51-9b33-c56fb24643de",
   "metadata": {},
   "source": [
    "**escape sequence** = special characters used in English (to be not interpreted as Python language)"
   ]
  },
  {
   "cell_type": "markdown",
   "id": "6753fbdb-bdda-46c2-a711-ab9c77bde708",
   "metadata": {},
   "source": [
    "|Escape Sequence|Meaning|\n",
    "|:--|:--|\n",
    "|\\’|Single quote|\n",
    "|\\\\|Backslash|\n",
    "|\\n|Newline|\n",
    "|\\t|Horizontal Tab|"
   ]
  },
  {
   "cell_type": "markdown",
   "id": "4cc88085-9f41-4dcb-8e7d-2f1127962fd3",
   "metadata": {},
   "source": [
    "e.g."
   ]
  },
  {
   "cell_type": "code",
   "execution_count": 12,
   "id": "27cbfdb6-c185-49e9-a781-3401f0cc21ab",
   "metadata": {},
   "outputs": [
    {
     "name": "stdout",
     "output_type": "stream",
     "text": [
      "You're twenty years old.\n"
     ]
    }
   ],
   "source": [
    "# lazy not using ' and ''\n",
    "print('You\\'re twenty years old.') "
   ]
  },
  {
   "cell_type": "code",
   "execution_count": 11,
   "id": "73e83311-7338-4439-ba58-0605dfe581e6",
   "metadata": {},
   "outputs": [
    {
     "name": "stdout",
     "output_type": "stream",
     "text": [
      "A\\B\\C\n"
     ]
    }
   ],
   "source": [
    "# for backlash without accidentally creating new lines or horizontal tabs\n",
    "print('A\\\\B\\\\C')"
   ]
  },
  {
   "cell_type": "code",
   "execution_count": 14,
   "id": "54396344-5944-46c8-b448-cbe3501bb003",
   "metadata": {},
   "outputs": [
    {
     "name": "stdout",
     "output_type": "stream",
     "text": [
      "A\n",
      "B\n",
      "C\n"
     ]
    }
   ],
   "source": [
    "# line break!\n",
    "print('A\\nB\\nC')"
   ]
  },
  {
   "cell_type": "code",
   "execution_count": 15,
   "id": "bfc0ea1e-982c-479b-b0e7-f395fca85eee",
   "metadata": {},
   "outputs": [
    {
     "name": "stdout",
     "output_type": "stream",
     "text": [
      "A\tB\tC\n"
     ]
    }
   ],
   "source": [
    "# tabs!\n",
    "print('A\\tB\\tC')"
   ]
  },
  {
   "attachments": {},
   "cell_type": "markdown",
   "id": "47554c88",
   "metadata": {},
   "source": [
    "# Computers read from Right to Left!"
   ]
  },
  {
   "cell_type": "markdown",
   "id": "bd0ee721-f9c2-48b8-8043-6e0dd616e329",
   "metadata": {},
   "source": [
    "**!!!** this will not work in math, but ok in Python"
   ]
  },
  {
   "cell_type": "code",
   "execution_count": 16,
   "id": "79760087-ab17-453b-a941-e4bcad28b3d1",
   "metadata": {},
   "outputs": [
    {
     "name": "stdout",
     "output_type": "stream",
     "text": [
      "42\n"
     ]
    }
   ],
   "source": [
    "y = 40\n",
    "y = y + 2\n",
    "print(y)"
   ]
  },
  {
   "attachments": {},
   "cell_type": "markdown",
   "id": "16e793b3",
   "metadata": {},
   "source": [
    "# Shorter and Cleaner Code"
   ]
  },
  {
   "cell_type": "markdown",
   "id": "6b978a07-adb2-491b-88b6-3a64dd3057a6",
   "metadata": {},
   "source": [
    "**augmented assignment** = shorthand syntax, to make code neater"
   ]
  },
  {
   "cell_type": "markdown",
   "id": "d0acb11d-8a4f-467d-9ceb-a31c52a33b8e",
   "metadata": {},
   "source": [
    "|Long|form|Shorthand|\n",
    "|:-:|:-:|:-:|\n",
    "|Addition|y = y+2|y += 2|\n",
    "|Subtraction|y = y-2|y -= 2|\n",
    "|Multiplication|y = y*2|y *= 2|\n",
    "|Division|y = y/2|y /= 2|"
   ]
  },
  {
   "cell_type": "markdown",
   "id": "2bca9c32-1ca6-41ad-a493-c3a597d776ed",
   "metadata": {},
   "source": [
    "e.g."
   ]
  },
  {
   "cell_type": "code",
   "execution_count": 17,
   "id": "d133af8e-1d1b-4c60-8df8-e577deb90ae1",
   "metadata": {},
   "outputs": [
    {
     "data": {
      "text/plain": [
       "42"
      ]
     },
     "execution_count": 17,
     "metadata": {},
     "output_type": "execute_result"
    }
   ],
   "source": [
    "y = 40\n",
    "y = y + 2\n",
    "y"
   ]
  },
  {
   "cell_type": "code",
   "execution_count": 18,
   "id": "9130af7f-d3c3-47b5-b87e-d5a790003175",
   "metadata": {},
   "outputs": [
    {
     "data": {
      "text/plain": [
       "42"
      ]
     },
     "execution_count": 18,
     "metadata": {},
     "output_type": "execute_result"
    }
   ],
   "source": [
    "y = 40\n",
    "y += 2    # Same as y = y + 2\n",
    "y"
   ]
  },
  {
   "attachments": {},
   "cell_type": "markdown",
   "id": "8fb72445",
   "metadata": {},
   "source": [
    "# Python can be a prima-donna."
   ]
  },
  {
   "cell_type": "markdown",
   "id": "91c4286e-7500-420c-b131-836a2b66dc22",
   "metadata": {},
   "source": [
    "when complained, scroll to the end to see the real problem  \n",
    "**debugging** = fixing code errors"
   ]
  },
  {
   "attachments": {},
   "cell_type": "markdown",
   "id": "2a5abeba",
   "metadata": {},
   "source": [
    "# Best Practices for Scientific Computing"
   ]
  },
  {
   "cell_type": "markdown",
   "id": "068c6af8-6c67-4831-88b2-230104775756",
   "metadata": {},
   "source": [
    "- Always start simple and get something working first before making it perfect\n",
    "- produce understandable codes for your future self and peers\n",
    "- document design and purpose, not mechanics\n",
    "- collaborate "
   ]
  },
  {
   "attachments": {},
   "cell_type": "markdown",
   "id": "5a343124",
   "metadata": {},
   "source": [
    "# Looking for help"
   ]
  },
  {
   "cell_type": "markdown",
   "id": "0a839d22-695c-437c-acad-7f5ebd51334a",
   "metadata": {},
   "source": [
    "**source**:  \n",
    "- [stack overflow](https://stackoverflow.com/questions/tagged/python)\n",
    "- Google\n",
    "- ChatGPT\n",
    "- Python itself (least recommended)"
   ]
  },
  {
   "cell_type": "code",
   "execution_count": 19,
   "id": "fb4cf57e-aac5-4856-accc-8b00da88c7b4",
   "metadata": {},
   "outputs": [
    {
     "name": "stdout",
     "output_type": "stream",
     "text": [
      "Help on built-in function print in module builtins:\n",
      "\n",
      "print(*args, sep=' ', end='\\n', file=None, flush=False)\n",
      "    Prints the values to a stream, or to sys.stdout by default.\n",
      "    \n",
      "    sep\n",
      "      string inserted between values, default a space.\n",
      "    end\n",
      "      string appended after the last value, default a newline.\n",
      "    file\n",
      "      a file-like object (stream); defaults to the current sys.stdout.\n",
      "    flush\n",
      "      whether to forcibly flush the stream.\n",
      "\n"
     ]
    }
   ],
   "source": [
    "help(print)"
   ]
  }
 ],
 "metadata": {
  "kernelspec": {
   "display_name": "Python 3 (ipykernel)",
   "language": "python",
   "name": "python3"
  },
  "language_info": {
   "codemirror_mode": {
    "name": "ipython",
    "version": 3
   },
   "file_extension": ".py",
   "mimetype": "text/x-python",
   "name": "python",
   "nbconvert_exporter": "python",
   "pygments_lexer": "ipython3",
   "version": "3.11.5"
  },
  "toc": {
   "base_numbering": 1,
   "nav_menu": {},
   "number_sections": true,
   "sideBar": true,
   "skip_h1_title": false,
   "title_cell": "Table of Contents",
   "title_sidebar": "Contents",
   "toc_cell": false,
   "toc_position": {},
   "toc_section_display": true,
   "toc_window_display": false
  },
  "vscode": {
   "interpreter": {
    "hash": "31f2aee4e71d21fbe5cf8b01ff0e069b9275f58929596ceb00d14d90e3e16cd6"
   }
  }
 },
 "nbformat": 4,
 "nbformat_minor": 5
}
