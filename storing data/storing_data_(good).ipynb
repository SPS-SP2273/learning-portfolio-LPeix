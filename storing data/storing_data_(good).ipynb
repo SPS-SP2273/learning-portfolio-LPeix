{
 "cells": [
  {
   "attachments": {},
   "cell_type": "markdown",
   "id": "123456",
   "metadata": {},
   "source": [
    "<div style=\"text-align:left;font-size:2em\"><span style=\"font-weight:bolder;font-size:1.25em\">SP2273 | Learning Portfolio</span><br><br><span style=\"font-weight:bold;color:darkred\">Storing Data (Good)</span></div>"
   ]
  },
  {
   "attachments": {},
   "cell_type": "markdown",
   "id": "0a8295e4",
   "metadata": {},
   "source": [
    "# Chapter Summary"
   ]
  },
  {
   "cell_type": "markdown",
   "id": "fee2c344-3dd5-47cc-a377-3e28bedc5cac",
   "metadata": {},
   "source": [
    "- subset, index, slice definitions  \n",
    "- slicing = `[i:j]`  \n",
    "- masking  = `array_name[masking_criteria]`  \n",
    "    - use of Bitwise NOT `~`, OR `|`, AND `&`\n",
    "- list & array indexing and slicing differences\n",
    "- growing list\n",
    "    - extension\n",
    "      - `+` or `+=`\n",
    "      - `extend()`\n",
    "    - append\n",
    "      - `append()`\n",
    "- tuple uses `()`, immutable\n",
    "- copying = `copy()`  "
   ]
  },
  {
   "attachments": {},
   "cell_type": "markdown",
   "id": "c44af10e",
   "metadata": {},
   "source": [
    "# Subsetting: Indexing and Slicing"
   ]
  },
  {
   "cell_type": "markdown",
   "id": "79524b70-a3d3-4e7a-8786-1ee82559e9a2",
   "metadata": {},
   "source": [
    "**subset** = select a subset  \n",
    "**index** = select one element  \n",
    "**slice** = select a range of elements"
   ]
  },
  {
   "attachments": {},
   "cell_type": "markdown",
   "id": "527d4d53",
   "metadata": {},
   "source": [
    "## Lists & Arrays in 1D | Subsetting & Indexing"
   ]
  },
  {
   "cell_type": "markdown",
   "id": "611bb632-eaa3-43b6-8bc0-3a2f64c60762",
   "metadata": {},
   "source": [
    "the following applies to both lists & arrays"
   ]
  },
  {
   "cell_type": "markdown",
   "id": "6ce65c7f-48ac-4cd2-8191-50fd7699b200",
   "metadata": {},
   "source": [
    "`[i:j]` = slice start at `i`, end at `j-1`, giving a total of `j-i` element"
   ]
  },
  {
   "cell_type": "code",
   "execution_count": 6,
   "id": "9484aaf8-9ee2-4d01-97f4-114a3236af44",
   "metadata": {},
   "outputs": [],
   "source": [
    "import numpy as np\n",
    "py_list=[\"a1\", \"b2\", \"c3\", \"d4\", \"e5\",\n",
    "         \"f6\", \"g7\", \"h8\", \"i9\", \"j10\"]\n",
    "np_array=np.array(py_list)\n",
    "\n",
    "# Pick one\n",
    "x = py_list  # OR\n",
    "x = np_array"
   ]
  },
  {
   "cell_type": "markdown",
   "id": "6d9e10fa-6b4f-4cdf-8f07-db4ee94926e9",
   "metadata": {},
   "source": [
    "|Syntax|Result| |Note|\n",
    "|---|---|---|---|\n",
    "|`x[0]`|First element|`'a1'`||\n",
    "|`x[-1]`|Last element|`'j10'`||\n",
    "|`x[0:3]`|Index 0 to 2|`['a1','b2','c3']`|Gives 3−0=3 elements|\n",
    "|`x[1:6]`|Index 1 to 5|`['b2','c3','d4','e5','f6']`|Gives 6−1=5 elements|\n",
    "|`x[1:6:2]`|Index 1 to 5 in steps of 2|`['b2','d4','f6']`|Gives every other of 6−1=5 elements|\n",
    "|`x[5:]`|Index 5 to the end|`['f6','g7','h8','i9','j10']`|Gives `len(x)`−5=5 elements|\n",
    "|`x[:5]`|Index 0 to 5|`['a1','b2','c3','d4','e5']`|Gives 5−0=5 elements|\n",
    "|`x[5:2:-1]`|Index 5 to 3 (i.e., in reverse)|`['f6','e5','d4']`|Gives 5−2=3 elements|\n",
    "|`x[::-1]`|Reverses the list|`['j10','i9','h8',...,'b2','a1']`||\n"
   ]
  },
  {
   "attachments": {},
   "cell_type": "markdown",
   "id": "4820217e",
   "metadata": {},
   "source": [
    "## Arrays only | Subsetting by masking"
   ]
  },
  {
   "cell_type": "markdown",
   "id": "aebfa8df-7b45-4356-9eb7-9e3cb53b2c54",
   "metadata": {},
   "source": [
    "**!!!** subsetting by masking **only** works with NumPy arrays  \n",
    "**mask** = allows only a specific subset to be seen  \n",
    "`array_name[masking_criteria]`"
   ]
  },
  {
   "cell_type": "code",
   "execution_count": 7,
   "id": "6a4cffd0-87f5-487f-807b-a4970e90ac0f",
   "metadata": {},
   "outputs": [
    {
     "data": {
      "text/plain": [
       "array([False, False, False,  True,  True,  True,  True,  True,  True,\n",
       "        True])"
      ]
     },
     "execution_count": 7,
     "metadata": {},
     "output_type": "execute_result"
    }
   ],
   "source": [
    "np_array = np.array([1, 2, 3, 4, 5, 6, 7, 8, 9, 10])\n",
    "my_mask = np_array > 3\n",
    "my_mask"
   ]
  },
  {
   "cell_type": "code",
   "execution_count": 8,
   "id": "12324b3c-0b77-4751-a9ae-3c8cf851c4aa",
   "metadata": {},
   "outputs": [
    {
     "data": {
      "text/plain": [
       "array([ 4,  5,  6,  7,  8,  9, 10])"
      ]
     },
     "execution_count": 8,
     "metadata": {},
     "output_type": "execute_result"
    }
   ],
   "source": [
    "# to only show those that are True\n",
    "np_array[my_mask]"
   ]
  },
  {
   "cell_type": "code",
   "execution_count": 9,
   "id": "14567ad3-cd9e-4f7a-8267-1c58746fe501",
   "metadata": {},
   "outputs": [
    {
     "data": {
      "text/plain": [
       "array([ 4,  5,  6,  7,  8,  9, 10])"
      ]
     },
     "execution_count": 9,
     "metadata": {},
     "output_type": "execute_result"
    }
   ],
   "source": [
    "# OR more succintly\n",
    "np_array[np_array>3]"
   ]
  },
  {
   "cell_type": "markdown",
   "id": "fde65959-8246-41b9-b7d9-f9b79be1febb",
   "metadata": {},
   "source": [
    "Operator:  \n",
    "- Bitwise NOT `~` to invert mask\n",
    "- Bitwise OR `|` show sth if either mask is true\n",
    "- Bitwise AND `&` show sth only if both masks are true\n",
    "\n",
    "**!!!** note the use of `()`"
   ]
  },
  {
   "cell_type": "code",
   "execution_count": 11,
   "id": "eaa38832-5fac-4dcc-8847-06f836ba9fea",
   "metadata": {},
   "outputs": [
    {
     "data": {
      "text/plain": [
       "array([1, 2, 3])"
      ]
     },
     "execution_count": 11,
     "metadata": {},
     "output_type": "execute_result"
    }
   ],
   "source": [
    "np_array[~(np_array > 3)]                 # '~' means 'NOT'"
   ]
  },
  {
   "cell_type": "code",
   "execution_count": 12,
   "id": "4f1c9e7d-9a13-4747-bc4f-05744e574a08",
   "metadata": {},
   "outputs": [
    {
     "data": {
      "text/plain": [
       "array([ 1,  2,  9, 10])"
      ]
     },
     "execution_count": 12,
     "metadata": {},
     "output_type": "execute_result"
    }
   ],
   "source": [
    "np_array[(np_array < 3) | (np_array > 8)] # '|' means 'OR'"
   ]
  },
  {
   "cell_type": "code",
   "execution_count": 13,
   "id": "7c88301f-2050-4c81-a2da-f8f3823540ac",
   "metadata": {},
   "outputs": [
    {
     "data": {
      "text/plain": [
       "array([4, 5, 6, 7])"
      ]
     },
     "execution_count": 13,
     "metadata": {},
     "output_type": "execute_result"
    }
   ],
   "source": [
    "np_array[(np_array > 3) & (np_array < 8)] # '&' means 'AND'"
   ]
  },
  {
   "attachments": {},
   "cell_type": "markdown",
   "id": "6820edc5",
   "metadata": {},
   "source": [
    "## Lists & Arrays in 2D | Indexing & Slicing"
   ]
  },
  {
   "cell_type": "code",
   "execution_count": 15,
   "id": "86acd5df-e0eb-42ca-85ab-964a9bab19ad",
   "metadata": {},
   "outputs": [],
   "source": [
    "py_list_2d = [[1, \"A\"], [2, \"B\"], [3, \"C\"], [4, \"D\"],\n",
    "              [5, \"E\"], [6, \"F\"], [7, \"G\"], [8, \"H\"],\n",
    "              [9, \"I\"], [10, \"J\"]]\n",
    "\n",
    "np_array_2d = np.array(py_list_2d)"
   ]
  },
  {
   "cell_type": "markdown",
   "id": "3fea9249-a203-4349-afdf-3055b14c3770",
   "metadata": {},
   "source": [
    "----\n",
    "single index (e.g. index 3)"
   ]
  },
  {
   "cell_type": "code",
   "execution_count": 16,
   "id": "bcfcccb7-04b6-4b43-9f26-e783f01432af",
   "metadata": {},
   "outputs": [
    {
     "data": {
      "text/plain": [
       "[4, 'D']"
      ]
     },
     "execution_count": 16,
     "metadata": {},
     "output_type": "execute_result"
    }
   ],
   "source": [
    "py_list_2d[3]"
   ]
  },
  {
   "cell_type": "code",
   "execution_count": 17,
   "id": "b16c1d35-cdf5-482a-be2a-014263b6dfa6",
   "metadata": {},
   "outputs": [
    {
     "data": {
      "text/plain": [
       "array(['4', 'D'], dtype='<U11')"
      ]
     },
     "execution_count": 17,
     "metadata": {},
     "output_type": "execute_result"
    }
   ],
   "source": [
    "np_array_2d[3]"
   ]
  },
  {
   "cell_type": "markdown",
   "id": "6331e41f-ad56-435c-a6dc-49fad4974806",
   "metadata": {},
   "source": [
    "----\n",
    "double index (e.g. first element of index 3)  \n",
    "**!!!** note array only uses single pair of square `[]`"
   ]
  },
  {
   "cell_type": "code",
   "execution_count": 18,
   "id": "fb23dfdc-fa5b-49e0-8a37-5ee3844913d2",
   "metadata": {},
   "outputs": [
    {
     "data": {
      "text/plain": [
       "4"
      ]
     },
     "execution_count": 18,
     "metadata": {},
     "output_type": "execute_result"
    }
   ],
   "source": [
    "py_list_2d[3][0]"
   ]
  },
  {
   "cell_type": "code",
   "execution_count": 20,
   "id": "91cf86d3-957c-49ac-a182-1e803507199c",
   "metadata": {},
   "outputs": [
    {
     "data": {
      "text/plain": [
       "'4'"
      ]
     },
     "execution_count": 20,
     "metadata": {},
     "output_type": "execute_result"
    }
   ],
   "source": [
    "np_array_2d[3, 0]"
   ]
  },
  {
   "cell_type": "markdown",
   "id": "5a6590b8-9c8b-452d-8ca7-c4dc4ca4e237",
   "metadata": {},
   "source": [
    "----\n",
    "find the first three elements"
   ]
  },
  {
   "cell_type": "code",
   "execution_count": 21,
   "id": "f7127c08-5322-478e-8a8f-548b5d16c470",
   "metadata": {},
   "outputs": [
    {
     "data": {
      "text/plain": [
       "[[1, 'A'], [2, 'B'], [3, 'C']]"
      ]
     },
     "execution_count": 21,
     "metadata": {},
     "output_type": "execute_result"
    }
   ],
   "source": [
    "py_list_2d[:3]"
   ]
  },
  {
   "cell_type": "code",
   "execution_count": 22,
   "id": "f59bfa50-6fef-4c0d-bbc7-8d609ba26df3",
   "metadata": {},
   "outputs": [
    {
     "data": {
      "text/plain": [
       "array([['1', 'A'],\n",
       "       ['2', 'B'],\n",
       "       ['3', 'C']], dtype='<U11')"
      ]
     },
     "execution_count": 22,
     "metadata": {},
     "output_type": "execute_result"
    }
   ],
   "source": [
    "np_array_2d[:3]"
   ]
  },
  {
   "cell_type": "markdown",
   "id": "ff20c4fc-9de9-49eb-a13f-6ba27321e6a6",
   "metadata": {},
   "source": [
    "----\n",
    "**!!!** DIFFERENCES  \n",
    "list gives the **first element** from `py_list_2d[:3]`  \n",
    "array gives the **first element of every** `np_array_2d[:3]`"
   ]
  },
  {
   "cell_type": "code",
   "execution_count": 23,
   "id": "d8956eb2-ee27-432f-baf3-71b0c0d6261a",
   "metadata": {},
   "outputs": [
    {
     "data": {
      "text/plain": [
       "[1, 'A']"
      ]
     },
     "execution_count": 23,
     "metadata": {},
     "output_type": "execute_result"
    }
   ],
   "source": [
    "py_list_2d[:3][0]"
   ]
  },
  {
   "cell_type": "code",
   "execution_count": 24,
   "id": "feea9e13-9c15-45b8-84ff-8867ace655ce",
   "metadata": {},
   "outputs": [
    {
     "data": {
      "text/plain": [
       "array(['1', '2', '3'], dtype='<U11')"
      ]
     },
     "execution_count": 24,
     "metadata": {},
     "output_type": "execute_result"
    }
   ],
   "source": [
    "np_array_2d[:3, 0]"
   ]
  },
  {
   "cell_type": "markdown",
   "id": "469ce21d-3120-49c0-8ff6-f71b61be41af",
   "metadata": {},
   "source": [
    "----\n",
    "more e.g."
   ]
  },
  {
   "cell_type": "code",
   "execution_count": 25,
   "id": "acfc587a-941a-427e-b978-154e30bd00ce",
   "metadata": {},
   "outputs": [
    {
     "data": {
      "text/plain": [
       "[4, 'D']"
      ]
     },
     "execution_count": 25,
     "metadata": {},
     "output_type": "execute_result"
    }
   ],
   "source": [
    "py_list_2d[3:6][0]"
   ]
  },
  {
   "cell_type": "code",
   "execution_count": 26,
   "id": "0c53cf8a-9d8f-4f0d-a0e6-a6891bd4a43d",
   "metadata": {},
   "outputs": [
    {
     "data": {
      "text/plain": [
       "array(['4', '5', '6'], dtype='<U11')"
      ]
     },
     "execution_count": 26,
     "metadata": {},
     "output_type": "execute_result"
    }
   ],
   "source": [
    "np_array_2d[3:6, 0]"
   ]
  },
  {
   "cell_type": "markdown",
   "id": "ca9e5e2d-e592-4fde-ab29-2f8da4ef8fe1",
   "metadata": {},
   "source": [
    "use `:` to get **everything**"
   ]
  },
  {
   "cell_type": "code",
   "execution_count": 27,
   "id": "5022dbd5-9af3-4baf-ae31-5c106bb35f0d",
   "metadata": {},
   "outputs": [
    {
     "data": {
      "text/plain": [
       "array(['1', '2', '3', '4', '5', '6', '7', '8', '9', '10'], dtype='<U11')"
      ]
     },
     "execution_count": 27,
     "metadata": {},
     "output_type": "execute_result"
    }
   ],
   "source": [
    "np_array_2d[:, 0]"
   ]
  },
  {
   "attachments": {},
   "cell_type": "markdown",
   "id": "b51d903e",
   "metadata": {},
   "source": [
    "## Growing lists"
   ]
  },
  {
   "cell_type": "markdown",
   "id": "e5a344d8-c361-4675-b22e-426e06d74999",
   "metadata": {},
   "source": [
    "NumPy arrays - efficiency in operating all at one go  \n",
    "list - easy to grow"
   ]
  },
  {
   "cell_type": "markdown",
   "id": "612d5727-2786-4081-bf22-bf75cc8d03ae",
   "metadata": {},
   "source": [
    "creating a larger list from a smaller one (polymer from monomers)"
   ]
  },
  {
   "cell_type": "code",
   "execution_count": 28,
   "id": "9c562578-9b0f-4f8b-b57c-562309622761",
   "metadata": {},
   "outputs": [
    {
     "data": {
      "text/plain": [
       "[1, 2, 1, 2, 1, 2, 1, 2, 1, 2]"
      ]
     },
     "execution_count": 28,
     "metadata": {},
     "output_type": "execute_result"
    }
   ],
   "source": [
    "x=[1, 2]*5\n",
    "x"
   ]
  },
  {
   "cell_type": "markdown",
   "id": "67fba8ca-8195-4fa8-b876-9f855b392166",
   "metadata": {},
   "source": [
    "three ways to **grow a list**:\n",
    "1. extension using `+`\n",
    "2. extension using `+=` shorthand\n",
    "3. use `append()` as `list_name.append(new_element)`\n",
    "\n",
    "**!!!**  \n",
    "`append()` **insert** the new element in, runs 1.5 times faster (see footnote) than the rest  \n",
    "`extend()` **adds** to the list"
   ]
  },
  {
   "cell_type": "code",
   "execution_count": 29,
   "id": "62605baf-441a-42b0-a6f8-66dab4017202",
   "metadata": {},
   "outputs": [
    {
     "data": {
      "text/plain": [
       "[1, 2, 3, 4]"
      ]
     },
     "execution_count": 29,
     "metadata": {},
     "output_type": "execute_result"
    }
   ],
   "source": [
    "x=[1]\n",
    "x= x + [2]\n",
    "x= x + [3]\n",
    "x= x + [4]\n",
    "x"
   ]
  },
  {
   "cell_type": "code",
   "execution_count": 30,
   "id": "2a172c1b-c6ab-496a-b55d-cca3c57a40a9",
   "metadata": {},
   "outputs": [
    {
     "data": {
      "text/plain": [
       "[1, 2, 3, 4]"
      ]
     },
     "execution_count": 30,
     "metadata": {},
     "output_type": "execute_result"
    }
   ],
   "source": [
    "x=[1]\n",
    "x+= [2]\n",
    "x+= [3]\n",
    "x+= [4]\n",
    "x"
   ]
  },
  {
   "cell_type": "code",
   "execution_count": 31,
   "id": "6f5427fe-11a4-45d1-80a8-483edd0515cb",
   "metadata": {},
   "outputs": [
    {
     "data": {
      "text/plain": [
       "[1, 2, 3, 4]"
      ]
     },
     "execution_count": 31,
     "metadata": {},
     "output_type": "execute_result"
    }
   ],
   "source": [
    "x=[1]\n",
    "x.append(2)\n",
    "x.append(3)\n",
    "x.append(4)\n",
    "x"
   ]
  },
  {
   "cell_type": "markdown",
   "id": "0c56c5b5-f0d3-4fa2-af85-54e1c00338d8",
   "metadata": {},
   "source": [
    "----\n",
    "differences between `extend()` and `append()`"
   ]
  },
  {
   "cell_type": "code",
   "execution_count": 32,
   "id": "701179ba-ee01-471a-9df3-393a91f24f70",
   "metadata": {},
   "outputs": [
    {
     "data": {
      "text/plain": [
       "[1, 2, 3, 4, 5, 6]"
      ]
     },
     "execution_count": 32,
     "metadata": {},
     "output_type": "execute_result"
    }
   ],
   "source": [
    "x=[1, 2, 3]\n",
    "x.extend([4, 5, 6])\n",
    "x"
   ]
  },
  {
   "cell_type": "code",
   "execution_count": 33,
   "id": "7012ca36-53c5-4748-b78c-3843254b2cbf",
   "metadata": {},
   "outputs": [
    {
     "data": {
      "text/plain": [
       "[1, 2, 3, [4, 5, 6]]"
      ]
     },
     "execution_count": 33,
     "metadata": {},
     "output_type": "execute_result"
    }
   ],
   "source": [
    "x=[1, 2, 3]\n",
    "x.append([4, 5, 6])\n",
    "x"
   ]
  },
  {
   "attachments": {},
   "cell_type": "markdown",
   "id": "071a7391",
   "metadata": {},
   "source": [
    "## Tuples"
   ]
  },
  {
   "cell_type": "markdown",
   "id": "20d39ce1-96cf-420f-bb6a-c1138cb5f1cc",
   "metadata": {},
   "source": [
    "**tuples**\n",
    "- similar to lists BUT\n",
    "- use `()`\n",
    "- CANNOT be changed after creation (i.e. immutable) "
   ]
  },
  {
   "cell_type": "code",
   "execution_count": 34,
   "id": "2f94952f-5032-4763-96c4-718946c08a82",
   "metadata": {},
   "outputs": [
    {
     "name": "stdout",
     "output_type": "stream",
     "text": [
      "1\n"
     ]
    }
   ],
   "source": [
    "a=(1, 2, 3)     # Define tuple\n",
    "print(a[0])     # Access data"
   ]
  },
  {
   "cell_type": "code",
   "execution_count": 35,
   "id": "20110036-ab48-4415-ad56-512df7ba85d1",
   "metadata": {},
   "outputs": [
    {
     "ename": "TypeError",
     "evalue": "'tuple' object does not support item assignment",
     "output_type": "error",
     "traceback": [
      "\u001b[1;31m---------------------------------------------------------------------------\u001b[0m",
      "\u001b[1;31mTypeError\u001b[0m                                 Traceback (most recent call last)",
      "Cell \u001b[1;32mIn[35], line 2\u001b[0m\n\u001b[0;32m      1\u001b[0m \u001b[38;5;66;03m# The following will NOT work\u001b[39;00m\n\u001b[1;32m----> 2\u001b[0m \u001b[43ma\u001b[49m\u001b[43m[\u001b[49m\u001b[38;5;241;43m0\u001b[39;49m\u001b[43m]\u001b[49m\u001b[38;5;241m=\u001b[39m\u001b[38;5;241m-\u001b[39m\u001b[38;5;241m1\u001b[39m\n\u001b[0;32m      3\u001b[0m a[\u001b[38;5;241m0\u001b[39m]\u001b[38;5;241m+\u001b[39m\u001b[38;5;241m=\u001b[39m [\u001b[38;5;241m10\u001b[39m]\n",
      "\u001b[1;31mTypeError\u001b[0m: 'tuple' object does not support item assignment"
     ]
    }
   ],
   "source": [
    "# The following will NOT work\n",
    "a[0]=-1\n",
    "a[0]+= [10]"
   ]
  },
  {
   "attachments": {},
   "cell_type": "markdown",
   "id": "b67a3178",
   "metadata": {},
   "source": [
    "## Be VERY careful when copying"
   ]
  },
  {
   "cell_type": "markdown",
   "id": "4619c26a-7b60-4abd-b7a9-6588976294e1",
   "metadata": {},
   "source": [
    "reasons for using `copy()` see [here](https://sps.nus.edu.sg/sp2273/docs/python_basics/03_storing-data/2_storing-data_good.html#sec-python-variables)"
   ]
  },
  {
   "cell_type": "code",
   "execution_count": 36,
   "id": "73a04589-59db-4573-a4be-cff3d939f52f",
   "metadata": {},
   "outputs": [],
   "source": [
    "x=[1, 2, 3]\n",
    "y=x           # DON'T do this!\n",
    "z=x           # DON'T do this!"
   ]
  },
  {
   "cell_type": "code",
   "execution_count": 38,
   "id": "62d9d830-874d-4848-87ed-4b9402b28337",
   "metadata": {},
   "outputs": [],
   "source": [
    "x=[1, 2, 3]\n",
    "y=x.copy()    # DO THIS!\n",
    "z=x.copy()"
   ]
  },
  {
   "attachments": {},
   "cell_type": "markdown",
   "id": "f0370ccb",
   "metadata": {},
   "source": [
    "# Footnotes"
   ]
  },
  {
   "cell_type": "markdown",
   "id": "77a145ff-fc5d-4e2c-8ca8-4625b36b6a35",
   "metadata": {},
   "source": [
    "The gains in speed are due to NumPy doing things to all the elements in the array in one go. For this, the data needs to be stored in a specific order in memory. Adding or removing elements hinders this optimization. When you change the size of a NumPy array, NumPy destroys the existing array and creates a new one, making it extremely inefficient."
   ]
  }
 ],
 "metadata": {
  "kernelspec": {
   "display_name": "Python 3 (ipykernel)",
   "language": "python",
   "name": "python3"
  },
  "language_info": {
   "codemirror_mode": {
    "name": "ipython",
    "version": 3
   },
   "file_extension": ".py",
   "mimetype": "text/x-python",
   "name": "python",
   "nbconvert_exporter": "python",
   "pygments_lexer": "ipython3",
   "version": "3.11.5"
  },
  "toc": {
   "base_numbering": 1,
   "nav_menu": {},
   "number_sections": true,
   "sideBar": true,
   "skip_h1_title": false,
   "title_cell": "Table of Contents",
   "title_sidebar": "Contents",
   "toc_cell": false,
   "toc_position": {},
   "toc_section_display": true,
   "toc_window_display": false
  },
  "vscode": {
   "interpreter": {
    "hash": "31f2aee4e71d21fbe5cf8b01ff0e069b9275f58929596ceb00d14d90e3e16cd6"
   }
  }
 },
 "nbformat": 4,
 "nbformat_minor": 5
}
