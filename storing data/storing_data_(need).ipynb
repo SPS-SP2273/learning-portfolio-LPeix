{
 "cells": [
  {
   "attachments": {},
   "cell_type": "markdown",
   "id": "123456",
   "metadata": {},
   "source": [
    "<div style=\"text-align:left;font-size:2em\"><span style=\"font-weight:bolder;font-size:1.25em\">SP2273 | Learning Portfolio</span><br><br><span style=\"font-weight:bold;color:darkred\">Storing Data (Need)</span></div>"
   ]
  },
  {
   "attachments": {},
   "cell_type": "markdown",
   "id": "8cc52c81",
   "metadata": {},
   "source": [
    "# Chapter Summary"
   ]
  },
  {
   "cell_type": "markdown",
   "id": "79ee6232-32dd-4903-bf72-290c90c952cf",
   "metadata": {},
   "source": [
    "- Python lists, Numpy arrays, dictionaries, tuples\n",
    "- accessing data from:\n",
    "    1. list & array, use **index** (counting start from zero)  \n",
    "       `list/array_name[index]`\n",
    "    3. dictionary, use **paired-key**  \n",
    "       `dictionary_name[key]`  \n",
    "       access all keys  \n",
    "       `dictionary_name.keys()`  \n",
    "       access all values  \n",
    "       `dictionary_name.values()`  \n",
    "- operations on lists & arrays  \n",
    "    - `len()` find number of elemetns  \n",
    "    - `.shape` find array shape  \n",
    "    - add another list, add number, multiply, sqaure  \n",
    "- list & array mathematics  \n",
    "    - Python: `sum()`, `max()`, `min()` (base Python function)\n",
    "    - Array: `.sum()`, `.max()`, `.min()`, `.mean()`, `.std()`"
   ]
  },
  {
   "attachments": {},
   "cell_type": "markdown",
   "id": "2ee2e276",
   "metadata": {},
   "source": [
    "# Lists, Arrays & Dictionaries"
   ]
  },
  {
   "cell_type": "markdown",
   "id": "21326e18-b771-428f-8b68-98765d6bd153",
   "metadata": {},
   "source": [
    "data structures can influence **how you think about data**  \n",
    "(non comprehensive) to store & manipulate data:  \n",
    "1. lists\n",
    "2. numpy arrays\n",
    "3. dictionaries\n",
    "4. tuples\n",
    "5. dataframes (Data Processing basket in the Applications part)\n",
    "6. classes (Nice chapter)"
   ]
  },
  {
   "attachments": {},
   "cell_type": "markdown",
   "id": "4ae0994f",
   "metadata": {},
   "source": [
    "## Let’s compare"
   ]
  },
  {
   "cell_type": "markdown",
   "id": "60b888b7-81c1-46bc-9835-f5ed3fe5cb9b",
   "metadata": {},
   "source": [
    "**!!!**  \n",
    "- dictionaries use a **key** and an **associated value** separated by a `:`\n",
    "- dictionary holds the real and superhero names in one structure while we need two lists (or arrays) for the same data  \n",
    "- for lists and arrays, the **order matters** (i.e. ‘Iron Man’ must be in the same position as ‘Tony Stark’ for things to work)"
   ]
  },
  {
   "cell_type": "code",
   "execution_count": 5,
   "id": "8448654e-8a93-4b05-9c1d-a05d0845dd08",
   "metadata": {},
   "outputs": [],
   "source": [
    "# Python (py) Lists\n",
    "py_super_names = [\"Black Widow\", \"Iron Man\", \"Doctor Strange\"]\n",
    "py_real_names = [\"Natasha Romanoff\", \"Tony Stark\", \"Stephen Strange\"]"
   ]
  },
  {
   "cell_type": "code",
   "execution_count": 2,
   "id": "a99d8d4b-1b00-435f-b5dd-8be028cd4eb5",
   "metadata": {},
   "outputs": [],
   "source": [
    "# Numpy (np) Arrays\n",
    "import numpy as np\n",
    "np_super_names = np.array([\"Black Widow\", \"Iron Man\", \"Doctor Strange\"])\n",
    "np_real_names = np.array([\"Natasha Romanoff\", \"Tony Stark\", \"Stephen Strange\"])"
   ]
  },
  {
   "cell_type": "code",
   "execution_count": 4,
   "id": "f80a6f1e-56a4-43da-b75a-ddf5d7878819",
   "metadata": {},
   "outputs": [],
   "source": [
    "# Dictionary\n",
    "superhero_info = {\n",
    "    \"Natasha Romanoff\": \"Black Widow\",\n",
    "    \"Tony Stark\": \"Iron Man\",\n",
    "    \"Stephen Strange\": \"Doctor Strange\"\n",
    "}"
   ]
  },
  {
   "attachments": {},
   "cell_type": "markdown",
   "id": "afb52f5a",
   "metadata": {},
   "source": [
    "## Accessing data from a list (or array)"
   ]
  },
  {
   "cell_type": "markdown",
   "id": "4c5584e5-a908-416f-a9c2-3cbcd4977458",
   "metadata": {},
   "source": [
    "Python as **zero-indexed** language = start counting at 0  \n",
    "to access data from lists & arrays, use **index** corresponding to the data's position  \n",
    "to access a particular element, specify the relevant index starting from 0"
   ]
  },
  {
   "cell_type": "code",
   "execution_count": 8,
   "id": "f7d41754-7afc-442b-a233-5a48defbf206",
   "metadata": {},
   "outputs": [],
   "source": [
    "py_super_names = [\"Black Widow\", \"Iron Man\", \"Doctor Strange\"]\n",
    "py_real_names = [\"Natasha Romanoff\", \"Tony Stark\", \"Stephen Strange\"]"
   ]
  },
  {
   "cell_type": "code",
   "execution_count": 9,
   "id": "4f7bab6e-7710-4c3e-879d-d4ee0bb0568e",
   "metadata": {},
   "outputs": [
    {
     "data": {
      "text/plain": [
       "'Natasha Romanoff'"
      ]
     },
     "execution_count": 9,
     "metadata": {},
     "output_type": "execute_result"
    }
   ],
   "source": [
    "py_real_names[0]"
   ]
  },
  {
   "cell_type": "code",
   "execution_count": 10,
   "id": "7399d388-fd0f-48c4-aac0-0d2eed58c85f",
   "metadata": {},
   "outputs": [
    {
     "data": {
      "text/plain": [
       "'Black Widow'"
      ]
     },
     "execution_count": 10,
     "metadata": {},
     "output_type": "execute_result"
    }
   ],
   "source": [
    "py_super_names[0]"
   ]
  },
  {
   "cell_type": "markdown",
   "id": "751db13c-c5b1-4f62-8a43-d3a21e55218f",
   "metadata": {},
   "source": [
    "**negative index** = count from the back of the list  \n",
    "e.g. using index -1 = give the last element  \n",
    "good so don't need to know the list size"
   ]
  },
  {
   "cell_type": "code",
   "execution_count": 11,
   "id": "995ec356-bb90-4e71-a635-c19a5faa928a",
   "metadata": {},
   "outputs": [
    {
     "data": {
      "text/plain": [
       "'Doctor Strange'"
      ]
     },
     "execution_count": 11,
     "metadata": {},
     "output_type": "execute_result"
    }
   ],
   "source": [
    "py_super_names[-1]"
   ]
  },
  {
   "attachments": {},
   "cell_type": "markdown",
   "id": "4a347852",
   "metadata": {},
   "source": [
    "## Accessing data from a dictionary"
   ]
  },
  {
   "cell_type": "markdown",
   "id": "c2eb909d-e66b-4eae-8cb3-89e28a564481",
   "metadata": {},
   "source": [
    "dictionary has a **key-value** structure  \n",
    "access value using the paired-key:"
   ]
  },
  {
   "cell_type": "code",
   "execution_count": 12,
   "id": "8688f736-1b17-4a29-adb6-6849548fc6a4",
   "metadata": {},
   "outputs": [
    {
     "data": {
      "text/plain": [
       "'Black Widow'"
      ]
     },
     "execution_count": 12,
     "metadata": {},
     "output_type": "execute_result"
    }
   ],
   "source": [
    "superhero_info = {\n",
    "    \"Natasha Romanoff\": \"Black Widow\",\n",
    "    \"Tony Stark\": \"Iron Man\",\n",
    "    \"Stephen Strange\": \"Doctor Strange\"\n",
    "}                 \n",
    "# use key\n",
    "superhero_info[\"Natasha Romanoff\"]"
   ]
  },
  {
   "cell_type": "markdown",
   "id": "6e135985-be0f-45d8-a2f4-be5cf58d182b",
   "metadata": {},
   "source": [
    "access all the keys and all the values:"
   ]
  },
  {
   "cell_type": "code",
   "execution_count": 15,
   "id": "c3e5ade9-3654-4391-b8c9-52d0559d5ea0",
   "metadata": {},
   "outputs": [
    {
     "data": {
      "text/plain": [
       "dict_values(['Black Widow', 'Iron Man', 'Doctor Strange'])"
      ]
     },
     "execution_count": 15,
     "metadata": {},
     "output_type": "execute_result"
    }
   ],
   "source": [
    "superhero_info.keys()\n",
    "superhero_info.values()"
   ]
  },
  {
   "cell_type": "markdown",
   "id": "0af82789-1e08-41a9-8db8-3c86aab08c38",
   "metadata": {},
   "source": [
    "QUESTION: why didn't it show all the keys"
   ]
  },
  {
   "attachments": {},
   "cell_type": "markdown",
   "id": "f941b3a3",
   "metadata": {},
   "source": [
    "## Higher dimensional lists"
   ]
  },
  {
   "cell_type": "markdown",
   "id": "afeaba62-352b-45a6-b090-0fec7683f155",
   "metadata": {},
   "source": [
    "instead of having two lists to store info (above), we can use 2D list (or array)  \n",
    "e.g."
   ]
  },
  {
   "cell_type": "code",
   "execution_count": 17,
   "id": "8a9bb764-8b86-4deb-b312-feae68660607",
   "metadata": {},
   "outputs": [],
   "source": [
    "py_superhero_info = [['Natasha Romanoff', 'Black Widow'],\n",
    "                     ['Tony Stark', 'Iron Man'],\n",
    "                     ['Stephen Strange', 'Doctor Strange']]"
   ]
  },
  {
   "cell_type": "markdown",
   "id": "7179c70d-b05f-49e7-9c46-65d6e3ad74a2",
   "metadata": {},
   "source": [
    "*from the tutor's comments:*  \n",
    "- however, a list can only extract values if one knows the index  \n",
    "- if one doesn't know the index but only know the key:  \n",
    "    - use if-else operations or some other function to find the index of key, then extract the corresponding value\n",
    "    - tedious & slow for human & computer\n",
    "- downside of dictionary:\n",
    "    - require more memory"
   ]
  },
  {
   "attachments": {},
   "cell_type": "markdown",
   "id": "d81b7a70",
   "metadata": {},
   "source": [
    "# Lists vs. Arrays"
   ]
  },
  {
   "cell_type": "markdown",
   "id": "7c35b39f-9360-45e4-a03a-83bca1b2c327",
   "metadata": {},
   "source": [
    "Overall:  \n",
    "an operation on a list works on the **whole** list  \n",
    "an operation on an array works on the **individual element** of the array"
   ]
  },
  {
   "attachments": {},
   "cell_type": "markdown",
   "id": "ee3be676",
   "metadata": {},
   "source": [
    "## Size"
   ]
  },
  {
   "cell_type": "markdown",
   "id": "c5df5715-9b02-4cb6-9279-91c050f4f262",
   "metadata": {},
   "source": [
    "`len()` = find **number of elements** in lists or arrays"
   ]
  },
  {
   "cell_type": "code",
   "execution_count": 18,
   "id": "5d449f3b-53e8-4543-85ef-01bf7736edf4",
   "metadata": {},
   "outputs": [],
   "source": [
    "py_list_2d = [[1, \"A\"], [2, \"B\"], [3, \"C\"], [4, \"D\"],\n",
    "              [5, \"E\"], [6, \"F\"], [7, \"G\"], [8, \"H\"],\n",
    "              [9, \"I\"], [10, \"J\"]]\n",
    "\n",
    "np_array_2d = np.array(py_list_2d)      # Reusing the Python list \n",
    "                                        # to create a NEW\n",
    "                                        # NumPy array"
   ]
  },
  {
   "cell_type": "code",
   "execution_count": 19,
   "id": "d8ff4e2d-709e-42fe-9246-79825c759b80",
   "metadata": {},
   "outputs": [
    {
     "data": {
      "text/plain": [
       "10"
      ]
     },
     "execution_count": 19,
     "metadata": {},
     "output_type": "execute_result"
    }
   ],
   "source": [
    "len(py_list_2d)"
   ]
  },
  {
   "cell_type": "code",
   "execution_count": 20,
   "id": "f326e591-2381-45ee-bb4f-e91ca185935a",
   "metadata": {},
   "outputs": [
    {
     "data": {
      "text/plain": [
       "10"
      ]
     },
     "execution_count": 20,
     "metadata": {},
     "output_type": "execute_result"
    }
   ],
   "source": [
    "len(np_array_2d)"
   ]
  },
  {
   "cell_type": "markdown",
   "id": "1877d2e6-cf40-4088-92d9-47817b3d5e35",
   "metadata": {},
   "source": [
    "`.shape` = a property/attribute of NumPy array, give **2D shape**  \n",
    "not a fxn, no `()`"
   ]
  },
  {
   "cell_type": "code",
   "execution_count": 21,
   "id": "36242837-ef85-440a-b44a-41b81dfee644",
   "metadata": {},
   "outputs": [
    {
     "data": {
      "text/plain": [
       "(10, 2)"
      ]
     },
     "execution_count": 21,
     "metadata": {},
     "output_type": "execute_result"
    }
   ],
   "source": [
    "np_array_2d.shape"
   ]
  },
  {
   "attachments": {},
   "cell_type": "markdown",
   "id": "3a8fc5f7",
   "metadata": {},
   "source": [
    "## Arrays are fussy about type"
   ]
  },
  {
   "cell_type": "markdown",
   "id": "f791e1ec-b57a-4cc7-8b77-043b61cb03d9",
   "metadata": {},
   "source": [
    "Numpy array can only hold **one type** of data  \n",
    "**!!!** numbers are converted to English when Numpy array is created from Python list"
   ]
  },
  {
   "cell_type": "markdown",
   "id": "420205de-1aee-4af8-9fa6-dc88f2d47640",
   "metadata": {},
   "source": [
    "*from tutor's comments:*  \n",
    "- Numpy will convert variables of integers, floats, and strings into the least \"restrictive\" variable in the original list  \n",
    "- **integers > floats > strings in terms of \"restrictiveness\"**  \n",
    "- the zero index element (the very well behaved 3) is converted to an integer, float, or string depending on what the other elements in the array are"
   ]
  },
  {
   "cell_type": "code",
   "execution_count": 3,
   "id": "f7bdc245-4163-4bab-82e7-6c5d80917109",
   "metadata": {},
   "outputs": [
    {
     "name": "stdout",
     "output_type": "stream",
     "text": [
      "<class 'numpy.int32'>\n",
      "<class 'numpy.float64'>\n",
      "<class 'numpy.str_'>\n"
     ]
    }
   ],
   "source": [
    "#Try the following:\n",
    "print(type(np.array([3,3])[0]))\n",
    "print(type(np.array([3,3.0])[0]))\n",
    "print(type(np.array([3,\"3\"])[0]))"
   ]
  },
  {
   "cell_type": "code",
   "execution_count": 26,
   "id": "236ad37b-774a-4cc0-90ba-bd1657081b5b",
   "metadata": {},
   "outputs": [],
   "source": [
    "py_list = [1, 1.5, 'A']\n",
    "np_array = np.array(py_list)"
   ]
  },
  {
   "cell_type": "code",
   "execution_count": 25,
   "id": "9a7a888d-e714-4cf9-b153-87e5e74add17",
   "metadata": {},
   "outputs": [
    {
     "data": {
      "text/plain": [
       "[1, 1.5, 'A']"
      ]
     },
     "execution_count": 25,
     "metadata": {},
     "output_type": "execute_result"
    }
   ],
   "source": [
    "# List\n",
    "py_list"
   ]
  },
  {
   "cell_type": "code",
   "execution_count": 27,
   "id": "bef5ed46-2bee-4830-84c5-ab94f1333603",
   "metadata": {},
   "outputs": [
    {
     "data": {
      "text/plain": [
       "array(['1', '1.5', 'A'], dtype='<U32')"
      ]
     },
     "execution_count": 27,
     "metadata": {},
     "output_type": "execute_result"
    }
   ],
   "source": [
    "# Array\n",
    "np_array"
   ]
  },
  {
   "cell_type": "markdown",
   "id": "574d4ac8-ea0b-4216-ad3d-29f4b956ab80",
   "metadata": {},
   "source": [
    "QUESTION: what does `dtype=` mean"
   ]
  },
  {
   "cell_type": "markdown",
   "id": "8bcdb137-d1f8-41f2-90d2-0c7d5a04b014",
   "metadata": {},
   "source": [
    "*from tutor's comments:*"
   ]
  },
  {
   "cell_type": "markdown",
   "id": "219b43cb-40c7-4fc6-8552-67932623ad75",
   "metadata": {},
   "source": [
    "dtype stands for data type, which is the different ways the computer actually stores the data.\n",
    "\n",
    "In reality, none of the data storage and data usage is truly automatic, instead, we need to allocate specific bits to correspond to specific things, and the computer needs to record some more bits to remember that we did this kind of allocation. The good thing about Python is that it mostly sweeps this under the rug so you don't have to handle it, but in the more low-level (as in closer to hardware, not lousier) programming languages often require you to specify the data type you want to use to store your data.\n",
    "\n",
    "In this case, dtype='<U32' means that the we want the U --> Unicode data type, of 32 --> 32 bits long, with the < sign indicating the order the bytes are stored in the 32 bits. "
   ]
  },
  {
   "attachments": {},
   "cell_type": "markdown",
   "id": "b9c42095",
   "metadata": {},
   "source": [
    "## Adding a number"
   ]
  },
  {
   "cell_type": "markdown",
   "id": "5f6928cd-4a3e-4e88-9e93-2a0daf52b8f4",
   "metadata": {},
   "source": [
    "adding number to list **won't work**  \n",
    "adding number to array **work**, but acts as increase in every number"
   ]
  },
  {
   "cell_type": "code",
   "execution_count": 28,
   "id": "2ea58557-74b2-4b09-b347-768fbd9bf8a6",
   "metadata": {},
   "outputs": [],
   "source": [
    "py_list = [1, 2, 3, 4, 5]\n",
    "np_array = np.array(py_list)         # Reusing the Python list\n",
    "                                     # to create a NEW\n",
    "                                     # NumPy array"
   ]
  },
  {
   "cell_type": "code",
   "execution_count": 29,
   "id": "aee84f53-44df-46e8-bd98-d86553761231",
   "metadata": {},
   "outputs": [
    {
     "data": {
      "text/plain": [
       "array([1, 2, 3, 4, 5])"
      ]
     },
     "execution_count": 29,
     "metadata": {},
     "output_type": "execute_result"
    }
   ],
   "source": [
    "np_array"
   ]
  },
  {
   "cell_type": "code",
   "execution_count": 31,
   "id": "16b24f11-8959-4c94-b760-9e8cbdbc04e8",
   "metadata": {},
   "outputs": [
    {
     "ename": "TypeError",
     "evalue": "can only concatenate list (not \"int\") to list",
     "output_type": "error",
     "traceback": [
      "\u001b[1;31m---------------------------------------------------------------------------\u001b[0m",
      "\u001b[1;31mTypeError\u001b[0m                                 Traceback (most recent call last)",
      "Cell \u001b[1;32mIn[31], line 2\u001b[0m\n\u001b[0;32m      1\u001b[0m \u001b[38;5;66;03m# adding number to list\u001b[39;00m\n\u001b[1;32m----> 2\u001b[0m \u001b[43mpy_list\u001b[49m\u001b[43m \u001b[49m\u001b[38;5;241;43m+\u001b[39;49m\u001b[43m \u001b[49m\u001b[38;5;241;43m10\u001b[39;49m\n",
      "\u001b[1;31mTypeError\u001b[0m: can only concatenate list (not \"int\") to list"
     ]
    }
   ],
   "source": [
    "# adding number to list\n",
    "py_list + 10"
   ]
  },
  {
   "cell_type": "code",
   "execution_count": 32,
   "id": "5343cf55-d5ae-4b32-9de4-a703c66a9669",
   "metadata": {},
   "outputs": [
    {
     "data": {
      "text/plain": [
       "array([11, 12, 13, 14, 15])"
      ]
     },
     "execution_count": 32,
     "metadata": {},
     "output_type": "execute_result"
    }
   ],
   "source": [
    "# adding number to array\n",
    "np_array + 10"
   ]
  },
  {
   "attachments": {},
   "cell_type": "markdown",
   "id": "d49a53d9",
   "metadata": {},
   "source": [
    "## Adding another list"
   ]
  },
  {
   "cell_type": "markdown",
   "id": "1bdd0670-8c6d-4268-b2af-530d5d5f9ea8",
   "metadata": {},
   "source": [
    "adding lists = combination (+)  \n",
    "adding arrays = element-wise operation"
   ]
  },
  {
   "cell_type": "code",
   "execution_count": 33,
   "id": "2f2ebaec-7dce-4cee-9ed2-0f4d976ab5c1",
   "metadata": {},
   "outputs": [],
   "source": [
    "py_list_1 = [1, 2, 3, 4, 5]\n",
    "py_list_2 = [10, 20, 30, 40, 50]\n",
    "\n",
    "np_array_1 = np.array(py_list_1)\n",
    "np_array_2 = np.array(py_list_2)"
   ]
  },
  {
   "cell_type": "code",
   "execution_count": 34,
   "id": "cb60d3a6-d751-4f8a-a8d9-f59c986854d9",
   "metadata": {},
   "outputs": [
    {
     "data": {
      "text/plain": [
       "[1, 2, 3, 4, 5, 10, 20, 30, 40, 50]"
      ]
     },
     "execution_count": 34,
     "metadata": {},
     "output_type": "execute_result"
    }
   ],
   "source": [
    "py_list_1 + py_list_2"
   ]
  },
  {
   "cell_type": "code",
   "execution_count": 35,
   "id": "ae2048a6-13df-4b91-9542-8742bc6d970d",
   "metadata": {},
   "outputs": [
    {
     "data": {
      "text/plain": [
       "array([11, 22, 33, 44, 55])"
      ]
     },
     "execution_count": 35,
     "metadata": {},
     "output_type": "execute_result"
    }
   ],
   "source": [
    "np_array_1 + np_array_2"
   ]
  },
  {
   "attachments": {},
   "cell_type": "markdown",
   "id": "a343005e",
   "metadata": {},
   "source": [
    "## Multiplying by a Number"
   ]
  },
  {
   "cell_type": "markdown",
   "id": "0d1fb476-3ec8-47cd-83bc-8f4879f4b692",
   "metadata": {},
   "source": [
    "multiplying list = makes a list grow  \n",
    "multiplying array = multiplies its elements by the number"
   ]
  },
  {
   "cell_type": "code",
   "execution_count": 36,
   "id": "f85211ab-b5d5-4e73-818e-31f376eea9d8",
   "metadata": {},
   "outputs": [],
   "source": [
    "py_list = [1, 2, 3, 4, 5]\n",
    "np_array = np.array(py_list)         "
   ]
  },
  {
   "cell_type": "code",
   "execution_count": 37,
   "id": "38d5d8e3-315a-4f84-920c-0c1e1aa02c1b",
   "metadata": {},
   "outputs": [
    {
     "data": {
      "text/plain": [
       "[1, 2, 3, 4, 5, 1, 2, 3, 4, 5]"
      ]
     },
     "execution_count": 37,
     "metadata": {},
     "output_type": "execute_result"
    }
   ],
   "source": [
    "py_list*2"
   ]
  },
  {
   "cell_type": "code",
   "execution_count": 38,
   "id": "6189e229-ca5b-43e5-9476-e692093ffb4c",
   "metadata": {},
   "outputs": [
    {
     "data": {
      "text/plain": [
       "array([ 2,  4,  6,  8, 10])"
      ]
     },
     "execution_count": 38,
     "metadata": {},
     "output_type": "execute_result"
    }
   ],
   "source": [
    "np_array*2"
   ]
  },
  {
   "attachments": {},
   "cell_type": "markdown",
   "id": "89f663d8",
   "metadata": {},
   "source": [
    "## Squaring"
   ]
  },
  {
   "cell_type": "markdown",
   "id": "b3fe22f3-2a35-4dd7-8691-1f4d55318277",
   "metadata": {},
   "source": [
    "squaring list **won't work**  \n",
    "squaring array will **square each element** in array"
   ]
  },
  {
   "cell_type": "code",
   "execution_count": 39,
   "id": "d04dbaa1-6779-4ddc-b3fd-395c4d3100ec",
   "metadata": {},
   "outputs": [],
   "source": [
    "py_list = [1, 2, 3, 4, 5]\n",
    "np_array = np.array(py_list)"
   ]
  },
  {
   "cell_type": "code",
   "execution_count": 40,
   "id": "1bba6690-296b-4166-9da5-d4181c6118e9",
   "metadata": {},
   "outputs": [
    {
     "ename": "TypeError",
     "evalue": "unsupported operand type(s) for ** or pow(): 'list' and 'int'",
     "output_type": "error",
     "traceback": [
      "\u001b[1;31m---------------------------------------------------------------------------\u001b[0m",
      "\u001b[1;31mTypeError\u001b[0m                                 Traceback (most recent call last)",
      "Cell \u001b[1;32mIn[40], line 1\u001b[0m\n\u001b[1;32m----> 1\u001b[0m \u001b[43mpy_list\u001b[49m\u001b[38;5;241;43m*\u001b[39;49m\u001b[38;5;241;43m*\u001b[39;49m\u001b[38;5;241;43m2\u001b[39;49m\n",
      "\u001b[1;31mTypeError\u001b[0m: unsupported operand type(s) for ** or pow(): 'list' and 'int'"
     ]
    }
   ],
   "source": [
    "py_list**2"
   ]
  },
  {
   "cell_type": "code",
   "execution_count": 41,
   "id": "7b8879b7-013f-4d13-a469-1cf64e6a2b6c",
   "metadata": {},
   "outputs": [
    {
     "data": {
      "text/plain": [
       "array([ 1,  4,  9, 16, 25])"
      ]
     },
     "execution_count": 41,
     "metadata": {},
     "output_type": "execute_result"
    }
   ],
   "source": [
    "np_array**2"
   ]
  },
  {
   "attachments": {},
   "cell_type": "markdown",
   "id": "ba5ca649",
   "metadata": {},
   "source": [
    "## Asking questions"
   ]
  },
  {
   "cell_type": "markdown",
   "id": "af1178e4-71d4-4d7e-bf43-6d8beb5afcaa",
   "metadata": {},
   "source": [
    "asking qns in list **won't work**  \n",
    "asking qns in array **check against each element**"
   ]
  },
  {
   "cell_type": "code",
   "execution_count": 5,
   "id": "593bc987-a478-4581-a34c-83862c7b2f60",
   "metadata": {},
   "outputs": [],
   "source": [
    "py_list = [1, 2, 3, 4, 5]\n",
    "np_array = np.array(py_list)         "
   ]
  },
  {
   "cell_type": "code",
   "execution_count": 6,
   "id": "86845d01-38dd-4fbc-9aca-5fa6b4924805",
   "metadata": {},
   "outputs": [
    {
     "data": {
      "text/plain": [
       "False"
      ]
     },
     "execution_count": 6,
     "metadata": {},
     "output_type": "execute_result"
    }
   ],
   "source": [
    "py_list == 3     # Works, but what IS the question?"
   ]
  },
  {
   "cell_type": "markdown",
   "id": "85d5958b-d60a-45d0-a9c2-4411de6d1782",
   "metadata": {},
   "source": [
    "*from tutor's comments:*  \n",
    "\n",
    "the above works but the question is:  \n",
    "is the variable *py_list* an integer of value 3?  \n",
    "since py_list is a list, it therefore is *not* an integer of value 3, $\\therefore$ the result is False"
   ]
  },
  {
   "cell_type": "code",
   "execution_count": 44,
   "id": "fa893de8-3eba-4288-84f1-1f3288bd7471",
   "metadata": {},
   "outputs": [
    {
     "ename": "TypeError",
     "evalue": "'>' not supported between instances of 'list' and 'int'",
     "output_type": "error",
     "traceback": [
      "\u001b[1;31m---------------------------------------------------------------------------\u001b[0m",
      "\u001b[1;31mTypeError\u001b[0m                                 Traceback (most recent call last)",
      "Cell \u001b[1;32mIn[44], line 1\u001b[0m\n\u001b[1;32m----> 1\u001b[0m \u001b[43mpy_list\u001b[49m\u001b[43m \u001b[49m\u001b[38;5;241;43m>\u001b[39;49m\u001b[43m \u001b[49m\u001b[38;5;241;43m3\u001b[39;49m      \u001b[38;5;66;03m# Won't work!\u001b[39;00m\n",
      "\u001b[1;31mTypeError\u001b[0m: '>' not supported between instances of 'list' and 'int'"
     ]
    }
   ],
   "source": [
    "py_list > 3      # Won't work!"
   ]
  },
  {
   "cell_type": "code",
   "execution_count": 47,
   "id": "41bdb9fa-29ff-45e3-8837-66e75b64f5ca",
   "metadata": {},
   "outputs": [
    {
     "data": {
      "text/plain": [
       "array([False, False,  True, False, False])"
      ]
     },
     "execution_count": 47,
     "metadata": {},
     "output_type": "execute_result"
    }
   ],
   "source": [
    "np_array == 3  "
   ]
  },
  {
   "cell_type": "code",
   "execution_count": 46,
   "id": "68cc91fa-bb23-4d68-ae57-75ec91bcc7be",
   "metadata": {},
   "outputs": [
    {
     "data": {
      "text/plain": [
       "array([False, False, False,  True,  True])"
      ]
     },
     "execution_count": 46,
     "metadata": {},
     "output_type": "execute_result"
    }
   ],
   "source": [
    "np_array > 3  "
   ]
  },
  {
   "cell_type": "markdown",
   "id": "9fd8f81a-d251-4057-bf22-8eab0db33693",
   "metadata": {},
   "source": [
    "False = 0  \n",
    "True = 1  \n",
    "check how many True by `sum(array_name>number)`:"
   ]
  },
  {
   "cell_type": "code",
   "execution_count": 48,
   "id": "09cc5f3c-55df-4586-be33-eda6128e18ba",
   "metadata": {},
   "outputs": [
    {
     "data": {
      "text/plain": [
       "2"
      ]
     },
     "execution_count": 48,
     "metadata": {},
     "output_type": "execute_result"
    }
   ],
   "source": [
    "sum(np_array>3)"
   ]
  },
  {
   "cell_type": "markdown",
   "id": "a4e4facb-ea4f-4711-9f73-7106f80c73e3",
   "metadata": {},
   "source": [
    "because 4 and 5 is > 3 (two Trues)"
   ]
  },
  {
   "attachments": {},
   "cell_type": "markdown",
   "id": "02e09718",
   "metadata": {},
   "source": [
    "## Mathematics"
   ]
  },
  {
   "cell_type": "markdown",
   "id": "5b14e5d2-a079-4c65-ae37-382730bbd341",
   "metadata": {},
   "source": [
    "**!!!** note the differences (`.` and `()`) btw Python function and Numpy function  \n",
    "Python: `sum()`, `max()`, `min()` (base Python function)  \n",
    "Array: `.sum()`, `.max()`, `.min()`, `.mean()`, `.std()`"
   ]
  },
  {
   "cell_type": "code",
   "execution_count": 49,
   "id": "21078b4b-f3be-4229-9f7f-61cdbe4999eb",
   "metadata": {},
   "outputs": [],
   "source": [
    "py_list = [1, 2, 3, 4, 5]\n",
    "np_array = np.array(py_list)         "
   ]
  },
  {
   "cell_type": "code",
   "execution_count": 52,
   "id": "afecb72c-70c8-4eb5-9a2e-5fc69d6a6202",
   "metadata": {},
   "outputs": [
    {
     "data": {
      "text/plain": [
       "15"
      ]
     },
     "execution_count": 52,
     "metadata": {},
     "output_type": "execute_result"
    }
   ],
   "source": [
    "sum(py_list)"
   ]
  },
  {
   "cell_type": "code",
   "execution_count": 53,
   "id": "25dc1266-7d5b-4522-9596-175eb070a2b5",
   "metadata": {},
   "outputs": [
    {
     "data": {
      "text/plain": [
       "5"
      ]
     },
     "execution_count": 53,
     "metadata": {},
     "output_type": "execute_result"
    }
   ],
   "source": [
    "max(py_list)"
   ]
  },
  {
   "cell_type": "code",
   "execution_count": 54,
   "id": "4315c209-8851-4b3d-95b3-e3533ed5c377",
   "metadata": {},
   "outputs": [
    {
     "data": {
      "text/plain": [
       "1"
      ]
     },
     "execution_count": 54,
     "metadata": {},
     "output_type": "execute_result"
    }
   ],
   "source": [
    "min(py_list)"
   ]
  },
  {
   "cell_type": "code",
   "execution_count": 55,
   "id": "8fe632de-02ff-472f-8193-da7d49e57bdd",
   "metadata": {},
   "outputs": [
    {
     "ename": "AttributeError",
     "evalue": "'list' object has no attribute 'sum'",
     "output_type": "error",
     "traceback": [
      "\u001b[1;31m---------------------------------------------------------------------------\u001b[0m",
      "\u001b[1;31mAttributeError\u001b[0m                            Traceback (most recent call last)",
      "Cell \u001b[1;32mIn[55], line 1\u001b[0m\n\u001b[1;32m----> 1\u001b[0m \u001b[43mpy_list\u001b[49m\u001b[38;5;241;43m.\u001b[39;49m\u001b[43msum\u001b[49m()   \u001b[38;5;66;03m#WON'T WORK\u001b[39;00m\n",
      "\u001b[1;31mAttributeError\u001b[0m: 'list' object has no attribute 'sum'"
     ]
    }
   ],
   "source": [
    "py_list.sum()   #WON'T WORK"
   ]
  },
  {
   "cell_type": "markdown",
   "id": "77713a14-c5b2-469e-a565-45c5e96bcc6c",
   "metadata": {},
   "source": [
    "*from tutor's comments:*  \n",
    "This is probably because list attributes try to **be applicable to whenever there is a list**. sum() as an attribute would not make sense if your list is full of non-number objects, like strings.  \n",
    "The list attributes that Python does have are:  \n",
    "`.append()`, `.extend()`, `.insert()`, `.remove()`, `.pop()`"
   ]
  },
  {
   "cell_type": "markdown",
   "id": "0292dd97-4971-4590-9a05-843b160113f6",
   "metadata": {},
   "source": [
    "----"
   ]
  },
  {
   "cell_type": "code",
   "execution_count": 56,
   "id": "4a3874a8-62e3-4cbc-89fc-6d69953d6582",
   "metadata": {},
   "outputs": [
    {
     "data": {
      "text/plain": [
       "15"
      ]
     },
     "execution_count": 56,
     "metadata": {},
     "output_type": "execute_result"
    }
   ],
   "source": [
    "np_array.sum()"
   ]
  },
  {
   "cell_type": "code",
   "execution_count": 57,
   "id": "a8bdf93f-ffec-46ee-b32f-46b0a7567bd5",
   "metadata": {},
   "outputs": [
    {
     "data": {
      "text/plain": [
       "5"
      ]
     },
     "execution_count": 57,
     "metadata": {},
     "output_type": "execute_result"
    }
   ],
   "source": [
    "np_array.max()"
   ]
  },
  {
   "cell_type": "code",
   "execution_count": 58,
   "id": "331181a9-b832-496c-8718-c2e64ca9bf34",
   "metadata": {},
   "outputs": [
    {
     "data": {
      "text/plain": [
       "1"
      ]
     },
     "execution_count": 58,
     "metadata": {},
     "output_type": "execute_result"
    }
   ],
   "source": [
    "np_array.min()"
   ]
  },
  {
   "cell_type": "code",
   "execution_count": 59,
   "id": "820d148f-f556-43dd-b9ea-4cf14186868d",
   "metadata": {},
   "outputs": [
    {
     "data": {
      "text/plain": [
       "3.0"
      ]
     },
     "execution_count": 59,
     "metadata": {},
     "output_type": "execute_result"
    }
   ],
   "source": [
    "np_array.mean()"
   ]
  },
  {
   "cell_type": "code",
   "execution_count": 60,
   "id": "1ff2dce8-b465-4f51-a75d-1fe926eb5562",
   "metadata": {},
   "outputs": [
    {
     "data": {
      "text/plain": [
       "1.4142135623730951"
      ]
     },
     "execution_count": 60,
     "metadata": {},
     "output_type": "execute_result"
    }
   ],
   "source": [
    "np_array.std()"
   ]
  }
 ],
 "metadata": {
  "kernelspec": {
   "display_name": "Python 3 (ipykernel)",
   "language": "python",
   "name": "python3"
  },
  "language_info": {
   "codemirror_mode": {
    "name": "ipython",
    "version": 3
   },
   "file_extension": ".py",
   "mimetype": "text/x-python",
   "name": "python",
   "nbconvert_exporter": "python",
   "pygments_lexer": "ipython3",
   "version": "3.11.5"
  },
  "toc": {
   "base_numbering": 1,
   "nav_menu": {},
   "number_sections": true,
   "sideBar": true,
   "skip_h1_title": false,
   "title_cell": "Table of Contents",
   "title_sidebar": "Contents",
   "toc_cell": false,
   "toc_position": {},
   "toc_section_display": true,
   "toc_window_display": false
  },
  "vscode": {
   "interpreter": {
    "hash": "31f2aee4e71d21fbe5cf8b01ff0e069b9275f58929596ceb00d14d90e3e16cd6"
   }
  }
 },
 "nbformat": 4,
 "nbformat_minor": 5
}
